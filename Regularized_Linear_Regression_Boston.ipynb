{
 "cells": [
  {
   "cell_type": "code",
   "execution_count": 1,
   "metadata": {
    "id": "jxKeaNZ2NaHd"
   },
   "outputs": [],
   "source": [
    "import pandas as pd\n",
    "import numpy as np\n",
    "from sklearn.model_selection import train_test_split\n",
    "from sklearn.linear_model import LinearRegression, Ridge, Lasso\n",
    "from sklearn.metrics import mean_squared_error, r2_score, mean_absolute_error"
   ]
  },
  {
   "cell_type": "code",
   "execution_count": 2,
   "metadata": {
    "id": "TLOX4AsDM822"
   },
   "outputs": [],
   "source": [
    "dataset = pd.read_csv(\"boston2.csv\",header=None)"
   ]
  },
  {
   "cell_type": "code",
   "execution_count": 3,
   "metadata": {
    "colab": {
     "base_uri": "https://localhost:8080/"
    },
    "id": "0UxiMroZXera",
    "outputId": "58af9792-12cb-4b07-af54-7026596a9d37"
   },
   "outputs": [
    {
     "data": {
      "text/plain": [
       "(506, 105)"
      ]
     },
     "execution_count": 3,
     "metadata": {},
     "output_type": "execute_result"
    }
   ],
   "source": [
    "dataset.shape"
   ]
  },
  {
   "cell_type": "code",
   "execution_count": 4,
   "metadata": {
    "colab": {
     "base_uri": "https://localhost:8080/",
     "height": 299
    },
    "id": "gQJs1YU2pTNW",
    "outputId": "e5bd4efa-3a03-4277-9c60-7c64d37e18cb"
   },
   "outputs": [
    {
     "data": {
      "text/html": [
       "<div>\n",
       "<style scoped>\n",
       "    .dataframe tbody tr th:only-of-type {\n",
       "        vertical-align: middle;\n",
       "    }\n",
       "\n",
       "    .dataframe tbody tr th {\n",
       "        vertical-align: top;\n",
       "    }\n",
       "\n",
       "    .dataframe thead th {\n",
       "        text-align: right;\n",
       "    }\n",
       "</style>\n",
       "<table border=\"1\" class=\"dataframe\">\n",
       "  <thead>\n",
       "    <tr style=\"text-align: right;\">\n",
       "      <th></th>\n",
       "      <th>0</th>\n",
       "      <th>1</th>\n",
       "      <th>2</th>\n",
       "      <th>3</th>\n",
       "      <th>4</th>\n",
       "      <th>5</th>\n",
       "      <th>6</th>\n",
       "      <th>7</th>\n",
       "      <th>8</th>\n",
       "      <th>9</th>\n",
       "      <th>...</th>\n",
       "      <th>95</th>\n",
       "      <th>96</th>\n",
       "      <th>97</th>\n",
       "      <th>98</th>\n",
       "      <th>99</th>\n",
       "      <th>100</th>\n",
       "      <th>101</th>\n",
       "      <th>102</th>\n",
       "      <th>103</th>\n",
       "      <th>104</th>\n",
       "    </tr>\n",
       "  </thead>\n",
       "  <tbody>\n",
       "    <tr>\n",
       "      <th>0</th>\n",
       "      <td>0.000000</td>\n",
       "      <td>0.18</td>\n",
       "      <td>0.067815</td>\n",
       "      <td>0.0</td>\n",
       "      <td>0.314815</td>\n",
       "      <td>0.577505</td>\n",
       "      <td>0.641607</td>\n",
       "      <td>0.269203</td>\n",
       "      <td>0.000000</td>\n",
       "      <td>0.208015</td>\n",
       "      <td>...</td>\n",
       "      <td>0.059749</td>\n",
       "      <td>0.208015</td>\n",
       "      <td>0.018655</td>\n",
       "      <td>0.082503</td>\n",
       "      <td>0.287234</td>\n",
       "      <td>0.025759</td>\n",
       "      <td>1.000000</td>\n",
       "      <td>0.089680</td>\n",
       "      <td>0.008042</td>\n",
       "      <td>24.0</td>\n",
       "    </tr>\n",
       "    <tr>\n",
       "      <th>1</th>\n",
       "      <td>0.000236</td>\n",
       "      <td>0.00</td>\n",
       "      <td>0.242302</td>\n",
       "      <td>0.0</td>\n",
       "      <td>0.172840</td>\n",
       "      <td>0.547998</td>\n",
       "      <td>0.782698</td>\n",
       "      <td>0.348962</td>\n",
       "      <td>0.043478</td>\n",
       "      <td>0.104962</td>\n",
       "      <td>...</td>\n",
       "      <td>0.058064</td>\n",
       "      <td>0.104962</td>\n",
       "      <td>0.021462</td>\n",
       "      <td>0.306021</td>\n",
       "      <td>0.553191</td>\n",
       "      <td>0.113111</td>\n",
       "      <td>1.000000</td>\n",
       "      <td>0.204470</td>\n",
       "      <td>0.041808</td>\n",
       "      <td>21.6</td>\n",
       "    </tr>\n",
       "    <tr>\n",
       "      <th>2</th>\n",
       "      <td>0.000236</td>\n",
       "      <td>0.00</td>\n",
       "      <td>0.242302</td>\n",
       "      <td>0.0</td>\n",
       "      <td>0.172840</td>\n",
       "      <td>0.694386</td>\n",
       "      <td>0.599382</td>\n",
       "      <td>0.348962</td>\n",
       "      <td>0.043478</td>\n",
       "      <td>0.104962</td>\n",
       "      <td>...</td>\n",
       "      <td>0.058064</td>\n",
       "      <td>0.103885</td>\n",
       "      <td>0.006661</td>\n",
       "      <td>0.306021</td>\n",
       "      <td>0.547514</td>\n",
       "      <td>0.035109</td>\n",
       "      <td>0.979580</td>\n",
       "      <td>0.062814</td>\n",
       "      <td>0.004028</td>\n",
       "      <td>34.7</td>\n",
       "    </tr>\n",
       "    <tr>\n",
       "      <th>3</th>\n",
       "      <td>0.000293</td>\n",
       "      <td>0.00</td>\n",
       "      <td>0.063050</td>\n",
       "      <td>0.0</td>\n",
       "      <td>0.150206</td>\n",
       "      <td>0.658555</td>\n",
       "      <td>0.441813</td>\n",
       "      <td>0.448545</td>\n",
       "      <td>0.086957</td>\n",
       "      <td>0.066794</td>\n",
       "      <td>...</td>\n",
       "      <td>0.043345</td>\n",
       "      <td>0.066412</td>\n",
       "      <td>0.002230</td>\n",
       "      <td>0.421118</td>\n",
       "      <td>0.645222</td>\n",
       "      <td>0.021667</td>\n",
       "      <td>0.988585</td>\n",
       "      <td>0.033197</td>\n",
       "      <td>0.001115</td>\n",
       "      <td>33.4</td>\n",
       "    </tr>\n",
       "    <tr>\n",
       "      <th>4</th>\n",
       "      <td>0.000705</td>\n",
       "      <td>0.00</td>\n",
       "      <td>0.063050</td>\n",
       "      <td>0.0</td>\n",
       "      <td>0.150206</td>\n",
       "      <td>0.687105</td>\n",
       "      <td>0.528321</td>\n",
       "      <td>0.448545</td>\n",
       "      <td>0.086957</td>\n",
       "      <td>0.066794</td>\n",
       "      <td>...</td>\n",
       "      <td>0.043345</td>\n",
       "      <td>0.066794</td>\n",
       "      <td>0.006635</td>\n",
       "      <td>0.421118</td>\n",
       "      <td>0.648936</td>\n",
       "      <td>0.064464</td>\n",
       "      <td>1.000000</td>\n",
       "      <td>0.099338</td>\n",
       "      <td>0.009868</td>\n",
       "      <td>36.2</td>\n",
       "    </tr>\n",
       "  </tbody>\n",
       "</table>\n",
       "<p>5 rows × 105 columns</p>\n",
       "</div>"
      ],
      "text/plain": [
       "        0     1         2    3         4         5         6         7    \\\n",
       "0  0.000000  0.18  0.067815  0.0  0.314815  0.577505  0.641607  0.269203   \n",
       "1  0.000236  0.00  0.242302  0.0  0.172840  0.547998  0.782698  0.348962   \n",
       "2  0.000236  0.00  0.242302  0.0  0.172840  0.694386  0.599382  0.348962   \n",
       "3  0.000293  0.00  0.063050  0.0  0.150206  0.658555  0.441813  0.448545   \n",
       "4  0.000705  0.00  0.063050  0.0  0.150206  0.687105  0.528321  0.448545   \n",
       "\n",
       "        8         9    ...       95        96        97        98        99   \\\n",
       "0  0.000000  0.208015  ...  0.059749  0.208015  0.018655  0.082503  0.287234   \n",
       "1  0.043478  0.104962  ...  0.058064  0.104962  0.021462  0.306021  0.553191   \n",
       "2  0.043478  0.104962  ...  0.058064  0.103885  0.006661  0.306021  0.547514   \n",
       "3  0.086957  0.066794  ...  0.043345  0.066412  0.002230  0.421118  0.645222   \n",
       "4  0.086957  0.066794  ...  0.043345  0.066794  0.006635  0.421118  0.648936   \n",
       "\n",
       "        100       101       102       103   104  \n",
       "0  0.025759  1.000000  0.089680  0.008042  24.0  \n",
       "1  0.113111  1.000000  0.204470  0.041808  21.6  \n",
       "2  0.035109  0.979580  0.062814  0.004028  34.7  \n",
       "3  0.021667  0.988585  0.033197  0.001115  33.4  \n",
       "4  0.064464  1.000000  0.099338  0.009868  36.2  \n",
       "\n",
       "[5 rows x 105 columns]"
      ]
     },
     "execution_count": 4,
     "metadata": {},
     "output_type": "execute_result"
    }
   ],
   "source": [
    "dataset.head()"
   ]
  },
  {
   "cell_type": "code",
   "execution_count": 5,
   "metadata": {
    "id": "EAPq7aaRNkQF"
   },
   "outputs": [],
   "source": [
    "X = dataset.iloc[:,:-1]\n",
    "Y = dataset.iloc[:,-1]\n",
    "X_train, X_test, Y_train, Y_test = train_test_split(X, Y, test_size=0.25, random_state=0)"
   ]
  },
  {
   "cell_type": "code",
   "execution_count": 6,
   "metadata": {
    "colab": {
     "base_uri": "https://localhost:8080/"
    },
    "id": "sDJjbCrbRaSH",
    "outputId": "671c8ef0-609d-4ec1-e4c1-43585cfa8997"
   },
   "outputs": [
    {
     "data": {
      "text/html": [
       "<style>#sk-container-id-1 {color: black;}#sk-container-id-1 pre{padding: 0;}#sk-container-id-1 div.sk-toggleable {background-color: white;}#sk-container-id-1 label.sk-toggleable__label {cursor: pointer;display: block;width: 100%;margin-bottom: 0;padding: 0.3em;box-sizing: border-box;text-align: center;}#sk-container-id-1 label.sk-toggleable__label-arrow:before {content: \"▸\";float: left;margin-right: 0.25em;color: #696969;}#sk-container-id-1 label.sk-toggleable__label-arrow:hover:before {color: black;}#sk-container-id-1 div.sk-estimator:hover label.sk-toggleable__label-arrow:before {color: black;}#sk-container-id-1 div.sk-toggleable__content {max-height: 0;max-width: 0;overflow: hidden;text-align: left;background-color: #f0f8ff;}#sk-container-id-1 div.sk-toggleable__content pre {margin: 0.2em;color: black;border-radius: 0.25em;background-color: #f0f8ff;}#sk-container-id-1 input.sk-toggleable__control:checked~div.sk-toggleable__content {max-height: 200px;max-width: 100%;overflow: auto;}#sk-container-id-1 input.sk-toggleable__control:checked~label.sk-toggleable__label-arrow:before {content: \"▾\";}#sk-container-id-1 div.sk-estimator input.sk-toggleable__control:checked~label.sk-toggleable__label {background-color: #d4ebff;}#sk-container-id-1 div.sk-label input.sk-toggleable__control:checked~label.sk-toggleable__label {background-color: #d4ebff;}#sk-container-id-1 input.sk-hidden--visually {border: 0;clip: rect(1px 1px 1px 1px);clip: rect(1px, 1px, 1px, 1px);height: 1px;margin: -1px;overflow: hidden;padding: 0;position: absolute;width: 1px;}#sk-container-id-1 div.sk-estimator {font-family: monospace;background-color: #f0f8ff;border: 1px dotted black;border-radius: 0.25em;box-sizing: border-box;margin-bottom: 0.5em;}#sk-container-id-1 div.sk-estimator:hover {background-color: #d4ebff;}#sk-container-id-1 div.sk-parallel-item::after {content: \"\";width: 100%;border-bottom: 1px solid gray;flex-grow: 1;}#sk-container-id-1 div.sk-label:hover label.sk-toggleable__label {background-color: #d4ebff;}#sk-container-id-1 div.sk-serial::before {content: \"\";position: absolute;border-left: 1px solid gray;box-sizing: border-box;top: 0;bottom: 0;left: 50%;z-index: 0;}#sk-container-id-1 div.sk-serial {display: flex;flex-direction: column;align-items: center;background-color: white;padding-right: 0.2em;padding-left: 0.2em;position: relative;}#sk-container-id-1 div.sk-item {position: relative;z-index: 1;}#sk-container-id-1 div.sk-parallel {display: flex;align-items: stretch;justify-content: center;background-color: white;position: relative;}#sk-container-id-1 div.sk-item::before, #sk-container-id-1 div.sk-parallel-item::before {content: \"\";position: absolute;border-left: 1px solid gray;box-sizing: border-box;top: 0;bottom: 0;left: 50%;z-index: -1;}#sk-container-id-1 div.sk-parallel-item {display: flex;flex-direction: column;z-index: 1;position: relative;background-color: white;}#sk-container-id-1 div.sk-parallel-item:first-child::after {align-self: flex-end;width: 50%;}#sk-container-id-1 div.sk-parallel-item:last-child::after {align-self: flex-start;width: 50%;}#sk-container-id-1 div.sk-parallel-item:only-child::after {width: 0;}#sk-container-id-1 div.sk-dashed-wrapped {border: 1px dashed gray;margin: 0 0.4em 0.5em 0.4em;box-sizing: border-box;padding-bottom: 0.4em;background-color: white;}#sk-container-id-1 div.sk-label label {font-family: monospace;font-weight: bold;display: inline-block;line-height: 1.2em;}#sk-container-id-1 div.sk-label-container {text-align: center;}#sk-container-id-1 div.sk-container {/* jupyter's `normalize.less` sets `[hidden] { display: none; }` but bootstrap.min.css set `[hidden] { display: none !important; }` so we also need the `!important` here to be able to override the default hidden behavior on the sphinx rendered scikit-learn.org. See: https://github.com/scikit-learn/scikit-learn/issues/21755 */display: inline-block !important;position: relative;}#sk-container-id-1 div.sk-text-repr-fallback {display: none;}</style><div id=\"sk-container-id-1\" class=\"sk-top-container\"><div class=\"sk-text-repr-fallback\"><pre>LinearRegression()</pre><b>In a Jupyter environment, please rerun this cell to show the HTML representation or trust the notebook. <br />On GitHub, the HTML representation is unable to render, please try loading this page with nbviewer.org.</b></div><div class=\"sk-container\" hidden><div class=\"sk-item\"><div class=\"sk-estimator sk-toggleable\"><input class=\"sk-toggleable__control sk-hidden--visually\" id=\"sk-estimator-id-1\" type=\"checkbox\" checked><label for=\"sk-estimator-id-1\" class=\"sk-toggleable__label sk-toggleable__label-arrow\">LinearRegression</label><div class=\"sk-toggleable__content\"><pre>LinearRegression()</pre></div></div></div></div></div>"
      ],
      "text/plain": [
       "LinearRegression()"
      ]
     },
     "execution_count": 6,
     "metadata": {},
     "output_type": "execute_result"
    }
   ],
   "source": [
    "lreg = LinearRegression()\n",
    "lreg.fit(X_train,Y_train)"
   ]
  },
  {
   "cell_type": "code",
   "execution_count": 7,
   "metadata": {
    "colab": {
     "base_uri": "https://localhost:8080/"
    },
    "id": "-emDtP6eG-61",
    "outputId": "3da4538b-018f-47e8-9b96-0bc2c6489bef"
   },
   "outputs": [
    {
     "name": "stdout",
     "output_type": "stream",
     "text": [
      "TRAIN SCORE: 0.9520519609032729\n",
      "TEST SCORE: 0.6074721959665745\n"
     ]
    }
   ],
   "source": [
    "print(\"TRAIN SCORE:\",lreg.score(X_train,Y_train))\n",
    "print(\"TEST SCORE:\",lreg.score(X_test,Y_test))"
   ]
  },
  {
   "cell_type": "code",
   "execution_count": 8,
   "metadata": {
    "colab": {
     "base_uri": "https://localhost:8080/"
    },
    "id": "r2zk5Le-mj9y",
    "outputId": "c34d81c7-63fe-4870-9952-0e71b0602fbb"
   },
   "outputs": [
    {
     "data": {
      "text/plain": [
       "array([-4.12710947e+02, -5.22432068e+01, -1.31898815e+02, -1.20041365e+01,\n",
       "       -1.55107129e+01,  2.87163342e+01,  5.47040992e+01, -4.95346659e+01,\n",
       "        2.65823927e+01,  3.70620316e+01, -1.18281674e+01, -1.80581965e+01,\n",
       "       -1.95246830e+01,  1.22025403e+01,  2.98078144e+03,  1.50084257e+03,\n",
       "        1.14187325e+02, -1.69700520e+01,  4.09613691e+01, -2.42636646e+01,\n",
       "        5.76157466e+01,  1.27812142e+03, -2.23986944e+03,  2.22825472e+02,\n",
       "       -2.18201083e+00,  4.29960320e+01, -1.33981515e+01, -1.93893485e+01,\n",
       "       -2.57541277e+00, -8.10130128e+01,  9.66019367e+00,  4.91423718e+00,\n",
       "       -8.12114800e-01, -7.64694179e+00,  3.37837099e+01, -1.14464390e+01,\n",
       "        6.85083979e+01, -1.73753604e+01,  4.28128204e+01,  1.13988209e+00,\n",
       "       -7.72696840e-01,  5.68255921e+01,  1.42875996e+01,  5.39551110e+01,\n",
       "       -3.21709644e+01,  1.92709675e+01, -1.38852338e+01,  6.06343266e+01,\n",
       "       -1.23153942e+01, -1.20041365e+01, -1.77243899e+01, -3.39868183e+01,\n",
       "        7.08999816e+00, -9.22538241e+00,  1.71980268e+01, -1.27718431e+01,\n",
       "       -1.19727581e+01,  5.73871915e+01, -1.75331865e+01,  4.10103194e+00,\n",
       "        2.93666477e+01, -1.76611772e+01,  7.84049424e+01, -3.19098015e+01,\n",
       "        4.81752461e+01, -3.95344813e+01,  5.22959055e+00,  2.19982410e+01,\n",
       "        2.56483934e+01, -4.99982035e+01,  2.91457545e+01,  8.94267456e+00,\n",
       "       -7.16599297e+01, -2.28147862e+01,  8.40660981e+00, -5.37905422e+00,\n",
       "        1.20137322e+00, -5.20877186e+00,  4.11452351e+01, -3.78250760e+01,\n",
       "       -2.67163851e+00, -2.55217108e+01, -3.33982030e+01,  4.62272693e+01,\n",
       "       -2.41509169e+01, -1.77532970e+01, -1.39723701e+01, -2.35522208e+01,\n",
       "        3.68353800e+01, -9.46890859e+01,  1.44302810e+02, -1.51158659e+01,\n",
       "       -1.49513436e+01, -2.87729579e+01, -3.17673192e+01,  2.49551594e+01,\n",
       "       -1.84384534e+01,  3.65073948e+00,  1.73101122e+00,  3.53617137e+01,\n",
       "        1.19553429e+01,  6.77025947e-01,  2.73452009e+00,  3.03720012e+01])"
      ]
     },
     "execution_count": 8,
     "metadata": {},
     "output_type": "execute_result"
    }
   ],
   "source": [
    "lreg.coef_"
   ]
  },
  {
   "cell_type": "code",
   "execution_count": 13,
   "metadata": {
    "colab": {
     "base_uri": "https://localhost:8080/"
    },
    "id": "uHN5NyL2VbR-",
    "outputId": "48912ee0-4034-4996-98e4-36ab42612a81"
   },
   "outputs": [
    {
     "name": "stdout",
     "output_type": "stream",
     "text": [
      "TRAIN mean_absolute_error : 1.5674141791450378\n",
      "TEST mean_absolute_error : 3.2258952120186457\n",
      "TRAIN root_mean_squared_error :  2.0224644898103343\n",
      "TEST root_mean_squared_error :  5.662961691693065\n",
      "TRAIN R2 score : 0.9520519609032729\n",
      "TEST R2 score : 0.6074721959665745\n"
     ]
    }
   ],
   "source": [
    "y_train_pred = lreg.predict(X_train)\n",
    "y_test_pred = lreg.predict(X_test)\n",
    "print (\"TRAIN mean_absolute_error :\",mean_absolute_error(Y_train, y_train_pred))\n",
    "print (\"TEST mean_absolute_error :\",mean_absolute_error(Y_test, y_test_pred))\n",
    "print (\"TRAIN root_mean_squared_error : \",np.sqrt(mean_squared_error(Y_train, y_train_pred)))\n",
    "print (\"TEST root_mean_squared_error : \",np.sqrt(mean_squared_error(Y_test, y_test_pred)))\n",
    "print (\"TRAIN R2 score :\",r2_score(Y_train, y_train_pred))\n",
    "print (\"TEST R2 score :\",r2_score(Y_test, y_test_pred))"
   ]
  },
  {
   "cell_type": "code",
   "execution_count": 14,
   "metadata": {
    "colab": {
     "base_uri": "https://localhost:8080/"
    },
    "id": "Xxm5cI6cGI0U",
    "outputId": "df857541-5fc9-4c23-b01f-44f13b8b98d5"
   },
   "outputs": [
    {
     "name": "stdout",
     "output_type": "stream",
     "text": [
      "TRAIN SCORE: 0.8857966585170943\n",
      "TEST SCORE: 0.7527683481744762\n"
     ]
    }
   ],
   "source": [
    "ridgeR = Ridge(alpha=1)\n",
    "ridgeR.fit(X_train,Y_train)\n",
    "print(\"TRAIN R2 SCORE:\",ridgeR.score(X_train,Y_train))\n",
    "print(\"TEST R2 SCORE:\",ridgeR.score(X_test,Y_test))"
   ]
  },
  {
   "cell_type": "code",
   "execution_count": 17,
   "metadata": {},
   "outputs": [
    {
     "name": "stdout",
     "output_type": "stream",
     "text": [
      "TRAIN mean_absolute_error : 2.1656396671236773\n",
      "TEST mean_absolute_error : 2.9626926001410037\n",
      "TRAIN root_mean_squared_error :  3.1212954928560985\n",
      "TEST root_mean_squared_error :  4.494283317645133\n"
     ]
    }
   ],
   "source": [
    "y_train_pred = ridgeR.predict(X_train)\n",
    "y_test_pred = ridgeR.predict(X_test)\n",
    "print (\"TRAIN mean_absolute_error :\",mean_absolute_error(Y_train, y_train_pred))\n",
    "print (\"TEST mean_absolute_error :\",mean_absolute_error(Y_test, y_test_pred))\n",
    "print (\"TRAIN root_mean_squared_error : \",np.sqrt(mean_squared_error(Y_train, y_train_pred)))\n",
    "print (\"TEST root_mean_squared_error : \",np.sqrt(mean_squared_error(Y_test, y_test_pred)))"
   ]
  },
  {
   "cell_type": "code",
   "execution_count": 18,
   "metadata": {
    "colab": {
     "base_uri": "https://localhost:8080/"
    },
    "id": "AQ4H6eKPmdj8",
    "outputId": "5910a405-44a0-40b8-f4f7-fce634350527"
   },
   "outputs": [
    {
     "data": {
      "text/plain": [
       "array([-1.41368408e+00, -1.55661895e+00, -1.46543409e+00, -1.26616071e-01,\n",
       "       -7.91193605e-02,  8.33161023e+00,  2.54975060e-01, -4.94145701e+00,\n",
       "        3.89862268e+00, -1.05866058e+00, -1.58433734e+00,  1.05103856e+00,\n",
       "       -4.01220799e+00,  3.33720475e-01,  3.64725471e-03, -8.49295793e-01,\n",
       "        7.44989267e-01, -1.43106836e+00, -1.62981017e+00, -1.40486294e+00,\n",
       "       -4.47314366e-02, -1.74619880e+00, -1.46715888e+00, -1.33237111e+00,\n",
       "       -1.69154625e+00, -5.06179637e-01,  2.62197591e+00, -2.09210002e+00,\n",
       "        1.95074661e-01, -2.75469422e-01,  5.11308202e+00, -1.67083739e+00,\n",
       "       -9.81863179e-02,  6.34477127e-01, -6.10008281e-01,  4.01805897e-02,\n",
       "       -1.27661999e+00, -2.91349679e+00,  3.39544035e+00,  7.91904036e-01,\n",
       "        1.35260232e+00, -4.03661265e+00,  2.32361734e+00, -3.36712926e+00,\n",
       "        1.81279204e+00,  3.01566897e+00, -1.89452070e+00, -2.50844073e-01,\n",
       "       -2.89543735e+00, -1.26616071e-01, -5.00217192e+00, -2.43951806e+00,\n",
       "        2.85071846e+00, -8.57081177e-01,  2.99141960e+00,  2.34589755e+00,\n",
       "        1.31207081e+00,  1.71845119e+00, -2.59766697e+00, -1.32370675e+00,\n",
       "       -2.81242223e+00, -2.09117058e+00, -1.08428335e+00, -2.73843625e+00,\n",
       "       -1.61989753e+00, -2.80493280e+00,  9.44641482e-01, -1.65363374e+00,\n",
       "        1.66553558e+01, -1.10980551e+00,  2.14188605e+00, -8.03855387e+00,\n",
       "       -8.59149928e+00, -7.54161099e+00,  1.02924022e+01, -7.96425897e+00,\n",
       "        7.68540742e-01, -1.85213002e+00,  2.51497387e+00, -3.42074257e-01,\n",
       "       -1.79604278e+00, -2.93048162e-01, -4.78242379e+00,  8.63283317e-01,\n",
       "        4.22361423e-01, -1.41656695e+00, -2.12023113e-01, -5.08121369e+00,\n",
       "       -5.47247509e-01,  1.53835390e+00,  1.81348033e+00,  1.97252021e+00,\n",
       "        1.81849652e+00, -7.14338697e+00,  1.10472533e+00,  1.42242216e+00,\n",
       "       -1.31494020e+00, -6.77170441e+00,  1.82204476e+00, -2.36112444e+00,\n",
       "        4.34670572e-02,  1.20886000e+00, -6.32599163e+00,  1.03600231e+01])"
      ]
     },
     "execution_count": 18,
     "metadata": {},
     "output_type": "execute_result"
    }
   ],
   "source": [
    "ridgeR.coef_"
   ]
  },
  {
   "cell_type": "code",
   "execution_count": 19,
   "metadata": {
    "colab": {
     "base_uri": "https://localhost:8080/"
    },
    "id": "w3xIvI143wkd",
    "outputId": "4b52aded-5b40-4fe8-83e9-86f76f02d8a8"
   },
   "outputs": [
    {
     "name": "stdout",
     "output_type": "stream",
     "text": [
      "TRAIN SCORE: 0.29323768991114596\n",
      "TEST SCORE: 0.20937503255272272\n"
     ]
    }
   ],
   "source": [
    "lassoR = Lasso(alpha=1)\n",
    "lassoR.fit(X_train,Y_train)\n",
    "print(\"TRAIN SCORE:\",lassoR.score(X_train,Y_train))\n",
    "print(\"TEST SCORE:\",lassoR.score(X_test,Y_test))"
   ]
  },
  {
   "cell_type": "code",
   "execution_count": null,
   "metadata": {
    "colab": {
     "base_uri": "https://localhost:8080/"
    },
    "id": "lou4OL17mxdd",
    "outputId": "5c3f6fcb-cc54-415c-9440-e123ccf4f9d4"
   },
   "outputs": [
    {
     "data": {
      "text/plain": [
       "array([ -0.        ,   0.        ,  -0.        ,   0.        ,\n",
       "        -0.        ,   0.        ,  -0.        ,   0.        ,\n",
       "        -0.        ,  -1.08752637,  -0.        ,   0.        ,\n",
       "       -10.47130775,  -0.        ,   0.        ,  -0.        ,\n",
       "         0.        ,  -0.        ,  -0.        ,  -0.        ,\n",
       "        -0.        ,  -0.        ,  -0.        ,  -0.        ,\n",
       "        -0.        ,  -0.        ,   0.        ,   0.        ,\n",
       "         0.        ,   0.        ,   0.        ,   0.        ,\n",
       "         0.        ,   0.        ,   0.        ,   0.        ,\n",
       "         0.        ,   0.        ,  -0.        ,   0.        ,\n",
       "        -0.        ,  -0.        ,  -0.        ,  -0.        ,\n",
       "        -0.        ,  -0.        ,  -0.        ,  -0.        ,\n",
       "        -0.        ,   0.        ,   0.        ,   0.        ,\n",
       "         0.        ,   0.        ,   0.        ,   0.        ,\n",
       "         0.        ,   0.        ,   0.        ,  -0.        ,\n",
       "        -0.        ,  -0.        ,  -0.        ,  -0.        ,\n",
       "        -0.        ,  -0.        ,  -0.        ,  -0.        ,\n",
       "         0.        ,   0.        ,   0.        ,  -0.        ,\n",
       "        -0.        ,  -0.        ,   3.81158263,  -0.        ,\n",
       "        -0.        ,  -0.        ,  -0.        ,  -0.        ,\n",
       "        -3.3600549 ,  -0.        ,  -0.        ,   0.        ,\n",
       "        -0.        ,  -0.        ,  -0.        ,   0.        ,\n",
       "        -0.        ,  -0.        ,  -0.        ,  -0.        ,\n",
       "        -0.        ,  -0.        ,  -0.        ,  -0.        ,\n",
       "        -0.        ,  -0.        ,  -1.2932451 ,  -0.        ,\n",
       "        -0.        ,   0.        ,  -0.        ,  -0.        ])"
      ]
     },
     "execution_count": 19,
     "metadata": {},
     "output_type": "execute_result"
    }
   ],
   "source": [
    "lassoR.coef_"
   ]
  },
  {
   "cell_type": "code",
   "execution_count": 20,
   "metadata": {
    "colab": {
     "base_uri": "https://localhost:8080/"
    },
    "id": "kjsTbipfWMgi",
    "outputId": "43fc58aa-8737-4c5a-e294-d89367797755"
   },
   "outputs": [
    {
     "name": "stdout",
     "output_type": "stream",
     "text": [
      "TRAIN mean_absolute_error : 5.512753169106904\n",
      "TEST mean_absolute_error : 5.488898627760889\n",
      "TRAIN root_mean_squared_error :  7.764833907685628\n",
      "TEST root_mean_squared_error :  8.036994551520348\n"
     ]
    }
   ],
   "source": [
    "y_train_pred = lassoR.predict(X_train)\n",
    "y_test_pred = lassoR.predict(X_test)\n",
    "print (\"TRAIN mean_absolute_error :\",mean_absolute_error(Y_train, y_train_pred))\n",
    "print (\"TEST mean_absolute_error :\",mean_absolute_error(Y_test, y_test_pred))\n",
    "print (\"TRAIN root_mean_squared_error : \",np.sqrt(mean_squared_error(Y_train, y_train_pred)))\n",
    "print (\"TEST root_mean_squared_error : \",np.sqrt(mean_squared_error(Y_test, y_test_pred)))"
   ]
  }
 ],
 "metadata": {
  "colab": {
   "provenance": []
  },
  "kernelspec": {
   "display_name": "Python 3 (ipykernel)",
   "language": "python",
   "name": "python3"
  },
  "language_info": {
   "codemirror_mode": {
    "name": "ipython",
    "version": 3
   },
   "file_extension": ".py",
   "mimetype": "text/x-python",
   "name": "python",
   "nbconvert_exporter": "python",
   "pygments_lexer": "ipython3",
   "version": "3.11.7"
  }
 },
 "nbformat": 4,
 "nbformat_minor": 4
}
