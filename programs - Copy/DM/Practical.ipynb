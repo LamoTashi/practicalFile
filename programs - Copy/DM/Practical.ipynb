{
 "cells": [
  {
   "cell_type": "markdown",
   "id": "6ed4a748-ddfd-4b77-b0d3-ec124aa30517",
   "metadata": {},
   "source": [
    "**Q1. Create a file “people.txt” with the following data:**"
   ]
  },
  {
   "cell_type": "raw",
   "id": "00adac62-79d1-40be-a5f0-e8a2031a4cd9",
   "metadata": {},
   "source": [
    "Age agegroup height status    yearsmarried\n",
    "21  adult    6.0    single    -1\n",
    "2   child    3      married   0\n",
    "18  adult    5.7    married   20\n",
    "221 elderly  5      widowed   2\n",
    "34  child    -7     married   3"
   ]
  },
  {
   "cell_type": "markdown",
   "id": "953fb82e-e44d-455d-bddd-35d11ec0f70f",
   "metadata": {},
   "source": [
    "**i) Read the data from the file “people.txt”.**"
   ]
  },
  {
   "cell_type": "code",
   "execution_count": 2,
   "id": "7e1c3966-f4fc-4ad9-bb08-7bf89a4f370b",
   "metadata": {},
   "outputs": [],
   "source": [
    "import numpy as np\n",
    "import pandas as pd\n",
    "import matplotlib.pyplot as plt"
   ]
  },
  {
   "cell_type": "code",
   "execution_count": 3,
   "id": "23a1b45f-9d3f-4629-a4fc-00fda1244d1d",
   "metadata": {},
   "outputs": [
    {
     "name": "stdout",
     "output_type": "stream",
     "text": [
      "Age agegroup height status yearsmarried\n",
      "\n",
      "21 adult 6.0 single -1\n",
      "\n",
      "2 child 3 married 0\n",
      "\n",
      "18 adult 5.7 married 20\n",
      "\n",
      "221 elderly 5 widowed 2\n",
      "\n",
      "34 child -7 married 3\n"
     ]
    }
   ],
   "source": [
    "data = open('people.txt','r')\n",
    "for line in data.readlines():\n",
    "    if line != '\\n':\n",
    "        print(line)"
   ]
  },
  {
   "cell_type": "code",
   "execution_count": 4,
   "id": "8f098624-9a53-446b-b3b5-9189968b7831",
   "metadata": {},
   "outputs": [
    {
     "data": {
      "text/html": [
       "<div>\n",
       "<style scoped>\n",
       "    .dataframe tbody tr th:only-of-type {\n",
       "        vertical-align: middle;\n",
       "    }\n",
       "\n",
       "    .dataframe tbody tr th {\n",
       "        vertical-align: top;\n",
       "    }\n",
       "\n",
       "    .dataframe thead th {\n",
       "        text-align: right;\n",
       "    }\n",
       "</style>\n",
       "<table border=\"1\" class=\"dataframe\">\n",
       "  <thead>\n",
       "    <tr style=\"text-align: right;\">\n",
       "      <th></th>\n",
       "      <th>Age</th>\n",
       "      <th>agegroup</th>\n",
       "      <th>height</th>\n",
       "      <th>status</th>\n",
       "      <th>yearsmarried</th>\n",
       "    </tr>\n",
       "  </thead>\n",
       "  <tbody>\n",
       "    <tr>\n",
       "      <th>0</th>\n",
       "      <td>21</td>\n",
       "      <td>adult</td>\n",
       "      <td>6.0</td>\n",
       "      <td>single</td>\n",
       "      <td>-1</td>\n",
       "    </tr>\n",
       "    <tr>\n",
       "      <th>1</th>\n",
       "      <td>2</td>\n",
       "      <td>child</td>\n",
       "      <td>3.0</td>\n",
       "      <td>married</td>\n",
       "      <td>0</td>\n",
       "    </tr>\n",
       "    <tr>\n",
       "      <th>2</th>\n",
       "      <td>18</td>\n",
       "      <td>adult</td>\n",
       "      <td>5.7</td>\n",
       "      <td>married</td>\n",
       "      <td>20</td>\n",
       "    </tr>\n",
       "    <tr>\n",
       "      <th>3</th>\n",
       "      <td>221</td>\n",
       "      <td>elderly</td>\n",
       "      <td>5.0</td>\n",
       "      <td>widowed</td>\n",
       "      <td>2</td>\n",
       "    </tr>\n",
       "    <tr>\n",
       "      <th>4</th>\n",
       "      <td>34</td>\n",
       "      <td>child</td>\n",
       "      <td>-7.0</td>\n",
       "      <td>married</td>\n",
       "      <td>3</td>\n",
       "    </tr>\n",
       "  </tbody>\n",
       "</table>\n",
       "</div>"
      ],
      "text/plain": [
       "   Age agegroup  height   status  yearsmarried\n",
       "0   21    adult     6.0   single            -1\n",
       "1    2    child     3.0  married             0\n",
       "2   18    adult     5.7  married            20\n",
       "3  221  elderly     5.0  widowed             2\n",
       "4   34    child    -7.0  married             3"
      ]
     },
     "execution_count": 4,
     "metadata": {},
     "output_type": "execute_result"
    }
   ],
   "source": [
    "df = pd.read_csv('people.txt',sep=\" \",header=0)\n",
    "df"
   ]
  },
  {
   "cell_type": "markdown",
   "id": "710da4a7-deed-4ac4-b0f5-835e6a992620",
   "metadata": {},
   "source": [
    "**ii) Create a ruleset E that contain rules to check for the following conditions:**\n",
    "1. The age should be in the range 0-150.\n",
    "2. The age should be greater than yearsmarried.\n",
    "3. The status should be married or single or widowed.\n",
    "4. If age is less than 18 the agegroup should be child, if age is between 18 and 65 the agegroup should be adult, if age is more than 65 the agegroup should be elderly."
   ]
  },
  {
   "cell_type": "code",
   "execution_count": 7,
   "id": "c8f95fc0-9110-40b0-ac6e-cce1d3f4a49e",
   "metadata": {},
   "outputs": [],
   "source": [
    "def ruleset(df):\n",
    "    df['Rule1'] = df['Age'].apply(lambda x: x in range(0, 150))\n",
    "    df['Rule2'] = df.apply(lambda x: x.Age > x.yearsmarried, axis=1)\n",
    "    df['Rule3'] = df['status'].apply(lambda x: x in {'married', 'single', 'widowed'})\n",
    "    df['Rule4'] = df.apply(lambda x: (x.Age < 18 and x.agegroup == 'child') or (18 <= x.Age <= 65 and x.agegroup == 'adult') or (x.Age > 65 and x.agegroup == 'elderly'), axis=1)"
   ]
  },
  {
   "cell_type": "markdown",
   "id": "39f66c93-28df-4eef-985d-cccc887094e1",
   "metadata": {},
   "source": [
    "**iii) Check whether ruleset E is violated by the data in the file people.txt.**"
   ]
  },
  {
   "cell_type": "code",
   "execution_count": 8,
   "id": "cdbf072f-9a0a-4065-a726-6616e140081c",
   "metadata": {},
   "outputs": [
    {
     "data": {
      "text/html": [
       "<div>\n",
       "<style scoped>\n",
       "    .dataframe tbody tr th:only-of-type {\n",
       "        vertical-align: middle;\n",
       "    }\n",
       "\n",
       "    .dataframe tbody tr th {\n",
       "        vertical-align: top;\n",
       "    }\n",
       "\n",
       "    .dataframe thead th {\n",
       "        text-align: right;\n",
       "    }\n",
       "</style>\n",
       "<table border=\"1\" class=\"dataframe\">\n",
       "  <thead>\n",
       "    <tr style=\"text-align: right;\">\n",
       "      <th></th>\n",
       "      <th>Age</th>\n",
       "      <th>agegroup</th>\n",
       "      <th>height</th>\n",
       "      <th>status</th>\n",
       "      <th>yearsmarried</th>\n",
       "      <th>Rule1</th>\n",
       "      <th>Rule2</th>\n",
       "      <th>Rule3</th>\n",
       "      <th>Rule4</th>\n",
       "    </tr>\n",
       "  </thead>\n",
       "  <tbody>\n",
       "    <tr>\n",
       "      <th>0</th>\n",
       "      <td>21</td>\n",
       "      <td>adult</td>\n",
       "      <td>6.0</td>\n",
       "      <td>single</td>\n",
       "      <td>-1</td>\n",
       "      <td>True</td>\n",
       "      <td>True</td>\n",
       "      <td>True</td>\n",
       "      <td>True</td>\n",
       "    </tr>\n",
       "    <tr>\n",
       "      <th>1</th>\n",
       "      <td>2</td>\n",
       "      <td>child</td>\n",
       "      <td>3.0</td>\n",
       "      <td>married</td>\n",
       "      <td>0</td>\n",
       "      <td>True</td>\n",
       "      <td>True</td>\n",
       "      <td>True</td>\n",
       "      <td>True</td>\n",
       "    </tr>\n",
       "    <tr>\n",
       "      <th>2</th>\n",
       "      <td>18</td>\n",
       "      <td>adult</td>\n",
       "      <td>5.7</td>\n",
       "      <td>married</td>\n",
       "      <td>20</td>\n",
       "      <td>True</td>\n",
       "      <td>False</td>\n",
       "      <td>True</td>\n",
       "      <td>True</td>\n",
       "    </tr>\n",
       "    <tr>\n",
       "      <th>3</th>\n",
       "      <td>221</td>\n",
       "      <td>elderly</td>\n",
       "      <td>5.0</td>\n",
       "      <td>widowed</td>\n",
       "      <td>2</td>\n",
       "      <td>False</td>\n",
       "      <td>True</td>\n",
       "      <td>True</td>\n",
       "      <td>True</td>\n",
       "    </tr>\n",
       "    <tr>\n",
       "      <th>4</th>\n",
       "      <td>34</td>\n",
       "      <td>child</td>\n",
       "      <td>-7.0</td>\n",
       "      <td>married</td>\n",
       "      <td>3</td>\n",
       "      <td>True</td>\n",
       "      <td>True</td>\n",
       "      <td>True</td>\n",
       "      <td>False</td>\n",
       "    </tr>\n",
       "  </tbody>\n",
       "</table>\n",
       "</div>"
      ],
      "text/plain": [
       "   Age agegroup  height   status  yearsmarried  Rule1  Rule2  Rule3  Rule4\n",
       "0   21    adult     6.0   single            -1   True   True   True   True\n",
       "1    2    child     3.0  married             0   True   True   True   True\n",
       "2   18    adult     5.7  married            20   True  False   True   True\n",
       "3  221  elderly     5.0  widowed             2  False   True   True   True\n",
       "4   34    child    -7.0  married             3   True   True   True  False"
      ]
     },
     "execution_count": 8,
     "metadata": {},
     "output_type": "execute_result"
    }
   ],
   "source": [
    "ruleset(df)\n",
    "df"
   ]
  },
  {
   "cell_type": "markdown",
   "id": "cb885b9c-e97d-4f5c-affe-1056c88946e3",
   "metadata": {},
   "source": [
    "**iv) Summarize the results obtained in part (iii)**"
   ]
  },
  {
   "cell_type": "markdown",
   "id": "6cf22b0b-dc3c-4ecd-b264-bbb22953de01",
   "metadata": {},
   "source": [
    "1. Rule 1 : The age should be in the range 0-150.\n",
    "    - violated in row 3 where Age = 221\n",
    "2. Rule 2 : The age should be greater than yearsmarried.\n",
    "    - violated in row 2 where Age(i.e. 18) < yearsmarried(i.e. 20)\n",
    "3. Rule 3 : The status should be married or single or widowed. \n",
    "    - Not violated\n",
    "4. Rule 4 : If age is less than 18 the agegroup should be child, if age is between 18 and 65 the agegroup should be adult, if age is more than 65 the agegroup should be elderly.\n",
    "    - violated in row 4 where Age = 34 and agegroup = 'child'"
   ]
  },
  {
   "cell_type": "markdown",
   "id": "2315fdd9-2c60-4e46-b07f-402ce51644e1",
   "metadata": {},
   "source": [
    "**v) Visualize the results obtained in part (iii)**"
   ]
  },
  {
   "cell_type": "code",
   "execution_count": 11,
   "id": "d8449fb8-2568-4b36-bff6-df0583466fca",
   "metadata": {},
   "outputs": [
    {
     "data": {
      "image/png": "[encoded data removed]",
      "text/plain": [
       "<Figure size 640x480 with 1 Axes>"
      ]
     },
     "metadata": {},
     "output_type": "display_data"
    }
   ],
   "source": [
    "summary = df.loc[:, 'Rule1':'Rule4'].replace({True:1, False:0})\n",
    "summary.plot(kind='bar')\n",
    "plt.show()"
   ]
  },
  {
   "cell_type": "markdown",
   "id": "008ed706-1153-4240-aefd-e3c2761baff7",
   "metadata": {},
   "source": [
    "**Q2. Perform the following preprocessing tasks on the dirty_iris dataset.**"
   ]
  },
  {
   "cell_type": "code",
   "execution_count": 12,
   "id": "bf5bcb5c-189c-480c-aed9-c8de40cc71e8",
   "metadata": {},
   "outputs": [
    {
     "data": {
      "text/html": [
       "<div>\n",
       "<style scoped>\n",
       "    .dataframe tbody tr th:only-of-type {\n",
       "        vertical-align: middle;\n",
       "    }\n",
       "\n",
       "    .dataframe tbody tr th {\n",
       "        vertical-align: top;\n",
       "    }\n",
       "\n",
       "    .dataframe thead th {\n",
       "        text-align: right;\n",
       "    }\n",
       "</style>\n",
       "<table border=\"1\" class=\"dataframe\">\n",
       "  <thead>\n",
       "    <tr style=\"text-align: right;\">\n",
       "      <th></th>\n",
       "      <th>Sepal.Length</th>\n",
       "      <th>Sepal.Width</th>\n",
       "      <th>Petal.Length</th>\n",
       "      <th>Petal.Width</th>\n",
       "      <th>Species</th>\n",
       "    </tr>\n",
       "  </thead>\n",
       "  <tbody>\n",
       "    <tr>\n",
       "      <th>0</th>\n",
       "      <td>6.4</td>\n",
       "      <td>3.2</td>\n",
       "      <td>4.5</td>\n",
       "      <td>1.5</td>\n",
       "      <td>versicolor</td>\n",
       "    </tr>\n",
       "    <tr>\n",
       "      <th>1</th>\n",
       "      <td>6.3</td>\n",
       "      <td>3.3</td>\n",
       "      <td>6.0</td>\n",
       "      <td>2.5</td>\n",
       "      <td>virginica</td>\n",
       "    </tr>\n",
       "    <tr>\n",
       "      <th>2</th>\n",
       "      <td>6.2</td>\n",
       "      <td>NaN</td>\n",
       "      <td>5.4</td>\n",
       "      <td>2.3</td>\n",
       "      <td>virginica</td>\n",
       "    </tr>\n",
       "    <tr>\n",
       "      <th>3</th>\n",
       "      <td>5.0</td>\n",
       "      <td>3.4</td>\n",
       "      <td>1.6</td>\n",
       "      <td>0.4</td>\n",
       "      <td>setosa</td>\n",
       "    </tr>\n",
       "    <tr>\n",
       "      <th>4</th>\n",
       "      <td>5.7</td>\n",
       "      <td>2.6</td>\n",
       "      <td>3.5</td>\n",
       "      <td>1.0</td>\n",
       "      <td>versicolor</td>\n",
       "    </tr>\n",
       "  </tbody>\n",
       "</table>\n",
       "</div>"
      ],
      "text/plain": [
       "   Sepal.Length  Sepal.Width  Petal.Length  Petal.Width     Species\n",
       "0           6.4          3.2           4.5          1.5  versicolor\n",
       "1           6.3          3.3           6.0          2.5   virginica\n",
       "2           6.2          NaN           5.4          2.3   virginica\n",
       "3           5.0          3.4           1.6          0.4      setosa\n",
       "4           5.7          2.6           3.5          1.0  versicolor"
      ]
     },
     "execution_count": 12,
     "metadata": {},
     "output_type": "execute_result"
    }
   ],
   "source": [
    "df = pd.read_csv(\"https://raw.githubusercontent.com/edwindj/datacleaning/master/data/dirty_iris.csv\")\n",
    "df.head()"
   ]
  },
  {
   "cell_type": "markdown",
   "id": "88495084-30db-442e-97d2-d89e6998cdd9",
   "metadata": {},
   "source": [
    "**i) Calculate the number and percentage of observations that are complete.**"
   ]
  },
  {
   "cell_type": "code",
   "execution_count": 16,
   "id": "78b322b3-f303-49ff-91fd-3ada34570e73",
   "metadata": {},
   "outputs": [
    {
     "name": "stdout",
     "output_type": "stream",
     "text": [
      "Number of observations that are complete:  96\n",
      "Percentage of observations that are complete:  64.0 %\n"
     ]
    }
   ],
   "source": [
    "complete_obv = len(df.dropna())\n",
    "print(\"Number of observations that are complete: \", complete_obv)\n",
    "complete_percent = (len(df.dropna())/len(df)*100)\n",
    "print(\"Percentage of observations that are complete: \", complete_percent,\"%\")"
   ]
  },
  {
   "cell_type": "markdown",
   "id": "e13f34f5-b90c-4907-b84d-1d84998225c2",
   "metadata": {},
   "source": [
    "**ii)Replace all the special values in data with NA**"
   ]
  },
  {
   "cell_type": "code",
   "execution_count": 17,
   "id": "29d960e0-bd33-462c-8f0a-620850a3beaf",
   "metadata": {},
   "outputs": [],
   "source": [
    "# df.fillna(value='NA', inplace=True)"
   ]
  },
  {
   "cell_type": "markdown",
   "id": "b6067552-5d47-4cb1-914d-509527481cb3",
   "metadata": {},
   "source": [
    "**iii)Define these rules in a separate text file and read them.**"
   ]
  },
  {
   "cell_type": "markdown",
   "id": "66a2d5cf-be01-4594-ad60-0475904c7b39",
   "metadata": {},
   "source": [
    "**Species should be one of the following values: setosa, versicolor or virginica**"
   ]
  },
  {
   "cell_type": "code",
   "execution_count": 20,
   "id": "79bdd226-571c-44e1-85ec-ad3f23a381c9",
   "metadata": {},
   "outputs": [],
   "source": [
    "def check_species(df):\n",
    "    x = df['Species'].apply(lambda x: x in {'setosa', 'versicolor', 'virginica'})\n",
    "    violations = len(df) - np.sum(x)\n",
    "\n",
    "    if violations == 0:\n",
    "        print('No Violation.')\n",
    "    else:\n",
    "        print('Violation: Invalid Species Name.')\n",
    "        print(f'Violations: {violations}')\n",
    "\n",
    "    return violations"
   ]
  },
  {
   "cell_type": "code",
   "execution_count": 21,
   "id": "fa7fba6d-a8df-4a33-ade4-19f7d57a743d",
   "metadata": {},
   "outputs": [
    {
     "name": "stdout",
     "output_type": "stream",
     "text": [
      "No Violation.\n"
     ]
    }
   ],
   "source": [
    "species_violations = check_species(df)"
   ]
  },
  {
   "cell_type": "markdown",
   "id": "48312c73-dc63-4460-b8dd-d99aca8a17bb",
   "metadata": {},
   "source": [
    "**All measured numerical properties of an iris should be positive**"
   ]
  },
  {
   "cell_type": "code",
   "execution_count": 24,
   "id": "899cefb5-1151-49c7-9f28-8f65e36704a7",
   "metadata": {},
   "outputs": [],
   "source": [
    "def check_all_positive(df):\n",
    "    x = df.loc[:, 'Sepal.Length':'Petal.Width'].apply(lambda x: x > 0).values\n",
    "    x = x.reshape(-1)\n",
    "    violations = len(df) * 4 - np.sum(x)\n",
    "\n",
    "    if violations == 0:\n",
    "        print('No Violation.')\n",
    "    else:\n",
    "        print('Violation: Non-positive Numerical Property.')\n",
    "        print(f'Violations: {violations}')\n",
    "\n",
    "    return violations"
   ]
  },
  {
   "cell_type": "code",
   "execution_count": 25,
   "id": "f2ad6665-0802-48f8-b70b-e1979aafab06",
   "metadata": {},
   "outputs": [
    {
     "name": "stdout",
     "output_type": "stream",
     "text": [
      "Violation: Non-positive Numerical Property.\n",
      "Violations: 62\n"
     ]
    }
   ],
   "source": [
    "non_positive_violations = check_all_positive(df)"
   ]
  },
  {
   "cell_type": "markdown",
   "id": "4f2c6a08-f4f2-4d0b-b3d9-15d11ce8fb32",
   "metadata": {},
   "source": [
    "**The petal length of an iris is at least 2 times its petal width.**"
   ]
  },
  {
   "cell_type": "code",
   "execution_count": 26,
   "id": "a44093ab-49fa-4890-8ff7-dc6234fb177f",
   "metadata": {},
   "outputs": [],
   "source": [
    "def check_petal_length(df):\n",
    "    x = df['Petal.Length'] >= 2 * df['Petal.Width']\n",
    "    violations = x.value_counts().loc[False]\n",
    "\n",
    "    if violations == 0:\n",
    "        print('No Violation.')\n",
    "    else:\n",
    "        print('Violation: Petal Length is less than twice its Petal Width.')\n",
    "        print(f'Violations: {violations}')\n",
    "\n",
    "    return violations"
   ]
  },
  {
   "cell_type": "code",
   "execution_count": 27,
   "id": "774bb250-fd73-46bd-adb2-63c5b13455e4",
   "metadata": {},
   "outputs": [
    {
     "name": "stdout",
     "output_type": "stream",
     "text": [
      "Violation: Petal Length is less than twice its Petal Width.\n",
      "Violations: 34\n"
     ]
    }
   ],
   "source": [
    "petal_length_violations = check_petal_length(df)"
   ]
  },
  {
   "cell_type": "markdown",
   "id": "95e90308-130c-4d8b-8f7f-0d4f284e6773",
   "metadata": {},
   "source": [
    "**The sepal length of an iris cannot exceed 30 cm.**"
   ]
  },
  {
   "cell_type": "code",
   "execution_count": 28,
   "id": "9f3696f1-7745-4196-9837-bce121f781c3",
   "metadata": {},
   "outputs": [],
   "source": [
    "def check_sepal_length(df):\n",
    "    x = df['Sepal.Length'] <= 30\n",
    "    violations = x.value_counts().loc[False]\n",
    "\n",
    "    if violations == 0:\n",
    "        print('No Violation.')\n",
    "    else:\n",
    "        print('Violation: Sepal Length exceeded the value of 30cms.')\n",
    "        print(f'Violations: {violations}')\n",
    "\n",
    "    return violations"
   ]
  },
  {
   "cell_type": "code",
   "execution_count": 29,
   "id": "1e2760de-da53-4dde-94c2-3cd12ab1f39d",
   "metadata": {},
   "outputs": [
    {
     "name": "stdout",
     "output_type": "stream",
     "text": [
      "Violation: Sepal Length exceeded the value of 30cms.\n",
      "Violations: 12\n"
     ]
    }
   ],
   "source": [
    "sepal_length_violations = check_sepal_length(df)"
   ]
  },
  {
   "cell_type": "markdown",
   "id": "1ef33c0e-ed86-42d3-819d-5b921af2ce0d",
   "metadata": {},
   "source": [
    "**The sepals of an iris are longer than its petals.**"
   ]
  },
  {
   "cell_type": "code",
   "execution_count": 30,
   "id": "dfc2a80c-cff6-40c7-8a10-ea64b34c3707",
   "metadata": {},
   "outputs": [],
   "source": [
    "def check_sepal_petal_length(df):\n",
    "    x = df['Sepal.Length'] > df['Petal.Length']\n",
    "    violations = x.value_counts().loc[False]\n",
    "\n",
    "    if violations == 0:\n",
    "        print('No Violation.')\n",
    "    else:\n",
    "        print('Violation: Sepal Length are less than Petal Length.')\n",
    "        print(f'Violations: {violations}')\n",
    "\n",
    "    return violations"
   ]
  },
  {
   "cell_type": "code",
   "execution_count": 31,
   "id": "0c129b99-7b42-4d79-9568-457142cdf034",
   "metadata": {},
   "outputs": [
    {
     "name": "stdout",
     "output_type": "stream",
     "text": [
      "Violation: Sepal Length are less than Petal Length.\n",
      "Violations: 30\n"
     ]
    }
   ],
   "source": [
    "sepal_petal_violations = check_sepal_petal_length(df)"
   ]
  },
  {
   "cell_type": "markdown",
   "id": "ffe5cfa0-fc84-42b2-a56b-902aa185f412",
   "metadata": {},
   "source": [
    "**iv) Determine how often each rule is broken (violatedEdits). Also summarize and plot the result.**"
   ]
  },
  {
   "cell_type": "code",
   "execution_count": 32,
   "id": "f6e82386-303e-4bad-9e18-dae5b8062638",
   "metadata": {},
   "outputs": [
    {
     "data": {
      "image/png": "[encoded data removed]",
      "text/plain": [
       "<Figure size 1300x500 with 1 Axes>"
      ]
     },
     "metadata": {},
     "output_type": "display_data"
    }
   ],
   "source": [
    "rule_break_frequency = {\n",
    "    'Species Violations': species_violations,\n",
    "    'Non-Positive Violations': non_positive_violations,\n",
    "    'Petal Length Violations': petal_length_violations,\n",
    "    'Sepal Length Violations': sepal_length_violations,\n",
    "    'Sepal Petal Violations': sepal_petal_violations\n",
    "}\n",
    "\n",
    "fig = plt.figure(figsize=(13, 5))\n",
    "plt.bar(rule_break_frequency.keys(), rule_break_frequency.values())\n",
    "plt.show()"
   ]
  },
  {
   "cell_type": "markdown",
   "id": "37e205fd-925a-42fb-b7f0-81f5f3b9e5b6",
   "metadata": {},
   "source": [
    "**v) Find outliers in sepal length using boxplot**"
   ]
  },
  {
   "cell_type": "code",
   "execution_count": 40,
   "id": "3b2c46e9-8266-4eb4-8636-6e9d182d6c5a",
   "metadata": {},
   "outputs": [
    {
     "data": {
      "image/png": "[encoded data removed]",
      "text/plain": [
       "<Figure size 640x480 with 1 Axes>"
      ]
     },
     "metadata": {},
     "output_type": "display_data"
    }
   ],
   "source": [
    "df.boxplot(column='Sepal.Length', return_type='axes');"
   ]
  },
  {
   "cell_type": "markdown",
   "id": "d25cc6f3-6d82-4b58-a9b4-946254b3f367",
   "metadata": {},
   "source": [
    "**Q3. Load the data from wine dataset. Check whether all attributes are standardized or not (mean is 0 and standard deviation is 1). If not, standardize the attributes. Do the same with Iris dataset.**"
   ]
  },
  {
   "cell_type": "code",
   "execution_count": 41,
   "id": "21f739b8-bb1f-4b31-9897-f994373305c8",
   "metadata": {},
   "outputs": [],
   "source": [
    "from sklearn.preprocessing import StandardScaler\n",
    "from sklearn.datasets import load_wine, load_iris"
   ]
  },
  {
   "cell_type": "markdown",
   "id": "0bf14ee1-912b-4265-b15d-5a97296163d2",
   "metadata": {},
   "source": [
    "**Wine Dataset**"
   ]
  },
  {
   "cell_type": "code",
   "execution_count": 42,
   "id": "e4a338fd-2830-4806-bc14-94b8f149d0f4",
   "metadata": {},
   "outputs": [],
   "source": [
    "df = load_wine()\n",
    "X = df.data"
   ]
  },
  {
   "cell_type": "markdown",
   "id": "2873090e-52a2-42c9-be24-2506448eea41",
   "metadata": {},
   "source": [
    "**Mean and standard deviation along the columns.**"
   ]
  },
  {
   "cell_type": "code",
   "execution_count": 43,
   "id": "c6b6dd0d-171c-4a37-8767-864fe54b8fb2",
   "metadata": {},
   "outputs": [
    {
     "data": {
      "text/plain": [
       "array([1.30006180e+01, 2.33634831e+00, 2.36651685e+00, 1.94949438e+01,\n",
       "       9.97415730e+01, 2.29511236e+00, 2.02926966e+00, 3.61853933e-01,\n",
       "       1.59089888e+00, 5.05808988e+00, 9.57449438e-01, 2.61168539e+00,\n",
       "       7.46893258e+02])"
      ]
     },
     "execution_count": 43,
     "metadata": {},
     "output_type": "execute_result"
    }
   ],
   "source": [
    "X.mean(axis=0)"
   ]
  },
  {
   "cell_type": "code",
   "execution_count": 44,
   "id": "3b3afac0-e5a0-43c1-b257-c9c35ad001b1",
   "metadata": {},
   "outputs": [
    {
     "data": {
      "text/plain": [
       "array([8.09542915e-01, 1.11400363e+00, 2.73572294e-01, 3.33016976e+00,\n",
       "       1.42423077e+01, 6.24090564e-01, 9.96048950e-01, 1.24103260e-01,\n",
       "       5.70748849e-01, 2.31176466e+00, 2.27928607e-01, 7.07993265e-01,\n",
       "       3.14021657e+02])"
      ]
     },
     "execution_count": 44,
     "metadata": {},
     "output_type": "execute_result"
    }
   ],
   "source": [
    "X.std(axis=0)"
   ]
  },
  {
   "cell_type": "markdown",
   "id": "c0e226aa-7e6a-43f9-873a-03f198c93b1a",
   "metadata": {},
   "source": [
    "**Standardizing the dataset.**"
   ]
  },
  {
   "cell_type": "code",
   "execution_count": 45,
   "id": "5497a0d1-38eb-4165-a967-6535542adc39",
   "metadata": {},
   "outputs": [],
   "source": [
    "sc = StandardScaler()\n",
    "X = sc.fit_transform(X)"
   ]
  },
  {
   "cell_type": "code",
   "execution_count": 46,
   "id": "bf4578e1-ca0f-42bd-829b-5ef980e2db80",
   "metadata": {},
   "outputs": [
    {
     "data": {
      "text/plain": [
       "array([ 7.84141790e-15,  2.44498554e-16, -4.05917497e-15, -7.11041712e-17,\n",
       "       -2.49488320e-17, -1.95536471e-16,  9.44313292e-16, -4.17892936e-16,\n",
       "       -1.54059038e-15, -4.12903170e-16,  1.39838203e-15,  2.12688793e-15,\n",
       "       -6.98567296e-17])"
      ]
     },
     "execution_count": 46,
     "metadata": {},
     "output_type": "execute_result"
    }
   ],
   "source": [
    "X.mean(axis=0)"
   ]
  },
  {
   "cell_type": "code",
   "execution_count": 47,
   "id": "be89447c-5921-42a6-9edc-d0ad6e53725f",
   "metadata": {},
   "outputs": [
    {
     "data": {
      "text/plain": [
       "array([1., 1., 1., 1., 1., 1., 1., 1., 1., 1., 1., 1., 1.])"
      ]
     },
     "execution_count": 47,
     "metadata": {},
     "output_type": "execute_result"
    }
   ],
   "source": [
    "X.std(axis=0)"
   ]
  },
  {
   "cell_type": "markdown",
   "id": "260cebee-49b4-4b8a-89bb-f397d73282fa",
   "metadata": {},
   "source": [
    "**Iris Dataset**"
   ]
  },
  {
   "cell_type": "code",
   "execution_count": 48,
   "id": "7c862596-9c66-4810-8279-d448a1b324ad",
   "metadata": {},
   "outputs": [],
   "source": [
    "df = load_iris()\n",
    "X = df.data"
   ]
  },
  {
   "cell_type": "markdown",
   "id": "8c114caa-d88a-47d0-aa97-dd1bb190e399",
   "metadata": {},
   "source": [
    "**Mean and standard deviation along the columns.**"
   ]
  },
  {
   "cell_type": "code",
   "execution_count": 49,
   "id": "57897d36-bdc1-4f76-ad2e-ed423a558507",
   "metadata": {},
   "outputs": [
    {
     "data": {
      "text/plain": [
       "array([5.84333333, 3.05733333, 3.758     , 1.19933333])"
      ]
     },
     "execution_count": 49,
     "metadata": {},
     "output_type": "execute_result"
    }
   ],
   "source": [
    "X.mean(axis=0)"
   ]
  },
  {
   "cell_type": "code",
   "execution_count": 50,
   "id": "44299207-d610-43b1-aced-f728dbaa45e8",
   "metadata": {},
   "outputs": [
    {
     "data": {
      "text/plain": [
       "array([0.82530129, 0.43441097, 1.75940407, 0.75969263])"
      ]
     },
     "execution_count": 50,
     "metadata": {},
     "output_type": "execute_result"
    }
   ],
   "source": [
    "X.std(axis=0)"
   ]
  },
  {
   "cell_type": "markdown",
   "id": "bbc9d6ba-c8cc-4548-a587-d1ae85d4b2b0",
   "metadata": {},
   "source": [
    "**Standardizing the dataset.**"
   ]
  },
  {
   "cell_type": "code",
   "execution_count": 52,
   "id": "29fd2ea5-e2b6-4250-9fa2-b99e21a53978",
   "metadata": {},
   "outputs": [],
   "source": [
    "sc = StandardScaler()\n",
    "X = sc.fit_transform(X)"
   ]
  },
  {
   "cell_type": "code",
   "execution_count": 53,
   "id": "4818ccf0-b159-4800-91dc-1c267cfa2d1c",
   "metadata": {},
   "outputs": [
    {
     "data": {
      "text/plain": [
       "array([-1.69031455e-15, -1.84297022e-15, -1.69864123e-15, -1.40924309e-15])"
      ]
     },
     "execution_count": 53,
     "metadata": {},
     "output_type": "execute_result"
    }
   ],
   "source": [
    "X.mean(axis=0)"
   ]
  },
  {
   "cell_type": "code",
   "execution_count": 54,
   "id": "b3672e82-eb10-4753-81a4-69ae96bfd94d",
   "metadata": {},
   "outputs": [
    {
     "data": {
      "text/plain": [
       "array([1., 1., 1., 1.])"
      ]
     },
     "execution_count": 54,
     "metadata": {},
     "output_type": "execute_result"
    }
   ],
   "source": [
    "X.std(axis=0)"
   ]
  },
  {
   "cell_type": "markdown",
   "id": "3aa1b118-4120-4597-9b8c-e4f9f5730eb7",
   "metadata": {},
   "source": [
    "**Q4. Run Apriori algorithm to find frequent itemsets and association rules.**"
   ]
  },
  {
   "cell_type": "code",
   "execution_count": 57,
   "id": "9ef9850b-6135-4f40-8782-158222671d6a",
   "metadata": {},
   "outputs": [
    {
     "name": "stdout",
     "output_type": "stream",
     "text": [
      "Collecting mlxtend\n",
      "  Downloading mlxtend-0.23.1-py3-none-any.whl.metadata (7.3 kB)\n",
      "Requirement already satisfied: scipy>=1.2.1 in c:\\users\\lamot\\anaconda3\\lib\\site-packages (from mlxtend) (1.11.4)\n",
      "Requirement already satisfied: numpy>=1.16.2 in c:\\users\\lamot\\anaconda3\\lib\\site-packages (from mlxtend) (1.26.4)\n",
      "Requirement already satisfied: pandas>=0.24.2 in c:\\users\\lamot\\anaconda3\\lib\\site-packages (from mlxtend) (2.1.4)\n",
      "Requirement already satisfied: scikit-learn>=1.0.2 in c:\\users\\lamot\\anaconda3\\lib\\site-packages (from mlxtend) (1.2.2)\n",
      "Requirement already satisfied: matplotlib>=3.0.0 in c:\\users\\lamot\\anaconda3\\lib\\site-packages (from mlxtend) (3.8.0)\n",
      "Requirement already satisfied: joblib>=0.13.2 in c:\\users\\lamot\\anaconda3\\lib\\site-packages (from mlxtend) (1.2.0)\n",
      "Requirement already satisfied: contourpy>=1.0.1 in c:\\users\\lamot\\anaconda3\\lib\\site-packages (from matplotlib>=3.0.0->mlxtend) (1.2.0)\n",
      "Requirement already satisfied: cycler>=0.10 in c:\\users\\lamot\\anaconda3\\lib\\site-packages (from matplotlib>=3.0.0->mlxtend) (0.11.0)\n",
      "Requirement already satisfied: fonttools>=4.22.0 in c:\\users\\lamot\\anaconda3\\lib\\site-packages (from matplotlib>=3.0.0->mlxtend) (4.25.0)\n",
      "Requirement already satisfied: kiwisolver>=1.0.1 in c:\\users\\lamot\\anaconda3\\lib\\site-packages (from matplotlib>=3.0.0->mlxtend) (1.4.4)\n",
      "Requirement already satisfied: packaging>=20.0 in c:\\users\\lamot\\anaconda3\\lib\\site-packages (from matplotlib>=3.0.0->mlxtend) (23.1)\n",
      "Requirement already satisfied: pillow>=6.2.0 in c:\\users\\lamot\\anaconda3\\lib\\site-packages (from matplotlib>=3.0.0->mlxtend) (10.2.0)\n",
      "Requirement already satisfied: pyparsing>=2.3.1 in c:\\users\\lamot\\anaconda3\\lib\\site-packages (from matplotlib>=3.0.0->mlxtend) (3.0.9)\n",
      "Requirement already satisfied: python-dateutil>=2.7 in c:\\users\\lamot\\anaconda3\\lib\\site-packages (from matplotlib>=3.0.0->mlxtend) (2.8.2)\n",
      "Requirement already satisfied: pytz>=2020.1 in c:\\users\\lamot\\anaconda3\\lib\\site-packages (from pandas>=0.24.2->mlxtend) (2023.3.post1)\n",
      "Requirement already satisfied: tzdata>=2022.1 in c:\\users\\lamot\\anaconda3\\lib\\site-packages (from pandas>=0.24.2->mlxtend) (2023.3)\n",
      "Requirement already satisfied: threadpoolctl>=2.0.0 in c:\\users\\lamot\\anaconda3\\lib\\site-packages (from scikit-learn>=1.0.2->mlxtend) (2.2.0)\n",
      "Requirement already satisfied: six>=1.5 in c:\\users\\lamot\\anaconda3\\lib\\site-packages (from python-dateutil>=2.7->matplotlib>=3.0.0->mlxtend) (1.16.0)\n",
      "Downloading mlxtend-0.23.1-py3-none-any.whl (1.4 MB)\n",
      "   ---------------------------------------- 0.0/1.4 MB ? eta -:--:--\n",
      "   ---------------------------------------- 0.0/1.4 MB ? eta -:--:--\n",
      "   ---- ----------------------------------- 0.2/1.4 MB 2.3 MB/s eta 0:00:01\n",
      "   --------------- ------------------------ 0.6/1.4 MB 5.0 MB/s eta 0:00:01\n",
      "   ------------------------------- -------- 1.1/1.4 MB 7.3 MB/s eta 0:00:01\n",
      "   ---------------------------------------  1.4/1.4 MB 7.1 MB/s eta 0:00:01\n",
      "   ---------------------------------------- 1.4/1.4 MB 5.8 MB/s eta 0:00:00\n",
      "Installing collected packages: mlxtend\n",
      "Successfully installed mlxtend-0.23.1\n"
     ]
    }
   ],
   "source": [
    "!pip install mlxtend"
   ]
  },
  {
   "cell_type": "code",
   "execution_count": 58,
   "id": "d4d6da9d-845f-48c6-8d43-7c431e849576",
   "metadata": {},
   "outputs": [],
   "source": [
    "from mlxtend.preprocessing import TransactionEncoder\n",
    "from mlxtend.frequent_patterns import apriori"
   ]
  },
  {
   "cell_type": "code",
   "execution_count": 59,
   "id": "65d25e5d-6aae-49eb-8197-5896e630766e",
   "metadata": {},
   "outputs": [],
   "source": [
    "dataset = [['Milk', 'Onion', 'Nutmeg', 'Kidney Beans', 'Eggs', 'Yogurt'],\n",
    "           ['Dill', 'Onion', 'Nutmeg', 'Kidney Beans', 'Eggs', 'Yogurt'],\n",
    "           ['Milk', 'Apple', 'Kidney Beans', 'Eggs'],\n",
    "           ['Milk', 'Unicorn', 'Corn', 'Kidney Beans', 'Yogurt'],\n",
    "           ['Corn', 'Onion', 'Onion', 'Kidney Beans', 'Ice cream', 'Eggs']]"
   ]
  },
  {
   "cell_type": "code",
   "execution_count": 61,
   "id": "cef9d979-3ec5-4e52-9a97-170ec4994e18",
   "metadata": {},
   "outputs": [
    {
     "data": {
      "text/html": [
       "<div>\n",
       "<style scoped>\n",
       "    .dataframe tbody tr th:only-of-type {\n",
       "        vertical-align: middle;\n",
       "    }\n",
       "\n",
       "    .dataframe tbody tr th {\n",
       "        vertical-align: top;\n",
       "    }\n",
       "\n",
       "    .dataframe thead th {\n",
       "        text-align: right;\n",
       "    }\n",
       "</style>\n",
       "<table border=\"1\" class=\"dataframe\">\n",
       "  <thead>\n",
       "    <tr style=\"text-align: right;\">\n",
       "      <th></th>\n",
       "      <th>Apple</th>\n",
       "      <th>Corn</th>\n",
       "      <th>Dill</th>\n",
       "      <th>Eggs</th>\n",
       "      <th>Ice cream</th>\n",
       "      <th>Kidney Beans</th>\n",
       "      <th>Milk</th>\n",
       "      <th>Nutmeg</th>\n",
       "      <th>Onion</th>\n",
       "      <th>Unicorn</th>\n",
       "      <th>Yogurt</th>\n",
       "    </tr>\n",
       "  </thead>\n",
       "  <tbody>\n",
       "    <tr>\n",
       "      <th>0</th>\n",
       "      <td>False</td>\n",
       "      <td>False</td>\n",
       "      <td>False</td>\n",
       "      <td>True</td>\n",
       "      <td>False</td>\n",
       "      <td>True</td>\n",
       "      <td>True</td>\n",
       "      <td>True</td>\n",
       "      <td>True</td>\n",
       "      <td>False</td>\n",
       "      <td>True</td>\n",
       "    </tr>\n",
       "    <tr>\n",
       "      <th>1</th>\n",
       "      <td>False</td>\n",
       "      <td>False</td>\n",
       "      <td>True</td>\n",
       "      <td>True</td>\n",
       "      <td>False</td>\n",
       "      <td>True</td>\n",
       "      <td>False</td>\n",
       "      <td>True</td>\n",
       "      <td>True</td>\n",
       "      <td>False</td>\n",
       "      <td>True</td>\n",
       "    </tr>\n",
       "    <tr>\n",
       "      <th>2</th>\n",
       "      <td>True</td>\n",
       "      <td>False</td>\n",
       "      <td>False</td>\n",
       "      <td>True</td>\n",
       "      <td>False</td>\n",
       "      <td>True</td>\n",
       "      <td>True</td>\n",
       "      <td>False</td>\n",
       "      <td>False</td>\n",
       "      <td>False</td>\n",
       "      <td>False</td>\n",
       "    </tr>\n",
       "    <tr>\n",
       "      <th>3</th>\n",
       "      <td>False</td>\n",
       "      <td>True</td>\n",
       "      <td>False</td>\n",
       "      <td>False</td>\n",
       "      <td>False</td>\n",
       "      <td>True</td>\n",
       "      <td>True</td>\n",
       "      <td>False</td>\n",
       "      <td>False</td>\n",
       "      <td>True</td>\n",
       "      <td>True</td>\n",
       "    </tr>\n",
       "    <tr>\n",
       "      <th>4</th>\n",
       "      <td>False</td>\n",
       "      <td>True</td>\n",
       "      <td>False</td>\n",
       "      <td>True</td>\n",
       "      <td>True</td>\n",
       "      <td>True</td>\n",
       "      <td>False</td>\n",
       "      <td>False</td>\n",
       "      <td>True</td>\n",
       "      <td>False</td>\n",
       "      <td>False</td>\n",
       "    </tr>\n",
       "  </tbody>\n",
       "</table>\n",
       "</div>"
      ],
      "text/plain": [
       "   Apple   Corn   Dill   Eggs  Ice cream  Kidney Beans   Milk  Nutmeg  Onion  \\\n",
       "0  False  False  False   True      False          True   True    True   True   \n",
       "1  False  False   True   True      False          True  False    True   True   \n",
       "2   True  False  False   True      False          True   True   False  False   \n",
       "3  False   True  False  False      False          True   True   False  False   \n",
       "4  False   True  False   True       True          True  False   False   True   \n",
       "\n",
       "   Unicorn  Yogurt  \n",
       "0    False    True  \n",
       "1    False    True  \n",
       "2    False   False  \n",
       "3     True    True  \n",
       "4    False   False  "
      ]
     },
     "execution_count": 61,
     "metadata": {},
     "output_type": "execute_result"
    }
   ],
   "source": [
    "te = TransactionEncoder()\n",
    "te_ary = te.fit(dataset).transform(dataset)\n",
    "df = pd.DataFrame(te_ary, columns=te.columns_)\n",
    "df"
   ]
  },
  {
   "cell_type": "markdown",
   "id": "d0748f03-8bc0-40b0-bc7e-11d68357af3b",
   "metadata": {},
   "source": [
    "**4.1 Use minimum support as 50% and minimum confidence as 75%.**"
   ]
  },
  {
   "cell_type": "code",
   "execution_count": 62,
   "id": "288f7352-af0e-471d-896d-80b0ed1f308d",
   "metadata": {},
   "outputs": [
    {
     "data": {
      "text/html": [
       "<div>\n",
       "<style scoped>\n",
       "    .dataframe tbody tr th:only-of-type {\n",
       "        vertical-align: middle;\n",
       "    }\n",
       "\n",
       "    .dataframe tbody tr th {\n",
       "        vertical-align: top;\n",
       "    }\n",
       "\n",
       "    .dataframe thead th {\n",
       "        text-align: right;\n",
       "    }\n",
       "</style>\n",
       "<table border=\"1\" class=\"dataframe\">\n",
       "  <thead>\n",
       "    <tr style=\"text-align: right;\">\n",
       "      <th></th>\n",
       "      <th>support</th>\n",
       "      <th>itemsets</th>\n",
       "    </tr>\n",
       "  </thead>\n",
       "  <tbody>\n",
       "    <tr>\n",
       "      <th>0</th>\n",
       "      <td>0.8</td>\n",
       "      <td>(Eggs)</td>\n",
       "    </tr>\n",
       "    <tr>\n",
       "      <th>1</th>\n",
       "      <td>1.0</td>\n",
       "      <td>(Kidney Beans)</td>\n",
       "    </tr>\n",
       "    <tr>\n",
       "      <th>2</th>\n",
       "      <td>0.6</td>\n",
       "      <td>(Milk)</td>\n",
       "    </tr>\n",
       "    <tr>\n",
       "      <th>3</th>\n",
       "      <td>0.6</td>\n",
       "      <td>(Onion)</td>\n",
       "    </tr>\n",
       "    <tr>\n",
       "      <th>4</th>\n",
       "      <td>0.6</td>\n",
       "      <td>(Yogurt)</td>\n",
       "    </tr>\n",
       "    <tr>\n",
       "      <th>5</th>\n",
       "      <td>0.8</td>\n",
       "      <td>(Kidney Beans, Eggs)</td>\n",
       "    </tr>\n",
       "    <tr>\n",
       "      <th>6</th>\n",
       "      <td>0.6</td>\n",
       "      <td>(Onion, Eggs)</td>\n",
       "    </tr>\n",
       "    <tr>\n",
       "      <th>7</th>\n",
       "      <td>0.6</td>\n",
       "      <td>(Milk, Kidney Beans)</td>\n",
       "    </tr>\n",
       "    <tr>\n",
       "      <th>8</th>\n",
       "      <td>0.6</td>\n",
       "      <td>(Onion, Kidney Beans)</td>\n",
       "    </tr>\n",
       "    <tr>\n",
       "      <th>9</th>\n",
       "      <td>0.6</td>\n",
       "      <td>(Yogurt, Kidney Beans)</td>\n",
       "    </tr>\n",
       "    <tr>\n",
       "      <th>10</th>\n",
       "      <td>0.6</td>\n",
       "      <td>(Onion, Eggs, Kidney Beans)</td>\n",
       "    </tr>\n",
       "  </tbody>\n",
       "</table>\n",
       "</div>"
      ],
      "text/plain": [
       "    support                     itemsets\n",
       "0       0.8                       (Eggs)\n",
       "1       1.0               (Kidney Beans)\n",
       "2       0.6                       (Milk)\n",
       "3       0.6                      (Onion)\n",
       "4       0.6                     (Yogurt)\n",
       "5       0.8         (Kidney Beans, Eggs)\n",
       "6       0.6                (Onion, Eggs)\n",
       "7       0.6         (Milk, Kidney Beans)\n",
       "8       0.6        (Onion, Kidney Beans)\n",
       "9       0.6       (Yogurt, Kidney Beans)\n",
       "10      0.6  (Onion, Eggs, Kidney Beans)"
      ]
     },
     "execution_count": 62,
     "metadata": {},
     "output_type": "execute_result"
    }
   ],
   "source": [
    "frequent_itemsets = apriori(df, min_support=0.5, use_colnames=True)\n",
    "frequent_itemsets"
   ]
  },
  {
   "cell_type": "code",
   "execution_count": 63,
   "id": "2d1e21ce-6d8d-42a9-8ee8-5fec02b82973",
   "metadata": {},
   "outputs": [
    {
     "data": {
      "text/html": [
       "<div>\n",
       "<style scoped>\n",
       "    .dataframe tbody tr th:only-of-type {\n",
       "        vertical-align: middle;\n",
       "    }\n",
       "\n",
       "    .dataframe tbody tr th {\n",
       "        vertical-align: top;\n",
       "    }\n",
       "\n",
       "    .dataframe thead th {\n",
       "        text-align: right;\n",
       "    }\n",
       "</style>\n",
       "<table border=\"1\" class=\"dataframe\">\n",
       "  <thead>\n",
       "    <tr style=\"text-align: right;\">\n",
       "      <th></th>\n",
       "      <th>antecedents</th>\n",
       "      <th>consequents</th>\n",
       "      <th>antecedent support</th>\n",
       "      <th>consequent support</th>\n",
       "      <th>support</th>\n",
       "      <th>confidence</th>\n",
       "      <th>lift</th>\n",
       "      <th>leverage</th>\n",
       "      <th>conviction</th>\n",
       "      <th>zhangs_metric</th>\n",
       "    </tr>\n",
       "  </thead>\n",
       "  <tbody>\n",
       "    <tr>\n",
       "      <th>0</th>\n",
       "      <td>(Kidney Beans)</td>\n",
       "      <td>(Eggs)</td>\n",
       "      <td>1.0</td>\n",
       "      <td>0.8</td>\n",
       "      <td>0.8</td>\n",
       "      <td>0.8</td>\n",
       "      <td>1.00</td>\n",
       "      <td>0.00</td>\n",
       "      <td>1.0</td>\n",
       "      <td>0.0</td>\n",
       "    </tr>\n",
       "    <tr>\n",
       "      <th>1</th>\n",
       "      <td>(Eggs)</td>\n",
       "      <td>(Kidney Beans)</td>\n",
       "      <td>0.8</td>\n",
       "      <td>1.0</td>\n",
       "      <td>0.8</td>\n",
       "      <td>1.0</td>\n",
       "      <td>1.00</td>\n",
       "      <td>0.00</td>\n",
       "      <td>inf</td>\n",
       "      <td>0.0</td>\n",
       "    </tr>\n",
       "    <tr>\n",
       "      <th>2</th>\n",
       "      <td>(Onion)</td>\n",
       "      <td>(Eggs)</td>\n",
       "      <td>0.6</td>\n",
       "      <td>0.8</td>\n",
       "      <td>0.6</td>\n",
       "      <td>1.0</td>\n",
       "      <td>1.25</td>\n",
       "      <td>0.12</td>\n",
       "      <td>inf</td>\n",
       "      <td>0.5</td>\n",
       "    </tr>\n",
       "    <tr>\n",
       "      <th>3</th>\n",
       "      <td>(Milk)</td>\n",
       "      <td>(Kidney Beans)</td>\n",
       "      <td>0.6</td>\n",
       "      <td>1.0</td>\n",
       "      <td>0.6</td>\n",
       "      <td>1.0</td>\n",
       "      <td>1.00</td>\n",
       "      <td>0.00</td>\n",
       "      <td>inf</td>\n",
       "      <td>0.0</td>\n",
       "    </tr>\n",
       "    <tr>\n",
       "      <th>4</th>\n",
       "      <td>(Onion)</td>\n",
       "      <td>(Kidney Beans)</td>\n",
       "      <td>0.6</td>\n",
       "      <td>1.0</td>\n",
       "      <td>0.6</td>\n",
       "      <td>1.0</td>\n",
       "      <td>1.00</td>\n",
       "      <td>0.00</td>\n",
       "      <td>inf</td>\n",
       "      <td>0.0</td>\n",
       "    </tr>\n",
       "    <tr>\n",
       "      <th>5</th>\n",
       "      <td>(Yogurt)</td>\n",
       "      <td>(Kidney Beans)</td>\n",
       "      <td>0.6</td>\n",
       "      <td>1.0</td>\n",
       "      <td>0.6</td>\n",
       "      <td>1.0</td>\n",
       "      <td>1.00</td>\n",
       "      <td>0.00</td>\n",
       "      <td>inf</td>\n",
       "      <td>0.0</td>\n",
       "    </tr>\n",
       "    <tr>\n",
       "      <th>6</th>\n",
       "      <td>(Onion, Eggs)</td>\n",
       "      <td>(Kidney Beans)</td>\n",
       "      <td>0.6</td>\n",
       "      <td>1.0</td>\n",
       "      <td>0.6</td>\n",
       "      <td>1.0</td>\n",
       "      <td>1.00</td>\n",
       "      <td>0.00</td>\n",
       "      <td>inf</td>\n",
       "      <td>0.0</td>\n",
       "    </tr>\n",
       "    <tr>\n",
       "      <th>7</th>\n",
       "      <td>(Onion, Kidney Beans)</td>\n",
       "      <td>(Eggs)</td>\n",
       "      <td>0.6</td>\n",
       "      <td>0.8</td>\n",
       "      <td>0.6</td>\n",
       "      <td>1.0</td>\n",
       "      <td>1.25</td>\n",
       "      <td>0.12</td>\n",
       "      <td>inf</td>\n",
       "      <td>0.5</td>\n",
       "    </tr>\n",
       "    <tr>\n",
       "      <th>8</th>\n",
       "      <td>(Onion)</td>\n",
       "      <td>(Kidney Beans, Eggs)</td>\n",
       "      <td>0.6</td>\n",
       "      <td>0.8</td>\n",
       "      <td>0.6</td>\n",
       "      <td>1.0</td>\n",
       "      <td>1.25</td>\n",
       "      <td>0.12</td>\n",
       "      <td>inf</td>\n",
       "      <td>0.5</td>\n",
       "    </tr>\n",
       "  </tbody>\n",
       "</table>\n",
       "</div>"
      ],
      "text/plain": [
       "             antecedents           consequents  antecedent support  \\\n",
       "0         (Kidney Beans)                (Eggs)                 1.0   \n",
       "1                 (Eggs)        (Kidney Beans)                 0.8   \n",
       "2                (Onion)                (Eggs)                 0.6   \n",
       "3                 (Milk)        (Kidney Beans)                 0.6   \n",
       "4                (Onion)        (Kidney Beans)                 0.6   \n",
       "5               (Yogurt)        (Kidney Beans)                 0.6   \n",
       "6          (Onion, Eggs)        (Kidney Beans)                 0.6   \n",
       "7  (Onion, Kidney Beans)                (Eggs)                 0.6   \n",
       "8                (Onion)  (Kidney Beans, Eggs)                 0.6   \n",
       "\n",
       "   consequent support  support  confidence  lift  leverage  conviction  \\\n",
       "0                 0.8      0.8         0.8  1.00      0.00         1.0   \n",
       "1                 1.0      0.8         1.0  1.00      0.00         inf   \n",
       "2                 0.8      0.6         1.0  1.25      0.12         inf   \n",
       "3                 1.0      0.6         1.0  1.00      0.00         inf   \n",
       "4                 1.0      0.6         1.0  1.00      0.00         inf   \n",
       "5                 1.0      0.6         1.0  1.00      0.00         inf   \n",
       "6                 1.0      0.6         1.0  1.00      0.00         inf   \n",
       "7                 0.8      0.6         1.0  1.25      0.12         inf   \n",
       "8                 0.8      0.6         1.0  1.25      0.12         inf   \n",
       "\n",
       "   zhangs_metric  \n",
       "0            0.0  \n",
       "1            0.0  \n",
       "2            0.5  \n",
       "3            0.0  \n",
       "4            0.0  \n",
       "5            0.0  \n",
       "6            0.0  \n",
       "7            0.5  \n",
       "8            0.5  "
      ]
     },
     "execution_count": 63,
     "metadata": {},
     "output_type": "execute_result"
    }
   ],
   "source": [
    "from mlxtend.frequent_patterns import association_rules\n",
    "association_rules(frequent_itemsets, metric=\"confidence\", min_threshold=0.75)"
   ]
  },
  {
   "cell_type": "markdown",
   "id": "1bb1c86c-6176-4ba3-9fdb-b8b7291f33a0",
   "metadata": {},
   "source": [
    "**4.2 Use minimum support as 60% and minimum confidence as 60 %.**"
   ]
  },
  {
   "cell_type": "code",
   "execution_count": 64,
   "id": "c7da4a76-99a0-40e4-9612-7b3c15558c8c",
   "metadata": {},
   "outputs": [
    {
     "data": {
      "text/html": [
       "<div>\n",
       "<style scoped>\n",
       "    .dataframe tbody tr th:only-of-type {\n",
       "        vertical-align: middle;\n",
       "    }\n",
       "\n",
       "    .dataframe tbody tr th {\n",
       "        vertical-align: top;\n",
       "    }\n",
       "\n",
       "    .dataframe thead th {\n",
       "        text-align: right;\n",
       "    }\n",
       "</style>\n",
       "<table border=\"1\" class=\"dataframe\">\n",
       "  <thead>\n",
       "    <tr style=\"text-align: right;\">\n",
       "      <th></th>\n",
       "      <th>support</th>\n",
       "      <th>itemsets</th>\n",
       "    </tr>\n",
       "  </thead>\n",
       "  <tbody>\n",
       "    <tr>\n",
       "      <th>0</th>\n",
       "      <td>0.8</td>\n",
       "      <td>(Eggs)</td>\n",
       "    </tr>\n",
       "    <tr>\n",
       "      <th>1</th>\n",
       "      <td>1.0</td>\n",
       "      <td>(Kidney Beans)</td>\n",
       "    </tr>\n",
       "    <tr>\n",
       "      <th>2</th>\n",
       "      <td>0.6</td>\n",
       "      <td>(Milk)</td>\n",
       "    </tr>\n",
       "    <tr>\n",
       "      <th>3</th>\n",
       "      <td>0.6</td>\n",
       "      <td>(Onion)</td>\n",
       "    </tr>\n",
       "    <tr>\n",
       "      <th>4</th>\n",
       "      <td>0.6</td>\n",
       "      <td>(Yogurt)</td>\n",
       "    </tr>\n",
       "    <tr>\n",
       "      <th>5</th>\n",
       "      <td>0.8</td>\n",
       "      <td>(Kidney Beans, Eggs)</td>\n",
       "    </tr>\n",
       "    <tr>\n",
       "      <th>6</th>\n",
       "      <td>0.6</td>\n",
       "      <td>(Onion, Eggs)</td>\n",
       "    </tr>\n",
       "    <tr>\n",
       "      <th>7</th>\n",
       "      <td>0.6</td>\n",
       "      <td>(Milk, Kidney Beans)</td>\n",
       "    </tr>\n",
       "    <tr>\n",
       "      <th>8</th>\n",
       "      <td>0.6</td>\n",
       "      <td>(Onion, Kidney Beans)</td>\n",
       "    </tr>\n",
       "    <tr>\n",
       "      <th>9</th>\n",
       "      <td>0.6</td>\n",
       "      <td>(Yogurt, Kidney Beans)</td>\n",
       "    </tr>\n",
       "    <tr>\n",
       "      <th>10</th>\n",
       "      <td>0.6</td>\n",
       "      <td>(Onion, Eggs, Kidney Beans)</td>\n",
       "    </tr>\n",
       "  </tbody>\n",
       "</table>\n",
       "</div>"
      ],
      "text/plain": [
       "    support                     itemsets\n",
       "0       0.8                       (Eggs)\n",
       "1       1.0               (Kidney Beans)\n",
       "2       0.6                       (Milk)\n",
       "3       0.6                      (Onion)\n",
       "4       0.6                     (Yogurt)\n",
       "5       0.8         (Kidney Beans, Eggs)\n",
       "6       0.6                (Onion, Eggs)\n",
       "7       0.6         (Milk, Kidney Beans)\n",
       "8       0.6        (Onion, Kidney Beans)\n",
       "9       0.6       (Yogurt, Kidney Beans)\n",
       "10      0.6  (Onion, Eggs, Kidney Beans)"
      ]
     },
     "execution_count": 64,
     "metadata": {},
     "output_type": "execute_result"
    }
   ],
   "source": [
    "frequent_itemsets = apriori(df, min_support=0.6, use_colnames=True)\n",
    "frequent_itemsets"
   ]
  },
  {
   "cell_type": "code",
   "execution_count": 65,
   "id": "195b79b3-423d-40a3-9650-9edef041b9fc",
   "metadata": {},
   "outputs": [
    {
     "data": {
      "text/html": [
       "<div>\n",
       "<style scoped>\n",
       "    .dataframe tbody tr th:only-of-type {\n",
       "        vertical-align: middle;\n",
       "    }\n",
       "\n",
       "    .dataframe tbody tr th {\n",
       "        vertical-align: top;\n",
       "    }\n",
       "\n",
       "    .dataframe thead th {\n",
       "        text-align: right;\n",
       "    }\n",
       "</style>\n",
       "<table border=\"1\" class=\"dataframe\">\n",
       "  <thead>\n",
       "    <tr style=\"text-align: right;\">\n",
       "      <th></th>\n",
       "      <th>antecedents</th>\n",
       "      <th>consequents</th>\n",
       "      <th>antecedent support</th>\n",
       "      <th>consequent support</th>\n",
       "      <th>support</th>\n",
       "      <th>confidence</th>\n",
       "      <th>lift</th>\n",
       "      <th>leverage</th>\n",
       "      <th>conviction</th>\n",
       "      <th>zhangs_metric</th>\n",
       "    </tr>\n",
       "  </thead>\n",
       "  <tbody>\n",
       "    <tr>\n",
       "      <th>0</th>\n",
       "      <td>(Kidney Beans)</td>\n",
       "      <td>(Eggs)</td>\n",
       "      <td>1.0</td>\n",
       "      <td>0.8</td>\n",
       "      <td>0.8</td>\n",
       "      <td>0.80</td>\n",
       "      <td>1.00</td>\n",
       "      <td>0.00</td>\n",
       "      <td>1.0</td>\n",
       "      <td>0.0</td>\n",
       "    </tr>\n",
       "    <tr>\n",
       "      <th>1</th>\n",
       "      <td>(Eggs)</td>\n",
       "      <td>(Kidney Beans)</td>\n",
       "      <td>0.8</td>\n",
       "      <td>1.0</td>\n",
       "      <td>0.8</td>\n",
       "      <td>1.00</td>\n",
       "      <td>1.00</td>\n",
       "      <td>0.00</td>\n",
       "      <td>inf</td>\n",
       "      <td>0.0</td>\n",
       "    </tr>\n",
       "    <tr>\n",
       "      <th>2</th>\n",
       "      <td>(Onion)</td>\n",
       "      <td>(Eggs)</td>\n",
       "      <td>0.6</td>\n",
       "      <td>0.8</td>\n",
       "      <td>0.6</td>\n",
       "      <td>1.00</td>\n",
       "      <td>1.25</td>\n",
       "      <td>0.12</td>\n",
       "      <td>inf</td>\n",
       "      <td>0.5</td>\n",
       "    </tr>\n",
       "    <tr>\n",
       "      <th>3</th>\n",
       "      <td>(Eggs)</td>\n",
       "      <td>(Onion)</td>\n",
       "      <td>0.8</td>\n",
       "      <td>0.6</td>\n",
       "      <td>0.6</td>\n",
       "      <td>0.75</td>\n",
       "      <td>1.25</td>\n",
       "      <td>0.12</td>\n",
       "      <td>1.6</td>\n",
       "      <td>1.0</td>\n",
       "    </tr>\n",
       "    <tr>\n",
       "      <th>4</th>\n",
       "      <td>(Milk)</td>\n",
       "      <td>(Kidney Beans)</td>\n",
       "      <td>0.6</td>\n",
       "      <td>1.0</td>\n",
       "      <td>0.6</td>\n",
       "      <td>1.00</td>\n",
       "      <td>1.00</td>\n",
       "      <td>0.00</td>\n",
       "      <td>inf</td>\n",
       "      <td>0.0</td>\n",
       "    </tr>\n",
       "    <tr>\n",
       "      <th>5</th>\n",
       "      <td>(Kidney Beans)</td>\n",
       "      <td>(Milk)</td>\n",
       "      <td>1.0</td>\n",
       "      <td>0.6</td>\n",
       "      <td>0.6</td>\n",
       "      <td>0.60</td>\n",
       "      <td>1.00</td>\n",
       "      <td>0.00</td>\n",
       "      <td>1.0</td>\n",
       "      <td>0.0</td>\n",
       "    </tr>\n",
       "    <tr>\n",
       "      <th>6</th>\n",
       "      <td>(Onion)</td>\n",
       "      <td>(Kidney Beans)</td>\n",
       "      <td>0.6</td>\n",
       "      <td>1.0</td>\n",
       "      <td>0.6</td>\n",
       "      <td>1.00</td>\n",
       "      <td>1.00</td>\n",
       "      <td>0.00</td>\n",
       "      <td>inf</td>\n",
       "      <td>0.0</td>\n",
       "    </tr>\n",
       "    <tr>\n",
       "      <th>7</th>\n",
       "      <td>(Kidney Beans)</td>\n",
       "      <td>(Onion)</td>\n",
       "      <td>1.0</td>\n",
       "      <td>0.6</td>\n",
       "      <td>0.6</td>\n",
       "      <td>0.60</td>\n",
       "      <td>1.00</td>\n",
       "      <td>0.00</td>\n",
       "      <td>1.0</td>\n",
       "      <td>0.0</td>\n",
       "    </tr>\n",
       "    <tr>\n",
       "      <th>8</th>\n",
       "      <td>(Yogurt)</td>\n",
       "      <td>(Kidney Beans)</td>\n",
       "      <td>0.6</td>\n",
       "      <td>1.0</td>\n",
       "      <td>0.6</td>\n",
       "      <td>1.00</td>\n",
       "      <td>1.00</td>\n",
       "      <td>0.00</td>\n",
       "      <td>inf</td>\n",
       "      <td>0.0</td>\n",
       "    </tr>\n",
       "    <tr>\n",
       "      <th>9</th>\n",
       "      <td>(Kidney Beans)</td>\n",
       "      <td>(Yogurt)</td>\n",
       "      <td>1.0</td>\n",
       "      <td>0.6</td>\n",
       "      <td>0.6</td>\n",
       "      <td>0.60</td>\n",
       "      <td>1.00</td>\n",
       "      <td>0.00</td>\n",
       "      <td>1.0</td>\n",
       "      <td>0.0</td>\n",
       "    </tr>\n",
       "    <tr>\n",
       "      <th>10</th>\n",
       "      <td>(Onion, Eggs)</td>\n",
       "      <td>(Kidney Beans)</td>\n",
       "      <td>0.6</td>\n",
       "      <td>1.0</td>\n",
       "      <td>0.6</td>\n",
       "      <td>1.00</td>\n",
       "      <td>1.00</td>\n",
       "      <td>0.00</td>\n",
       "      <td>inf</td>\n",
       "      <td>0.0</td>\n",
       "    </tr>\n",
       "    <tr>\n",
       "      <th>11</th>\n",
       "      <td>(Onion, Kidney Beans)</td>\n",
       "      <td>(Eggs)</td>\n",
       "      <td>0.6</td>\n",
       "      <td>0.8</td>\n",
       "      <td>0.6</td>\n",
       "      <td>1.00</td>\n",
       "      <td>1.25</td>\n",
       "      <td>0.12</td>\n",
       "      <td>inf</td>\n",
       "      <td>0.5</td>\n",
       "    </tr>\n",
       "    <tr>\n",
       "      <th>12</th>\n",
       "      <td>(Kidney Beans, Eggs)</td>\n",
       "      <td>(Onion)</td>\n",
       "      <td>0.8</td>\n",
       "      <td>0.6</td>\n",
       "      <td>0.6</td>\n",
       "      <td>0.75</td>\n",
       "      <td>1.25</td>\n",
       "      <td>0.12</td>\n",
       "      <td>1.6</td>\n",
       "      <td>1.0</td>\n",
       "    </tr>\n",
       "    <tr>\n",
       "      <th>13</th>\n",
       "      <td>(Onion)</td>\n",
       "      <td>(Kidney Beans, Eggs)</td>\n",
       "      <td>0.6</td>\n",
       "      <td>0.8</td>\n",
       "      <td>0.6</td>\n",
       "      <td>1.00</td>\n",
       "      <td>1.25</td>\n",
       "      <td>0.12</td>\n",
       "      <td>inf</td>\n",
       "      <td>0.5</td>\n",
       "    </tr>\n",
       "    <tr>\n",
       "      <th>14</th>\n",
       "      <td>(Eggs)</td>\n",
       "      <td>(Onion, Kidney Beans)</td>\n",
       "      <td>0.8</td>\n",
       "      <td>0.6</td>\n",
       "      <td>0.6</td>\n",
       "      <td>0.75</td>\n",
       "      <td>1.25</td>\n",
       "      <td>0.12</td>\n",
       "      <td>1.6</td>\n",
       "      <td>1.0</td>\n",
       "    </tr>\n",
       "    <tr>\n",
       "      <th>15</th>\n",
       "      <td>(Kidney Beans)</td>\n",
       "      <td>(Onion, Eggs)</td>\n",
       "      <td>1.0</td>\n",
       "      <td>0.6</td>\n",
       "      <td>0.6</td>\n",
       "      <td>0.60</td>\n",
       "      <td>1.00</td>\n",
       "      <td>0.00</td>\n",
       "      <td>1.0</td>\n",
       "      <td>0.0</td>\n",
       "    </tr>\n",
       "  </tbody>\n",
       "</table>\n",
       "</div>"
      ],
      "text/plain": [
       "              antecedents            consequents  antecedent support  \\\n",
       "0          (Kidney Beans)                 (Eggs)                 1.0   \n",
       "1                  (Eggs)         (Kidney Beans)                 0.8   \n",
       "2                 (Onion)                 (Eggs)                 0.6   \n",
       "3                  (Eggs)                (Onion)                 0.8   \n",
       "4                  (Milk)         (Kidney Beans)                 0.6   \n",
       "5          (Kidney Beans)                 (Milk)                 1.0   \n",
       "6                 (Onion)         (Kidney Beans)                 0.6   \n",
       "7          (Kidney Beans)                (Onion)                 1.0   \n",
       "8                (Yogurt)         (Kidney Beans)                 0.6   \n",
       "9          (Kidney Beans)               (Yogurt)                 1.0   \n",
       "10          (Onion, Eggs)         (Kidney Beans)                 0.6   \n",
       "11  (Onion, Kidney Beans)                 (Eggs)                 0.6   \n",
       "12   (Kidney Beans, Eggs)                (Onion)                 0.8   \n",
       "13                (Onion)   (Kidney Beans, Eggs)                 0.6   \n",
       "14                 (Eggs)  (Onion, Kidney Beans)                 0.8   \n",
       "15         (Kidney Beans)          (Onion, Eggs)                 1.0   \n",
       "\n",
       "    consequent support  support  confidence  lift  leverage  conviction  \\\n",
       "0                  0.8      0.8        0.80  1.00      0.00         1.0   \n",
       "1                  1.0      0.8        1.00  1.00      0.00         inf   \n",
       "2                  0.8      0.6        1.00  1.25      0.12         inf   \n",
       "3                  0.6      0.6        0.75  1.25      0.12         1.6   \n",
       "4                  1.0      0.6        1.00  1.00      0.00         inf   \n",
       "5                  0.6      0.6        0.60  1.00      0.00         1.0   \n",
       "6                  1.0      0.6        1.00  1.00      0.00         inf   \n",
       "7                  0.6      0.6        0.60  1.00      0.00         1.0   \n",
       "8                  1.0      0.6        1.00  1.00      0.00         inf   \n",
       "9                  0.6      0.6        0.60  1.00      0.00         1.0   \n",
       "10                 1.0      0.6        1.00  1.00      0.00         inf   \n",
       "11                 0.8      0.6        1.00  1.25      0.12         inf   \n",
       "12                 0.6      0.6        0.75  1.25      0.12         1.6   \n",
       "13                 0.8      0.6        1.00  1.25      0.12         inf   \n",
       "14                 0.6      0.6        0.75  1.25      0.12         1.6   \n",
       "15                 0.6      0.6        0.60  1.00      0.00         1.0   \n",
       "\n",
       "    zhangs_metric  \n",
       "0             0.0  \n",
       "1             0.0  \n",
       "2             0.5  \n",
       "3             1.0  \n",
       "4             0.0  \n",
       "5             0.0  \n",
       "6             0.0  \n",
       "7             0.0  \n",
       "8             0.0  \n",
       "9             0.0  \n",
       "10            0.0  \n",
       "11            0.5  \n",
       "12            1.0  \n",
       "13            0.5  \n",
       "14            1.0  \n",
       "15            0.0  "
      ]
     },
     "execution_count": 65,
     "metadata": {},
     "output_type": "execute_result"
    }
   ],
   "source": [
    "from mlxtend.frequent_patterns import association_rules\n",
    "association_rules(frequent_itemsets, metric=\"confidence\", min_threshold=0.6)"
   ]
  },
  {
   "cell_type": "markdown",
   "id": "11ffb54f-f563-4d56-aa9e-f6a1c9bb4153",
   "metadata": {},
   "source": [
    "**Q5. Use Naive bayes, K-nearest, and Decision tree classification algorithms and build classifiers. Divide the data set into training and test set. Compare the accuracy of the different classifiers under the following situations:**"
   ]
  },
  {
   "cell_type": "code",
   "execution_count": 72,
   "id": "d1a83990-d48d-4d83-9f08-acc4d971f9a5",
   "metadata": {},
   "outputs": [],
   "source": [
    "from sklearn.datasets import load_iris\n",
    "from sklearn.naive_bayes import GaussianNB\n",
    "from sklearn.neighbors import KNeighborsClassifier\n",
    "from sklearn.tree import DecisionTreeClassifier\n",
    "from sklearn.model_selection import train_test_split, cross_val_score\n",
    "from sklearn.metrics import accuracy_score, classification_report"
   ]
  },
  {
   "cell_type": "code",
   "execution_count": 73,
   "id": "9fb651f0-5252-4103-9792-b1c79858f435",
   "metadata": {},
   "outputs": [],
   "source": [
    "X, y = load_iris(return_X_y=True)"
   ]
  },
  {
   "cell_type": "markdown",
   "id": "0f25d108-fb7d-4dbf-aa83-c95b1f59f2ef",
   "metadata": {},
   "source": [
    "**5.1 a) Training set = 75% Test set = 25%**"
   ]
  },
  {
   "cell_type": "code",
   "execution_count": 74,
   "id": "b3e95687-6740-4341-a2bc-a7296c26fca6",
   "metadata": {},
   "outputs": [],
   "source": [
    "X_train, X_test, y_train, y_test = train_test_split(X, y, test_size=0.25, random_state=100)"
   ]
  },
  {
   "cell_type": "markdown",
   "id": "f19fa2bf-9f8d-4c84-8a6a-b43d0f296c5e",
   "metadata": {},
   "source": [
    "**Naive Bayes Classifier**"
   ]
  },
  {
   "cell_type": "code",
   "execution_count": 75,
   "id": "d6fa7727-ccd3-49bd-983d-bdaba166c78f",
   "metadata": {},
   "outputs": [
    {
     "name": "stdout",
     "output_type": "stream",
     "text": [
      "Accuracy Score: 94.73684210526315 %\n"
     ]
    }
   ],
   "source": [
    "gnb = GaussianNB()\n",
    "gnb.fit(X_train, y_train)\n",
    "\n",
    "y_pred = gnb.predict(X_test)\n",
    "print(f'Accuracy Score: {accuracy_score(y_test, y_pred) * 100} %')"
   ]
  },
  {
   "cell_type": "markdown",
   "id": "51d2d1ac-9361-443f-a57f-7d20dbf7d124",
   "metadata": {},
   "source": [
    "**K-Nearest Neighbors Classifier**"
   ]
  },
  {
   "cell_type": "code",
   "execution_count": 76,
   "id": "37299591-a8d6-4f29-bace-378a90eff668",
   "metadata": {},
   "outputs": [
    {
     "name": "stdout",
     "output_type": "stream",
     "text": [
      "Accuracy Score: 97.36842105263158 %\n"
     ]
    }
   ],
   "source": [
    "knn = KNeighborsClassifier()    # default k=5\n",
    "knn.fit(X_train, y_train)\n",
    "\n",
    "y_pred = knn.predict(X_test)\n",
    "print(f'Accuracy Score: {accuracy_score(y_test, y_pred) * 100} %')"
   ]
  },
  {
   "cell_type": "code",
   "execution_count": 77,
   "id": "0518b562-7238-4798-a3e9-ab7ddcef7cba",
   "metadata": {},
   "outputs": [
    {
     "name": "stdout",
     "output_type": "stream",
     "text": [
      "              precision    recall  f1-score   support\n",
      "\n",
      "           0       1.00      1.00      1.00        14\n",
      "           1       0.91      1.00      0.95        10\n",
      "           2       1.00      0.93      0.96        14\n",
      "\n",
      "    accuracy                           0.97        38\n",
      "   macro avg       0.97      0.98      0.97        38\n",
      "weighted avg       0.98      0.97      0.97        38\n",
      "\n"
     ]
    }
   ],
   "source": [
    "print(classification_report(y_test, y_pred))"
   ]
  },
  {
   "cell_type": "markdown",
   "id": "5c0e3337-4510-4a3a-b384-74eadf3d9eba",
   "metadata": {},
   "source": [
    "**Decision Tree Classifier**"
   ]
  },
  {
   "cell_type": "code",
   "execution_count": 78,
   "id": "79747653-e64c-4d2d-baf9-ef0faa94845f",
   "metadata": {},
   "outputs": [
    {
     "name": "stdout",
     "output_type": "stream",
     "text": [
      "Accuracy Score: 94.73684210526315 %\n"
     ]
    }
   ],
   "source": [
    "dtree = DecisionTreeClassifier()    # default criteria='gini'\n",
    "dtree.fit(X_train, y_train)\n",
    "\n",
    "y_pred = dtree.predict(X_test)\n",
    "print(f'Accuracy Score: {accuracy_score(y_test, y_pred) * 100} %')"
   ]
  },
  {
   "cell_type": "code",
   "execution_count": 79,
   "id": "89f66c16-38d6-49a2-ab13-cc05fd2c5f0e",
   "metadata": {},
   "outputs": [
    {
     "name": "stdout",
     "output_type": "stream",
     "text": [
      "              precision    recall  f1-score   support\n",
      "\n",
      "           0       1.00      1.00      1.00        14\n",
      "           1       0.90      0.90      0.90        10\n",
      "           2       0.93      0.93      0.93        14\n",
      "\n",
      "    accuracy                           0.95        38\n",
      "   macro avg       0.94      0.94      0.94        38\n",
      "weighted avg       0.95      0.95      0.95        38\n",
      "\n"
     ]
    }
   ],
   "source": [
    "print(classification_report(y_test, y_pred))"
   ]
  },
  {
   "cell_type": "markdown",
   "id": "410336e8-5a24-4b5a-b707-28eda3adcaf0",
   "metadata": {},
   "source": [
    "**5.1 b) Training set = 66.6% (2/3rd of total), Test set = 33.3%**"
   ]
  },
  {
   "cell_type": "code",
   "execution_count": 80,
   "id": "619e33ee-0bc2-47cb-b588-0d055cbcfa6d",
   "metadata": {},
   "outputs": [],
   "source": [
    "X_train, X_test, y_train, y_test = train_test_split(X, y, test_size=0.33, random_state=100)"
   ]
  },
  {
   "cell_type": "markdown",
   "id": "0299959e-aac3-473c-b67e-744c59833f4b",
   "metadata": {},
   "source": [
    "**Naive Bayes Classifier**"
   ]
  },
  {
   "cell_type": "code",
   "execution_count": 81,
   "id": "f53fc4ab-4729-4afe-9931-87caddbc8c97",
   "metadata": {},
   "outputs": [
    {
     "name": "stdout",
     "output_type": "stream",
     "text": [
      "Accuracy Score: 96.0 %\n"
     ]
    }
   ],
   "source": [
    "gnb = GaussianNB()\n",
    "gnb.fit(X_train, y_train)\n",
    "\n",
    "y_pred = gnb.predict(X_test)\n",
    "print(f'Accuracy Score: {accuracy_score(y_test, y_pred) * 100} %')"
   ]
  },
  {
   "cell_type": "markdown",
   "id": "345a94ed-ced7-4425-9f35-df1042702d8b",
   "metadata": {},
   "source": [
    "**K-Nearest Neighbors Classifier**"
   ]
  },
  {
   "cell_type": "code",
   "execution_count": 82,
   "id": "0f1cd5ab-0648-48d3-8704-0cbfc0262d59",
   "metadata": {},
   "outputs": [
    {
     "name": "stdout",
     "output_type": "stream",
     "text": [
      "Accuracy Score: 98.0 %\n",
      "              precision    recall  f1-score   support\n",
      "\n",
      "           0       1.00      1.00      1.00        20\n",
      "           1       0.92      1.00      0.96        12\n",
      "           2       1.00      0.94      0.97        18\n",
      "\n",
      "    accuracy                           0.98        50\n",
      "   macro avg       0.97      0.98      0.98        50\n",
      "weighted avg       0.98      0.98      0.98        50\n",
      "\n"
     ]
    }
   ],
   "source": [
    "knn = KNeighborsClassifier()    # default k=5\n",
    "knn.fit(X_train, y_train)\n",
    "\n",
    "y_pred = knn.predict(X_test)\n",
    "print(f'Accuracy Score: {accuracy_score(y_test, y_pred) * 100} %')\n",
    "print(classification_report(y_test, y_pred))"
   ]
  },
  {
   "cell_type": "markdown",
   "id": "5b6b47b0-ce61-4bac-bbaf-70b9f805e5ac",
   "metadata": {},
   "source": [
    "**Decision Tree Classifier**"
   ]
  },
  {
   "cell_type": "code",
   "execution_count": 83,
   "id": "6cd7bde2-458e-47fe-b91b-64745a6e7da7",
   "metadata": {},
   "outputs": [
    {
     "name": "stdout",
     "output_type": "stream",
     "text": [
      "Accuracy Score: 96.0 %\n",
      "              precision    recall  f1-score   support\n",
      "\n",
      "           0       1.00      1.00      1.00        20\n",
      "           1       0.92      0.92      0.92        12\n",
      "           2       0.94      0.94      0.94        18\n",
      "\n",
      "    accuracy                           0.96        50\n",
      "   macro avg       0.95      0.95      0.95        50\n",
      "weighted avg       0.96      0.96      0.96        50\n",
      "\n"
     ]
    }
   ],
   "source": [
    "dtree = DecisionTreeClassifier()    # default criteria='gini'\n",
    "dtree.fit(X_train, y_train)\n",
    "\n",
    "y_pred = dtree.predict(X_test)\n",
    "print(f'Accuracy Score: {accuracy_score(y_test, y_pred) * 100} %')\n",
    "print(classification_report(y_test, y_pred))"
   ]
  },
  {
   "cell_type": "markdown",
   "id": "75f13dd1-95ce-4649-9f47-4489f81b04fa",
   "metadata": {},
   "source": [
    "**5.2 a) Training set is chosen by hold out method.**"
   ]
  },
  {
   "cell_type": "code",
   "execution_count": 84,
   "id": "de684b8d-3677-4b56-b85e-8eafa85a4511",
   "metadata": {},
   "outputs": [],
   "source": [
    "X_train, X_test, y_train, y_test = train_test_split(X, y, test_size=0.3, random_state=100)"
   ]
  },
  {
   "cell_type": "code",
   "execution_count": 85,
   "id": "de1d64f1-ed32-4cd3-b8c4-f37c99c819b7",
   "metadata": {},
   "outputs": [
    {
     "name": "stdout",
     "output_type": "stream",
     "text": [
      "Accuracy Score: 95.55555555555556 %\n"
     ]
    }
   ],
   "source": [
    "gnb = GaussianNB()\n",
    "gnb.fit(X_train, y_train)\n",
    "\n",
    "y_pred = gnb.predict(X_test)\n",
    "print(f'Accuracy Score: {accuracy_score(y_test, y_pred) * 100} %')"
   ]
  },
  {
   "cell_type": "markdown",
   "id": "830a3f48-0400-43b0-a6c6-b483d874f28a",
   "metadata": {},
   "source": [
    "**K-Nearest Neighbors Classifier**"
   ]
  },
  {
   "cell_type": "code",
   "execution_count": 86,
   "id": "80d5e0b6-0665-4b2d-a912-0b594e0425cf",
   "metadata": {},
   "outputs": [
    {
     "name": "stdout",
     "output_type": "stream",
     "text": [
      "Accuracy Score: 97.77777777777777 %\n",
      "              precision    recall  f1-score   support\n",
      "\n",
      "           0       1.00      1.00      1.00        16\n",
      "           1       0.92      1.00      0.96        11\n",
      "           2       1.00      0.94      0.97        18\n",
      "\n",
      "    accuracy                           0.98        45\n",
      "   macro avg       0.97      0.98      0.98        45\n",
      "weighted avg       0.98      0.98      0.98        45\n",
      "\n"
     ]
    }
   ],
   "source": [
    "knn = KNeighborsClassifier()    # default k=5\n",
    "knn.fit(X_train, y_train)\n",
    "\n",
    "y_pred = knn.predict(X_test)\n",
    "print(f'Accuracy Score: {accuracy_score(y_test, y_pred) * 100} %')\n",
    "print(classification_report(y_test, y_pred))"
   ]
  },
  {
   "cell_type": "markdown",
   "id": "b6606b54-068b-463b-b330-cfe7ee048a2b",
   "metadata": {},
   "source": [
    "**Decision Tree Classifier**"
   ]
  },
  {
   "cell_type": "code",
   "execution_count": 87,
   "id": "df2c432c-113f-4ccf-8959-d3d09725feb0",
   "metadata": {},
   "outputs": [
    {
     "name": "stdout",
     "output_type": "stream",
     "text": [
      "Accuracy Score: 95.55555555555556 %\n",
      "              precision    recall  f1-score   support\n",
      "\n",
      "           0       1.00      1.00      1.00        16\n",
      "           1       0.91      0.91      0.91        11\n",
      "           2       0.94      0.94      0.94        18\n",
      "\n",
      "    accuracy                           0.96        45\n",
      "   macro avg       0.95      0.95      0.95        45\n",
      "weighted avg       0.96      0.96      0.96        45\n",
      "\n"
     ]
    }
   ],
   "source": [
    "dtree = DecisionTreeClassifier()    # default criteria='gini'\n",
    "dtree.fit(X_train, y_train)\n",
    "\n",
    "y_pred = dtree.predict(X_test)\n",
    "print(f'Accuracy Score: {accuracy_score(y_test, y_pred) * 100} %')\n",
    "print(classification_report(y_test, y_pred))"
   ]
  },
  {
   "cell_type": "markdown",
   "id": "a9151d7e-1e93-40ce-aee9-e24953a42aa9",
   "metadata": {},
   "source": [
    "**5.2 b) Training set is chosen by Random Subsampling.**"
   ]
  },
  {
   "cell_type": "code",
   "execution_count": 88,
   "id": "e9469039-5a2f-44f8-9a00-0895e73cebe9",
   "metadata": {},
   "outputs": [],
   "source": [
    "from sklearn.model_selection import ShuffleSplit"
   ]
  },
  {
   "cell_type": "code",
   "execution_count": 89,
   "id": "2a583afa-5eee-440c-81aa-f7bfe40b8307",
   "metadata": {},
   "outputs": [],
   "source": [
    "rs = ShuffleSplit(n_splits=10, test_size=0.25, random_state=100)\n",
    "\n",
    "accuracy_gnb = []\n",
    "accuracy_knn = []\n",
    "accuracy_dtree = []"
   ]
  },
  {
   "cell_type": "code",
   "execution_count": 90,
   "id": "4540525c-6337-4504-a726-97e55a8dbebe",
   "metadata": {},
   "outputs": [],
   "source": [
    "for train_index, test_index in rs.split(X):\n",
    "    X_train = np.array([X[index] for index in train_index])\n",
    "    X_test = np.array([X[index] for index in test_index])\n",
    "    y_train = np.array([y[index] for index in train_index])\n",
    "    y_test = np.array([y[index] for index in test_index])\n",
    "\n",
    "    y_pred = GaussianNB().fit(X_train, y_train).predict(X_test)\n",
    "    accuracy_gnb.append(accuracy_score(y_test, y_pred))\n",
    "\n",
    "    y_pred = KNeighborsClassifier().fit(X_train, y_train).predict(X_test)\n",
    "    accuracy_knn.append(accuracy_score(y_test, y_pred))\n",
    "\n",
    "    y_pred = DecisionTreeClassifier().fit(X_train, y_train).predict(X_test)\n",
    "    accuracy_dtree.append(accuracy_score(y_test, y_pred))"
   ]
  },
  {
   "cell_type": "code",
   "execution_count": 91,
   "id": "f353f89c-13cb-46d1-b343-7fe99f4da0e9",
   "metadata": {},
   "outputs": [
    {
     "name": "stdout",
     "output_type": "stream",
     "text": [
      "Mean accuracy of Gaussian Naive Bayes: 96.05263157894737 %\n",
      "Mean accuracy of K-Nearest Neighbors: 96.84210526315789 %\n",
      "Mean accuracy of Decision Tree Classifier: 94.99999999999999 %\n"
     ]
    }
   ],
   "source": [
    "print(f'Mean accuracy of Gaussian Naive Bayes: {sum(accuracy_gnb) / len(accuracy_gnb) * 100} %')\n",
    "print(f'Mean accuracy of K-Nearest Neighbors: {sum(accuracy_knn) / len(accuracy_knn) * 100} %')\n",
    "print(f'Mean accuracy of Decision Tree Classifier: {sum(accuracy_dtree) / len(accuracy_dtree) * 100} %')"
   ]
  },
  {
   "cell_type": "markdown",
   "id": "29914f04-6e6d-4f4f-8ae0-a7857342e4bc",
   "metadata": {},
   "source": [
    "**5.2 c) Training set is chosen by Cross Validation.**"
   ]
  },
  {
   "cell_type": "code",
   "execution_count": 92,
   "id": "8ccbb3b8-412c-4a7e-b848-52574bc87d89",
   "metadata": {},
   "outputs": [
    {
     "name": "stdout",
     "output_type": "stream",
     "text": [
      "Mean accuracy of Gaussian Naive Bayes: 96.05263157894737 %\n",
      "Mean accuracy of K-Nearest Neighbors: 96.84210526315789 %\n",
      "Mean accuracy of Decision Tree Classifier: 94.99999999999999 %\n"
     ]
    }
   ],
   "source": [
    "dtree = DecisionTreeClassifier()\n",
    "knn = KNeighborsClassifier()\n",
    "gnb = GaussianNB()\n",
    "print(f'Mean accuracy of Gaussian Naive Bayes: {sum(accuracy_gnb) / len(accuracy_gnb) * 100} %')\n",
    "print(f'Mean accuracy of K-Nearest Neighbors: {sum(accuracy_knn) / len(accuracy_knn) * 100} %')\n",
    "print(f'Mean accuracy of Decision Tree Classifier: {sum(accuracy_dtree) / len(accuracy_dtree) * 100} %')"
   ]
  },
  {
   "cell_type": "markdown",
   "id": "3190f7e7-53cb-4e89-85c7-32c2deb58e03",
   "metadata": {},
   "source": [
    "**5.3 Data is scaled to standard format.**"
   ]
  },
  {
   "cell_type": "code",
   "execution_count": 93,
   "id": "810e5f93-5849-4837-a2fb-8f69fbeef726",
   "metadata": {},
   "outputs": [],
   "source": [
    "from sklearn.preprocessing import StandardScaler"
   ]
  },
  {
   "cell_type": "code",
   "execution_count": 94,
   "id": "1ecf8546-efd9-4837-8e4e-bc03cc901c59",
   "metadata": {},
   "outputs": [],
   "source": [
    "X_train, X_test, y_train, y_test = train_test_split(X, y, test_size=0.25, random_state=100)"
   ]
  },
  {
   "cell_type": "code",
   "execution_count": 95,
   "id": "efc223fa-c9c8-418f-b840-d5da4ca77830",
   "metadata": {},
   "outputs": [],
   "source": [
    "sc = StandardScaler()\n",
    "X_train = sc.fit_transform(X_train)\n",
    "X_test = sc.transform(X_test)"
   ]
  },
  {
   "cell_type": "markdown",
   "id": "c580bafc-8a0f-4ff2-a21b-0c5b5fd3152d",
   "metadata": {},
   "source": [
    "**Naive Bayes Classifier**"
   ]
  },
  {
   "cell_type": "code",
   "execution_count": 96,
   "id": "4f8160e7-27ef-438f-965a-9330dcadcd00",
   "metadata": {},
   "outputs": [
    {
     "name": "stdout",
     "output_type": "stream",
     "text": [
      "Accuracy Score: 94.73684210526315 %\n"
     ]
    }
   ],
   "source": [
    "gnb = GaussianNB()\n",
    "gnb.fit(X_train, y_train)\n",
    "\n",
    "y_pred = gnb.predict(X_test)\n",
    "print(f'Accuracy Score: {accuracy_score(y_test, y_pred) * 100} %')"
   ]
  },
  {
   "cell_type": "markdown",
   "id": "af4da2fc-0fc3-4c26-b91c-152b337333c6",
   "metadata": {},
   "source": [
    "**K-Nearest Neighbors Classifier**"
   ]
  },
  {
   "cell_type": "code",
   "execution_count": 97,
   "id": "5f75a5ab-816e-4d2b-93dc-0eb80ba6d26b",
   "metadata": {},
   "outputs": [
    {
     "name": "stdout",
     "output_type": "stream",
     "text": [
      "Accuracy Score: 97.36842105263158 %\n",
      "              precision    recall  f1-score   support\n",
      "\n",
      "           0       1.00      1.00      1.00        14\n",
      "           1       0.91      1.00      0.95        10\n",
      "           2       1.00      0.93      0.96        14\n",
      "\n",
      "    accuracy                           0.97        38\n",
      "   macro avg       0.97      0.98      0.97        38\n",
      "weighted avg       0.98      0.97      0.97        38\n",
      "\n"
     ]
    }
   ],
   "source": [
    "knn = KNeighborsClassifier()    # default k=5\n",
    "knn.fit(X_train, y_train)\n",
    "\n",
    "y_pred = knn.predict(X_test)\n",
    "print(f'Accuracy Score: {accuracy_score(y_test, y_pred) * 100} %')\n",
    "print(classification_report(y_test, y_pred))"
   ]
  },
  {
   "cell_type": "markdown",
   "id": "7ea73849-3151-4ef0-b1b5-31ac568fba73",
   "metadata": {},
   "source": [
    "**Decision Tree Classifier**"
   ]
  },
  {
   "cell_type": "code",
   "execution_count": 98,
   "id": "20c4163d-8d24-4725-897f-bdb15e5e2a7e",
   "metadata": {},
   "outputs": [
    {
     "name": "stdout",
     "output_type": "stream",
     "text": [
      "Accuracy Score: 94.73684210526315 %\n",
      "              precision    recall  f1-score   support\n",
      "\n",
      "           0       1.00      1.00      1.00        14\n",
      "           1       0.90      0.90      0.90        10\n",
      "           2       0.93      0.93      0.93        14\n",
      "\n",
      "    accuracy                           0.95        38\n",
      "   macro avg       0.94      0.94      0.94        38\n",
      "weighted avg       0.95      0.95      0.95        38\n",
      "\n"
     ]
    }
   ],
   "source": [
    "dtree = DecisionTreeClassifier()    # default criteria='gini'\n",
    "dtree.fit(X_train, y_train)\n",
    "\n",
    "y_pred = dtree.predict(X_test)\n",
    "print(f'Accuracy Score: {accuracy_score(y_test, y_pred) * 100} %')\n",
    "print(classification_report(y_test, y_pred))"
   ]
  },
  {
   "cell_type": "markdown",
   "id": "2d540a50-4f7e-4b7c-bf36-50420b70ba74",
   "metadata": {},
   "source": [
    "**Q6. Use Simple Kmeans, DBScan, Hierachical clustering algorithms for clustering. Compare the performance of clusters by changing the parameters involved in the algorithms.**"
   ]
  },
  {
   "cell_type": "code",
   "execution_count": 99,
   "id": "8952398c-9fef-4f13-bd3c-214c2a964225",
   "metadata": {},
   "outputs": [],
   "source": [
    "#import numpy as np\n",
    "#import pandas as pd\n",
    "#import matplotlib.pyplot as plt\n",
    "\n",
    "#from sklearn.datasets import load_iris\n",
    "from sklearn.cluster import KMeans, AgglomerativeClustering, DBSCAN"
   ]
  },
  {
   "cell_type": "code",
   "execution_count": 100,
   "id": "551e1dc1-c860-4bf1-89e2-4a8055cea211",
   "metadata": {},
   "outputs": [
    {
     "data": {
      "text/html": [
       "<div>\n",
       "<style scoped>\n",
       "    .dataframe tbody tr th:only-of-type {\n",
       "        vertical-align: middle;\n",
       "    }\n",
       "\n",
       "    .dataframe tbody tr th {\n",
       "        vertical-align: top;\n",
       "    }\n",
       "\n",
       "    .dataframe thead th {\n",
       "        text-align: right;\n",
       "    }\n",
       "</style>\n",
       "<table border=\"1\" class=\"dataframe\">\n",
       "  <thead>\n",
       "    <tr style=\"text-align: right;\">\n",
       "      <th></th>\n",
       "      <th>sepal length (cm)</th>\n",
       "      <th>sepal width (cm)</th>\n",
       "      <th>petal length (cm)</th>\n",
       "      <th>petal width (cm)</th>\n",
       "      <th>target</th>\n",
       "    </tr>\n",
       "  </thead>\n",
       "  <tbody>\n",
       "    <tr>\n",
       "      <th>0</th>\n",
       "      <td>5.1</td>\n",
       "      <td>3.5</td>\n",
       "      <td>1.4</td>\n",
       "      <td>0.2</td>\n",
       "      <td>0</td>\n",
       "    </tr>\n",
       "    <tr>\n",
       "      <th>1</th>\n",
       "      <td>4.9</td>\n",
       "      <td>3.0</td>\n",
       "      <td>1.4</td>\n",
       "      <td>0.2</td>\n",
       "      <td>0</td>\n",
       "    </tr>\n",
       "    <tr>\n",
       "      <th>2</th>\n",
       "      <td>4.7</td>\n",
       "      <td>3.2</td>\n",
       "      <td>1.3</td>\n",
       "      <td>0.2</td>\n",
       "      <td>0</td>\n",
       "    </tr>\n",
       "    <tr>\n",
       "      <th>3</th>\n",
       "      <td>4.6</td>\n",
       "      <td>3.1</td>\n",
       "      <td>1.5</td>\n",
       "      <td>0.2</td>\n",
       "      <td>0</td>\n",
       "    </tr>\n",
       "    <tr>\n",
       "      <th>4</th>\n",
       "      <td>5.0</td>\n",
       "      <td>3.6</td>\n",
       "      <td>1.4</td>\n",
       "      <td>0.2</td>\n",
       "      <td>0</td>\n",
       "    </tr>\n",
       "  </tbody>\n",
       "</table>\n",
       "</div>"
      ],
      "text/plain": [
       "   sepal length (cm)  sepal width (cm)  petal length (cm)  petal width (cm)  \\\n",
       "0                5.1               3.5                1.4               0.2   \n",
       "1                4.9               3.0                1.4               0.2   \n",
       "2                4.7               3.2                1.3               0.2   \n",
       "3                4.6               3.1                1.5               0.2   \n",
       "4                5.0               3.6                1.4               0.2   \n",
       "\n",
       "   target  \n",
       "0       0  \n",
       "1       0  \n",
       "2       0  \n",
       "3       0  \n",
       "4       0  "
      ]
     },
     "execution_count": 100,
     "metadata": {},
     "output_type": "execute_result"
    }
   ],
   "source": [
    "df = load_iris(as_frame=True).frame\n",
    "df.head()"
   ]
  },
  {
   "cell_type": "markdown",
   "id": "f0a27550-f8cc-4e4c-9add-16d73d3b805b",
   "metadata": {},
   "source": [
    "**Plotting Sepal Width and Petal Length**"
   ]
  },
  {
   "cell_type": "code",
   "execution_count": 103,
   "id": "3390453d-0fa1-4d2b-8248-fe245d7d802c",
   "metadata": {},
   "outputs": [
    {
     "data": {
      "image/png": "[encoded data removed]",
      "text/plain": [
       "<Figure size 640x480 with 1 Axes>"
      ]
     },
     "metadata": {},
     "output_type": "display_data"
    }
   ],
   "source": [
    "for index in range(150):\n",
    "    if index <= 49:\n",
    "        plt.plot(df.values[index:, 1], df.values[index:, 2], 'ro')\n",
    "    elif index > 49 and index <= 99:\n",
    "        plt.plot(df.values[index:, 1], df.values[index:, 2], 'bo')\n",
    "    elif index > 99:\n",
    "        plt.plot(df.values[index:, 1], df.values[index:, 2], 'go')\n",
    "        \n",
    "plt.show()"
   ]
  },
  {
   "cell_type": "markdown",
   "id": "65a5cc29-7c25-41a6-8a83-d71c4e860ac1",
   "metadata": {},
   "source": [
    "**K-Means Clustering**"
   ]
  },
  {
   "cell_type": "code",
   "execution_count": 109,
   "id": "42775588-34b9-4cf8-97a7-6a9224dda12a",
   "metadata": {},
   "outputs": [
    {
     "name": "stderr",
     "output_type": "stream",
     "text": [
      "C:\\Users\\lamot\\anaconda3\\Lib\\site-packages\\sklearn\\cluster\\_kmeans.py:870: FutureWarning: The default value of `n_init` will change from 10 to 'auto' in 1.4. Set the value of `n_init` explicitly to suppress the warning\n",
      "  warnings.warn(\n",
      "C:\\Users\\lamot\\anaconda3\\Lib\\site-packages\\sklearn\\cluster\\_kmeans.py:1382: UserWarning: KMeans is known to have a memory leak on Windows with MKL, when there are less chunks than available threads. You can avoid it by setting the environment variable OMP_NUM_THREADS=1.\n",
      "  warnings.warn(\n"
     ]
    },
    {
     "data": {
      "text/html": [
       "<style>#sk-container-id-4 {color: black;background-color: white;}#sk-container-id-4 pre{padding: 0;}#sk-container-id-4 div.sk-toggleable {background-color: white;}#sk-container-id-4 label.sk-toggleable__label {cursor: pointer;display: block;width: 100%;margin-bottom: 0;padding: 0.3em;box-sizing: border-box;text-align: center;}#sk-container-id-4 label.sk-toggleable__label-arrow:before {content: \"▸\";float: left;margin-right: 0.25em;color: #696969;}#sk-container-id-4 label.sk-toggleable__label-arrow:hover:before {color: black;}#sk-container-id-4 div.sk-estimator:hover label.sk-toggleable__label-arrow:before {color: black;}#sk-container-id-4 div.sk-toggleable__content {max-height: 0;max-width: 0;overflow: hidden;text-align: left;background-color: #f0f8ff;}#sk-container-id-4 div.sk-toggleable__content pre {margin: 0.2em;color: black;border-radius: 0.25em;background-color: #f0f8ff;}#sk-container-id-4 input.sk-toggleable__control:checked~div.sk-toggleable__content {max-height: 200px;max-width: 100%;overflow: auto;}#sk-container-id-4 input.sk-toggleable__control:checked~label.sk-toggleable__label-arrow:before {content: \"▾\";}#sk-container-id-4 div.sk-estimator input.sk-toggleable__control:checked~label.sk-toggleable__label {background-color: #d4ebff;}#sk-container-id-4 div.sk-label input.sk-toggleable__control:checked~label.sk-toggleable__label {background-color: #d4ebff;}#sk-container-id-4 input.sk-hidden--visually {border: 0;clip: rect(1px 1px 1px 1px);clip: rect(1px, 1px, 1px, 1px);height: 1px;margin: -1px;overflow: hidden;padding: 0;position: absolute;width: 1px;}#sk-container-id-4 div.sk-estimator {font-family: monospace;background-color: #f0f8ff;border: 1px dotted black;border-radius: 0.25em;box-sizing: border-box;margin-bottom: 0.5em;}#sk-container-id-4 div.sk-estimator:hover {background-color: #d4ebff;}#sk-container-id-4 div.sk-parallel-item::after {content: \"\";width: 100%;border-bottom: 1px solid gray;flex-grow: 1;}#sk-container-id-4 div.sk-label:hover label.sk-toggleable__label {background-color: #d4ebff;}#sk-container-id-4 div.sk-serial::before {content: \"\";position: absolute;border-left: 1px solid gray;box-sizing: border-box;top: 0;bottom: 0;left: 50%;z-index: 0;}#sk-container-id-4 div.sk-serial {display: flex;flex-direction: column;align-items: center;background-color: white;padding-right: 0.2em;padding-left: 0.2em;position: relative;}#sk-container-id-4 div.sk-item {position: relative;z-index: 1;}#sk-container-id-4 div.sk-parallel {display: flex;align-items: stretch;justify-content: center;background-color: white;position: relative;}#sk-container-id-4 div.sk-item::before, #sk-container-id-4 div.sk-parallel-item::before {content: \"\";position: absolute;border-left: 1px solid gray;box-sizing: border-box;top: 0;bottom: 0;left: 50%;z-index: -1;}#sk-container-id-4 div.sk-parallel-item {display: flex;flex-direction: column;z-index: 1;position: relative;background-color: white;}#sk-container-id-4 div.sk-parallel-item:first-child::after {align-self: flex-end;width: 50%;}#sk-container-id-4 div.sk-parallel-item:last-child::after {align-self: flex-start;width: 50%;}#sk-container-id-4 div.sk-parallel-item:only-child::after {width: 0;}#sk-container-id-4 div.sk-dashed-wrapped {border: 1px dashed gray;margin: 0 0.4em 0.5em 0.4em;box-sizing: border-box;padding-bottom: 0.4em;background-color: white;}#sk-container-id-4 div.sk-label label {font-family: monospace;font-weight: bold;display: inline-block;line-height: 1.2em;}#sk-container-id-4 div.sk-label-container {text-align: center;}#sk-container-id-4 div.sk-container {/* jupyter's `normalize.less` sets `[hidden] { display: none; }` but bootstrap.min.css set `[hidden] { display: none !important; }` so we also need the `!important` here to be able to override the default hidden behavior on the sphinx rendered scikit-learn.org. See: https://github.com/scikit-learn/scikit-learn/issues/21755 */display: inline-block !important;position: relative;}#sk-container-id-4 div.sk-text-repr-fallback {display: none;}</style><div id=\"sk-container-id-4\" class=\"sk-top-container\"><div class=\"sk-text-repr-fallback\"><pre>KMeans(n_clusters=3)</pre><b>In a Jupyter environment, please rerun this cell to show the HTML representation or trust the notebook. <br />On GitHub, the HTML representation is unable to render, please try loading this page with nbviewer.org.</b></div><div class=\"sk-container\" hidden><div class=\"sk-item\"><div class=\"sk-estimator sk-toggleable\"><input class=\"sk-toggleable__control sk-hidden--visually\" id=\"sk-estimator-id-4\" type=\"checkbox\" checked><label for=\"sk-estimator-id-4\" class=\"sk-toggleable__label sk-toggleable__label-arrow\">KMeans</label><div class=\"sk-toggleable__content\"><pre>KMeans(n_clusters=3)</pre></div></div></div></div></div>"
      ],
      "text/plain": [
       "KMeans(n_clusters=3)"
      ]
     },
     "execution_count": 109,
     "metadata": {},
     "output_type": "execute_result"
    }
   ],
   "source": [
    "k_cluster = KMeans(n_clusters=3)\n",
    "k_cluster.fit(df.values[:, 1:3])"
   ]
  },
  {
   "cell_type": "code",
   "execution_count": 111,
   "id": "e2f35601-f0d0-4df4-b74d-ef0981c8442c",
   "metadata": {},
   "outputs": [
    {
     "data": {
      "image/png": "[encoded data removed]",
      "text/plain": [
       "<Figure size 640x480 with 1 Axes>"
      ]
     },
     "metadata": {},
     "output_type": "display_data"
    }
   ],
   "source": [
    "for index in range(150):\n",
    "    if k_cluster.labels_[index] == 0:\n",
    "        plt.plot(df.values[index:, 1], df.values[index:, 2], 'go')\n",
    "    elif k_cluster.labels_[index] == 1:\n",
    "        plt.plot(df.values[index:, 1], df.values[index:, 2], 'ro')\n",
    "    elif k_cluster.labels_[index] == 2:\n",
    "        plt.plot(df.values[index:, 1], df.values[index:, 2], 'bo')\n",
    "        \n",
    "plt.plot(k_cluster.cluster_centers_[:, 0], k_cluster.cluster_centers_[:, 1], 'o', c='black')\n",
    "plt.show()"
   ]
  },
  {
   "cell_type": "markdown",
   "id": "87ce1a8b-5891-4793-b59d-1a80686c26de",
   "metadata": {},
   "source": [
    "**Hierarchical Agglomerative Clustering**"
   ]
  },
  {
   "cell_type": "code",
   "execution_count": 113,
   "id": "46b7d80a-5ef4-48cb-90e5-7dfb3997e560",
   "metadata": {},
   "outputs": [
    {
     "data": {
      "text/html": [
       "<style>#sk-container-id-5 {color: black;background-color: white;}#sk-container-id-5 pre{padding: 0;}#sk-container-id-5 div.sk-toggleable {background-color: white;}#sk-container-id-5 label.sk-toggleable__label {cursor: pointer;display: block;width: 100%;margin-bottom: 0;padding: 0.3em;box-sizing: border-box;text-align: center;}#sk-container-id-5 label.sk-toggleable__label-arrow:before {content: \"▸\";float: left;margin-right: 0.25em;color: #696969;}#sk-container-id-5 label.sk-toggleable__label-arrow:hover:before {color: black;}#sk-container-id-5 div.sk-estimator:hover label.sk-toggleable__label-arrow:before {color: black;}#sk-container-id-5 div.sk-toggleable__content {max-height: 0;max-width: 0;overflow: hidden;text-align: left;background-color: #f0f8ff;}#sk-container-id-5 div.sk-toggleable__content pre {margin: 0.2em;color: black;border-radius: 0.25em;background-color: #f0f8ff;}#sk-container-id-5 input.sk-toggleable__control:checked~div.sk-toggleable__content {max-height: 200px;max-width: 100%;overflow: auto;}#sk-container-id-5 input.sk-toggleable__control:checked~label.sk-toggleable__label-arrow:before {content: \"▾\";}#sk-container-id-5 div.sk-estimator input.sk-toggleable__control:checked~label.sk-toggleable__label {background-color: #d4ebff;}#sk-container-id-5 div.sk-label input.sk-toggleable__control:checked~label.sk-toggleable__label {background-color: #d4ebff;}#sk-container-id-5 input.sk-hidden--visually {border: 0;clip: rect(1px 1px 1px 1px);clip: rect(1px, 1px, 1px, 1px);height: 1px;margin: -1px;overflow: hidden;padding: 0;position: absolute;width: 1px;}#sk-container-id-5 div.sk-estimator {font-family: monospace;background-color: #f0f8ff;border: 1px dotted black;border-radius: 0.25em;box-sizing: border-box;margin-bottom: 0.5em;}#sk-container-id-5 div.sk-estimator:hover {background-color: #d4ebff;}#sk-container-id-5 div.sk-parallel-item::after {content: \"\";width: 100%;border-bottom: 1px solid gray;flex-grow: 1;}#sk-container-id-5 div.sk-label:hover label.sk-toggleable__label {background-color: #d4ebff;}#sk-container-id-5 div.sk-serial::before {content: \"\";position: absolute;border-left: 1px solid gray;box-sizing: border-box;top: 0;bottom: 0;left: 50%;z-index: 0;}#sk-container-id-5 div.sk-serial {display: flex;flex-direction: column;align-items: center;background-color: white;padding-right: 0.2em;padding-left: 0.2em;position: relative;}#sk-container-id-5 div.sk-item {position: relative;z-index: 1;}#sk-container-id-5 div.sk-parallel {display: flex;align-items: stretch;justify-content: center;background-color: white;position: relative;}#sk-container-id-5 div.sk-item::before, #sk-container-id-5 div.sk-parallel-item::before {content: \"\";position: absolute;border-left: 1px solid gray;box-sizing: border-box;top: 0;bottom: 0;left: 50%;z-index: -1;}#sk-container-id-5 div.sk-parallel-item {display: flex;flex-direction: column;z-index: 1;position: relative;background-color: white;}#sk-container-id-5 div.sk-parallel-item:first-child::after {align-self: flex-end;width: 50%;}#sk-container-id-5 div.sk-parallel-item:last-child::after {align-self: flex-start;width: 50%;}#sk-container-id-5 div.sk-parallel-item:only-child::after {width: 0;}#sk-container-id-5 div.sk-dashed-wrapped {border: 1px dashed gray;margin: 0 0.4em 0.5em 0.4em;box-sizing: border-box;padding-bottom: 0.4em;background-color: white;}#sk-container-id-5 div.sk-label label {font-family: monospace;font-weight: bold;display: inline-block;line-height: 1.2em;}#sk-container-id-5 div.sk-label-container {text-align: center;}#sk-container-id-5 div.sk-container {/* jupyter's `normalize.less` sets `[hidden] { display: none; }` but bootstrap.min.css set `[hidden] { display: none !important; }` so we also need the `!important` here to be able to override the default hidden behavior on the sphinx rendered scikit-learn.org. See: https://github.com/scikit-learn/scikit-learn/issues/21755 */display: inline-block !important;position: relative;}#sk-container-id-5 div.sk-text-repr-fallback {display: none;}</style><div id=\"sk-container-id-5\" class=\"sk-top-container\"><div class=\"sk-text-repr-fallback\"><pre>AgglomerativeClustering(n_clusters=3)</pre><b>In a Jupyter environment, please rerun this cell to show the HTML representation or trust the notebook. <br />On GitHub, the HTML representation is unable to render, please try loading this page with nbviewer.org.</b></div><div class=\"sk-container\" hidden><div class=\"sk-item\"><div class=\"sk-estimator sk-toggleable\"><input class=\"sk-toggleable__control sk-hidden--visually\" id=\"sk-estimator-id-5\" type=\"checkbox\" checked><label for=\"sk-estimator-id-5\" class=\"sk-toggleable__label sk-toggleable__label-arrow\">AgglomerativeClustering</label><div class=\"sk-toggleable__content\"><pre>AgglomerativeClustering(n_clusters=3)</pre></div></div></div></div></div>"
      ],
      "text/plain": [
       "AgglomerativeClustering(n_clusters=3)"
      ]
     },
     "execution_count": 113,
     "metadata": {},
     "output_type": "execute_result"
    }
   ],
   "source": [
    "agg_cluster = AgglomerativeClustering(n_clusters=3)\n",
    "agg_cluster.fit(df.values[:, 1:3])"
   ]
  },
  {
   "cell_type": "code",
   "execution_count": 115,
   "id": "761f17d8-47d3-4a65-9ad0-aec37fb49cbd",
   "metadata": {},
   "outputs": [
    {
     "data": {
      "image/png": "[encoded data removed]",
      "text/plain": [
       "<Figure size 640x480 with 1 Axes>"
      ]
     },
     "metadata": {},
     "output_type": "display_data"
    }
   ],
   "source": [
    "for index in range(150):\n",
    "    if agg_cluster.labels_[index] == 0:\n",
    "        plt.plot(df.values[index:, 1], df.values[index:, 2], 'go')\n",
    "    elif agg_cluster.labels_[index] == 1:\n",
    "        plt.plot(df.values[index:, 1], df.values[index:, 2], 'ro')\n",
    "    elif agg_cluster.labels_[index] == 2:\n",
    "        plt.plot(df.values[index:, 1], df.values[index:, 2], 'bo')\n",
    "        \n",
    "plt.show()"
   ]
  },
  {
   "cell_type": "markdown",
   "id": "44f1faf7-4b7d-4ee6-a980-38063ed34226",
   "metadata": {},
   "source": [
    "**DBSCAN Clustering**"
   ]
  },
  {
   "cell_type": "code",
   "execution_count": 116,
   "id": "4cf94fd5-7b70-402e-b1fd-235e4ed18e59",
   "metadata": {},
   "outputs": [
    {
     "data": {
      "text/html": [
       "<style>#sk-container-id-6 {color: black;background-color: white;}#sk-container-id-6 pre{padding: 0;}#sk-container-id-6 div.sk-toggleable {background-color: white;}#sk-container-id-6 label.sk-toggleable__label {cursor: pointer;display: block;width: 100%;margin-bottom: 0;padding: 0.3em;box-sizing: border-box;text-align: center;}#sk-container-id-6 label.sk-toggleable__label-arrow:before {content: \"▸\";float: left;margin-right: 0.25em;color: #696969;}#sk-container-id-6 label.sk-toggleable__label-arrow:hover:before {color: black;}#sk-container-id-6 div.sk-estimator:hover label.sk-toggleable__label-arrow:before {color: black;}#sk-container-id-6 div.sk-toggleable__content {max-height: 0;max-width: 0;overflow: hidden;text-align: left;background-color: #f0f8ff;}#sk-container-id-6 div.sk-toggleable__content pre {margin: 0.2em;color: black;border-radius: 0.25em;background-color: #f0f8ff;}#sk-container-id-6 input.sk-toggleable__control:checked~div.sk-toggleable__content {max-height: 200px;max-width: 100%;overflow: auto;}#sk-container-id-6 input.sk-toggleable__control:checked~label.sk-toggleable__label-arrow:before {content: \"▾\";}#sk-container-id-6 div.sk-estimator input.sk-toggleable__control:checked~label.sk-toggleable__label {background-color: #d4ebff;}#sk-container-id-6 div.sk-label input.sk-toggleable__control:checked~label.sk-toggleable__label {background-color: #d4ebff;}#sk-container-id-6 input.sk-hidden--visually {border: 0;clip: rect(1px 1px 1px 1px);clip: rect(1px, 1px, 1px, 1px);height: 1px;margin: -1px;overflow: hidden;padding: 0;position: absolute;width: 1px;}#sk-container-id-6 div.sk-estimator {font-family: monospace;background-color: #f0f8ff;border: 1px dotted black;border-radius: 0.25em;box-sizing: border-box;margin-bottom: 0.5em;}#sk-container-id-6 div.sk-estimator:hover {background-color: #d4ebff;}#sk-container-id-6 div.sk-parallel-item::after {content: \"\";width: 100%;border-bottom: 1px solid gray;flex-grow: 1;}#sk-container-id-6 div.sk-label:hover label.sk-toggleable__label {background-color: #d4ebff;}#sk-container-id-6 div.sk-serial::before {content: \"\";position: absolute;border-left: 1px solid gray;box-sizing: border-box;top: 0;bottom: 0;left: 50%;z-index: 0;}#sk-container-id-6 div.sk-serial {display: flex;flex-direction: column;align-items: center;background-color: white;padding-right: 0.2em;padding-left: 0.2em;position: relative;}#sk-container-id-6 div.sk-item {position: relative;z-index: 1;}#sk-container-id-6 div.sk-parallel {display: flex;align-items: stretch;justify-content: center;background-color: white;position: relative;}#sk-container-id-6 div.sk-item::before, #sk-container-id-6 div.sk-parallel-item::before {content: \"\";position: absolute;border-left: 1px solid gray;box-sizing: border-box;top: 0;bottom: 0;left: 50%;z-index: -1;}#sk-container-id-6 div.sk-parallel-item {display: flex;flex-direction: column;z-index: 1;position: relative;background-color: white;}#sk-container-id-6 div.sk-parallel-item:first-child::after {align-self: flex-end;width: 50%;}#sk-container-id-6 div.sk-parallel-item:last-child::after {align-self: flex-start;width: 50%;}#sk-container-id-6 div.sk-parallel-item:only-child::after {width: 0;}#sk-container-id-6 div.sk-dashed-wrapped {border: 1px dashed gray;margin: 0 0.4em 0.5em 0.4em;box-sizing: border-box;padding-bottom: 0.4em;background-color: white;}#sk-container-id-6 div.sk-label label {font-family: monospace;font-weight: bold;display: inline-block;line-height: 1.2em;}#sk-container-id-6 div.sk-label-container {text-align: center;}#sk-container-id-6 div.sk-container {/* jupyter's `normalize.less` sets `[hidden] { display: none; }` but bootstrap.min.css set `[hidden] { display: none !important; }` so we also need the `!important` here to be able to override the default hidden behavior on the sphinx rendered scikit-learn.org. See: https://github.com/scikit-learn/scikit-learn/issues/21755 */display: inline-block !important;position: relative;}#sk-container-id-6 div.sk-text-repr-fallback {display: none;}</style><div id=\"sk-container-id-6\" class=\"sk-top-container\"><div class=\"sk-text-repr-fallback\"><pre>DBSCAN()</pre><b>In a Jupyter environment, please rerun this cell to show the HTML representation or trust the notebook. <br />On GitHub, the HTML representation is unable to render, please try loading this page with nbviewer.org.</b></div><div class=\"sk-container\" hidden><div class=\"sk-item\"><div class=\"sk-estimator sk-toggleable\"><input class=\"sk-toggleable__control sk-hidden--visually\" id=\"sk-estimator-id-6\" type=\"checkbox\" checked><label for=\"sk-estimator-id-6\" class=\"sk-toggleable__label sk-toggleable__label-arrow\">DBSCAN</label><div class=\"sk-toggleable__content\"><pre>DBSCAN()</pre></div></div></div></div></div>"
      ],
      "text/plain": [
       "DBSCAN()"
      ]
     },
     "execution_count": 116,
     "metadata": {},
     "output_type": "execute_result"
    }
   ],
   "source": [
    "db_cluster = DBSCAN()\n",
    "db_cluster.fit(df.values[:, 1:3])"
   ]
  },
  {
   "cell_type": "code",
   "execution_count": 118,
   "id": "d1cf07ec-c453-4857-aa52-98acd8963fe6",
   "metadata": {},
   "outputs": [
    {
     "data": {
      "image/png": "[encoded data removed]",
      "text/plain": [
       "<Figure size 640x480 with 1 Axes>"
      ]
     },
     "metadata": {},
     "output_type": "display_data"
    }
   ],
   "source": [
    "for index in range(150):\n",
    "    if db_cluster.labels_[index] == 0:\n",
    "        plt.plot(df.values[index:, 1], df.values[index:, 2], 'go')\n",
    "    elif db_cluster.labels_[index] == 1:\n",
    "        plt.plot(df.values[index:, 1], df.values[index:, 2], 'ro')\n",
    "    elif db_cluster.labels_[index] == 2:\n",
    "        plt.plot(df.values[index:, 1], df.values[index:, 2], 'bo')\n",
    "        \n",
    "plt.show()"
   ]
  }
 ],
 "metadata": {
  "kernelspec": {
   "display_name": "Python 3 (ipykernel)",
   "language": "python",
   "name": "python3"
  },
  "language_info": {
   "codemirror_mode": {
    "name": "ipython",
    "version": 3
   },
   "file_extension": ".py",
   "mimetype": "text/x-python",
   "name": "python",
   "nbconvert_exporter": "python",
   "pygments_lexer": "ipython3",
   "version": "3.11.7"
  }
 },
 "nbformat": 4,
 "nbformat_minor": 5
}
