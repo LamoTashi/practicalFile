{
 "cells": [
  {
   "cell_type": "markdown",
   "id": "cb11f0c4-59e0-4f69-9bfa-072a43b3921c",
   "metadata": {},
   "source": [
    "**Question 1: Perform elementary mathematical operations in Octave/MATLAB or python like \n",
    "addition, multiplication, division and exponentiation.**"
   ]
  },
  {
   "cell_type": "code",
   "execution_count": 1,
   "id": "0de18fc4-31a2-401c-aa19-d84e89e3efb4",
   "metadata": {},
   "outputs": [
    {
     "name": "stdout",
     "output_type": "stream",
     "text": [
      "First value- 2 \n",
      "Second value- 3\n",
      "Addition- 5\n",
      "Multiplication- 6\n",
      "Division- 0.6666666666666666\n",
      "Exponent- 8\n"
     ]
    }
   ],
   "source": [
    "val1=2\n",
    "val2=3\n",
    "#using addition operator\n",
    "res1=val1+val2\n",
    "print(\"First value-\",val1,\"\\nSecond value-\",val2)\n",
    "print(\"Addition-\",res1)\n",
    "#using multiplication operator\n",
    "res2=val1*val2\n",
    "print(\"Multiplication-\",res2)\n",
    "#using division operator\n",
    "res3=val1/val2\n",
    "print(\"Division-\",res3)\n",
    "#using exponential operator\n",
    "res4=val1 ** val2\n",
    "print(\"Exponent-\",res4)"
   ]
  },
  {
   "cell_type": "markdown",
   "id": "7aa2d003-4e1b-4ab8-a16b-8841a9966961",
   "metadata": {},
   "source": [
    "**Question 2: Perform elementary logical operations in Octave/MATLAB or python (like \n",
    "OR, AND, Checking for Equality, NOT, XOR).**"
   ]
  },
  {
   "cell_type": "code",
   "execution_count": 2,
   "id": "92e20c9a-a60b-4ead-a197-33e00789676e",
   "metadata": {},
   "outputs": [
    {
     "name": "stdout",
     "output_type": "stream",
     "text": [
      "The numbers are greater than 0\n",
      "Atleast one number is not greater than 0\n",
      "Either of the number is greater than 0\n",
      "No number is greater than 0\n",
      "10 is not divisible by either 3 and 6\n",
      "XOR of a=6, b=3 is 5\n",
      "Not Equal\n",
      "Equal\n"
     ]
    }
   ],
   "source": [
    "#Logical and operator\n",
    "a=10\n",
    "b=5 \n",
    "c=-4\n",
    "if a>0 and b>0:\n",
    "    print(\"The numbers are greater than 0\")\n",
    "if a>0 and b>0 and c>0:\n",
    "    print(\"The numbers are greater than 0\")\n",
    "else:\n",
    "    print(\"Atleast one number is not greater than 0\")\n",
    "\n",
    "#Logical or operator\n",
    "a=10 \n",
    "b=-10\n",
    "c=0\n",
    "if a>0 or b>0:\n",
    "    print(\"Either of the number is greater than 0\")\n",
    "else:\n",
    "    print(\"No number is greater than 0\")\n",
    "if b>0 or c>0:\n",
    "    print(\"Either of the number is greater than 0\")\n",
    "else:\n",
    "    print(\"No number is greater than 0\")\n",
    "\n",
    "#Logical not operator\n",
    "a=10\n",
    "if not a:\n",
    "    print(\"Boolean value of a is true\")\n",
    "if not(a%3==0 or a%6==0):\n",
    "    print(\"10 is not divisible by either 3 and 6\")\n",
    "else:\n",
    "    print(\"10 is divisible by either 3 or 6\")\n",
    "#Logical xor operator\n",
    "a=6\n",
    "b=3\n",
    "c=a^b\n",
    "print(\"XOR of a=6, b=3 is\",c)\n",
    "\n",
    "#Logical equality operator\n",
    "a=5\n",
    "b=3\n",
    "c=5\n",
    "if a==b:\n",
    "    print(\"Equal\")\n",
    "else:\n",
    "    print(\"Not Equal\")\n",
    "if a==c:\n",
    "    print(\"Equal\")\n",
    "else:\n",
    "    print(\"Not Equal\")"
   ]
  },
  {
   "cell_type": "markdown",
   "id": "1f2657c6-76d2-4b01-beed-4d7be6f76d53",
   "metadata": {},
   "source": [
    "**Question 3: Create, initialize and display simple variables and simple\r\n",
    "strings and use simple formatting for variable.**"
   ]
  },
  {
   "cell_type": "code",
   "execution_count": 3,
   "id": "cc6b55f0-e4e9-4de9-9a8e-263c885d1f50",
   "metadata": {},
   "outputs": [],
   "source": [
    "import numpy as py"
   ]
  },
  {
   "cell_type": "code",
   "execution_count": 4,
   "id": "7664107c-f655-49cc-b514-36cc8a4ed779",
   "metadata": {},
   "outputs": [
    {
     "name": "stdout",
     "output_type": "stream",
     "text": [
      "I like to have apples every day . \n"
     ]
    }
   ],
   "source": [
    "s='apples'\n",
    "print('I like to have {0} every day . '.format(s))"
   ]
  },
  {
   "cell_type": "code",
   "execution_count": 5,
   "id": "a74c7867-1952-4fb1-ab1c-0a0d9ec6b33f",
   "metadata": {},
   "outputs": [
    {
     "name": "stdout",
     "output_type": "stream",
     "text": [
      "6 is of the type integer, 1.9 is of the type float, hello is of the type string\n"
     ]
    }
   ],
   "source": [
    "s = '{0} is of type integer, {1} is of the type float, {2} is of the type string'\n",
    "print(f'{6} is of the type integer, {1.9} is of the type float, {\"hello\"} is of the type string')"
   ]
  },
  {
   "cell_type": "markdown",
   "id": "38719809-1059-4041-9331-65d437775222",
   "metadata": {},
   "source": [
    "**Question 4: Create/Define single dimension / multi-dimension arrays, and arrays\r\n",
    "with specific values like array of all ones, all zeros, array with random values\r\n",
    "within a range, or a diagonal matri**x."
   ]
  },
  {
   "cell_type": "code",
   "execution_count": 6,
   "id": "cf4c9e79-0d6b-4ca7-9907-8169d4e29500",
   "metadata": {},
   "outputs": [
    {
     "name": "stdout",
     "output_type": "stream",
     "text": [
      "dimension of array is : 1\n"
     ]
    },
    {
     "data": {
      "text/plain": [
       "array([1, 2, 3, 4, 5, 6])"
      ]
     },
     "execution_count": 6,
     "metadata": {},
     "output_type": "execute_result"
    }
   ],
   "source": [
    "arr = py.array([1,2,3,4,5,6])\n",
    "print('dimension of array is :',arr.ndim)\n",
    "arr"
   ]
  },
  {
   "cell_type": "code",
   "execution_count": 7,
   "id": "c0539a8f-7723-46b6-8995-19612c9804e2",
   "metadata": {},
   "outputs": [
    {
     "data": {
      "text/plain": [
       "array([[1, 2, 3],\n",
       "       [4, 5, 6]])"
      ]
     },
     "execution_count": 7,
     "metadata": {},
     "output_type": "execute_result"
    }
   ],
   "source": [
    "arr1 = arr.reshape((2,3))\n",
    "arr1"
   ]
  },
  {
   "cell_type": "code",
   "execution_count": 8,
   "id": "99d498f5-88e9-4bfc-9abb-19a97667db14",
   "metadata": {},
   "outputs": [
    {
     "name": "stdout",
     "output_type": "stream",
     "text": [
      "dimension of array is  1\n"
     ]
    },
    {
     "data": {
      "text/plain": [
       "array([1, 2, 3, 4, 5, 6])"
      ]
     },
     "execution_count": 8,
     "metadata": {},
     "output_type": "execute_result"
    }
   ],
   "source": [
    "arr=py.array([1,2,3,4,5,6])\n",
    "print('dimension of array is ',arr.ndim)\n",
    "arr"
   ]
  },
  {
   "cell_type": "code",
   "execution_count": 9,
   "id": "59dbeb69-bde1-4793-855c-10b7bb343791",
   "metadata": {},
   "outputs": [],
   "source": [
    "arr1=arr.reshape((2,3))"
   ]
  },
  {
   "cell_type": "code",
   "execution_count": 10,
   "id": "36540deb-65c3-469e-a777-5087d9b066c5",
   "metadata": {},
   "outputs": [
    {
     "name": "stdout",
     "output_type": "stream",
     "text": [
      "dimension of array is  2\n"
     ]
    }
   ],
   "source": [
    "print('dimension of array is ',arr1.ndim)"
   ]
  },
  {
   "cell_type": "code",
   "execution_count": 11,
   "id": "4ed8c497-7b09-4544-bcea-5a22064942cb",
   "metadata": {},
   "outputs": [
    {
     "data": {
      "text/plain": [
       "array([[0., 0., 0.],\n",
       "       [0., 0., 0.]])"
      ]
     },
     "execution_count": 11,
     "metadata": {},
     "output_type": "execute_result"
    }
   ],
   "source": [
    "arr2=py.zeros((2,3))\n",
    "arr2"
   ]
  },
  {
   "cell_type": "code",
   "execution_count": 12,
   "id": "f9470706-98e3-4a28-b83d-83fcadc77fdd",
   "metadata": {},
   "outputs": [
    {
     "data": {
      "text/plain": [
       "array([[1., 1., 1.],\n",
       "       [1., 1., 1.],\n",
       "       [1., 1., 1.]])"
      ]
     },
     "execution_count": 12,
     "metadata": {},
     "output_type": "execute_result"
    }
   ],
   "source": [
    "arr3=py.ones((3,3))\n",
    "arr3"
   ]
  },
  {
   "cell_type": "raw",
   "id": "08c1864d-df7f-4998-9d0f-a67d315f23fa",
   "metadata": {},
   "source": [
    "arr2 = py.zeros_like((arr3))\n",
    "arr2"
   ]
  },
  {
   "cell_type": "code",
   "execution_count": 13,
   "id": "4498da41-cf0d-4eed-ae11-a401ef27b961",
   "metadata": {},
   "outputs": [
    {
     "data": {
      "text/plain": [
       "array([[1., 0., 0., 0.],\n",
       "       [0., 1., 0., 0.],\n",
       "       [0., 0., 1., 0.],\n",
       "       [0., 0., 0., 1.]])"
      ]
     },
     "execution_count": 13,
     "metadata": {},
     "output_type": "execute_result"
    }
   ],
   "source": [
    "py.eye(4)"
   ]
  },
  {
   "cell_type": "code",
   "execution_count": 14,
   "id": "d2f9f0b2-6153-40c2-8724-538d2f127508",
   "metadata": {},
   "outputs": [],
   "source": [
    "t = py.random.rand(12)"
   ]
  },
  {
   "cell_type": "code",
   "execution_count": 15,
   "id": "3df2bab4-d881-435f-8b5b-7fdbf7c02e34",
   "metadata": {},
   "outputs": [
    {
     "data": {
      "text/plain": [
       "array([[0.41504095, 0.35564083],\n",
       "       [0.50624062, 0.06586177],\n",
       "       [0.2592188 , 0.34083234],\n",
       "       [0.87612314, 0.10547914],\n",
       "       [0.39187968, 0.69588613],\n",
       "       [0.13092173, 0.41053725]])"
      ]
     },
     "execution_count": 15,
     "metadata": {},
     "output_type": "execute_result"
    }
   ],
   "source": [
    "py.array(t).reshape(6,2)"
   ]
  },
  {
   "cell_type": "markdown",
   "id": "dba11758-fa1e-461c-a28a-4557efe36d02",
   "metadata": {},
   "source": [
    "**Question 5: Use command to compute the size of a matrix, size/length of a particular\n",
    "row/column, load data from a text file, store matrix data to a text file, finding out variables and their features in the current scope.**"
   ]
  },
  {
   "cell_type": "code",
   "execution_count": 16,
   "id": "d7df1fc0-08d4-4c21-adde-d9e3ef5d25dc",
   "metadata": {},
   "outputs": [
    {
     "data": {
      "text/plain": [
       "array([[1, 2, 3],\n",
       "       [4, 5, 6]])"
      ]
     },
     "execution_count": 16,
     "metadata": {},
     "output_type": "execute_result"
    }
   ],
   "source": [
    "mat=py.array([1,2,3,4,5,6]).reshape(2,3)\n",
    "mat"
   ]
  },
  {
   "cell_type": "code",
   "execution_count": 17,
   "id": "75a6e7f9-a9f9-4be1-9a1f-dc474a912418",
   "metadata": {},
   "outputs": [
    {
     "data": {
      "text/plain": [
       "array([[1, 2, 3],\n",
       "       [4, 5, 6]])"
      ]
     },
     "execution_count": 17,
     "metadata": {},
     "output_type": "execute_result"
    }
   ],
   "source": [
    "mat.size\n",
    "mat"
   ]
  },
  {
   "cell_type": "code",
   "execution_count": 18,
   "id": "9d617dbb-751c-422f-a358-3416b56a0511",
   "metadata": {},
   "outputs": [
    {
     "data": {
      "text/plain": [
       "3"
      ]
     },
     "execution_count": 18,
     "metadata": {},
     "output_type": "execute_result"
    }
   ],
   "source": [
    "mat[0].size"
   ]
  },
  {
   "cell_type": "code",
   "execution_count": 19,
   "id": "16f0d832-b038-4aa1-9b21-a319e24eed47",
   "metadata": {},
   "outputs": [],
   "source": [
    "import pandas as pd"
   ]
  },
  {
   "cell_type": "code",
   "execution_count": 20,
   "id": "d3315865-a086-4210-a811-e72e1f95eb46",
   "metadata": {},
   "outputs": [
    {
     "data": {
      "text/html": [
       "<div>\n",
       "<style scoped>\n",
       "    .dataframe tbody tr th:only-of-type {\n",
       "        vertical-align: middle;\n",
       "    }\n",
       "\n",
       "    .dataframe tbody tr th {\n",
       "        vertical-align: top;\n",
       "    }\n",
       "\n",
       "    .dataframe thead th {\n",
       "        text-align: right;\n",
       "    }\n",
       "</style>\n",
       "<table border=\"1\" class=\"dataframe\">\n",
       "  <thead>\n",
       "    <tr style=\"text-align: right;\">\n",
       "      <th></th>\n",
       "      <th>0</th>\n",
       "      <th>1</th>\n",
       "      <th>2</th>\n",
       "    </tr>\n",
       "  </thead>\n",
       "  <tbody>\n",
       "    <tr>\n",
       "      <th>0</th>\n",
       "      <td>a</td>\n",
       "      <td>b</td>\n",
       "      <td>c</td>\n",
       "    </tr>\n",
       "    <tr>\n",
       "      <th>1</th>\n",
       "      <td>d</td>\n",
       "      <td>e</td>\n",
       "      <td>f</td>\n",
       "    </tr>\n",
       "    <tr>\n",
       "      <th>2</th>\n",
       "      <td>g</td>\n",
       "      <td>h</td>\n",
       "      <td>i</td>\n",
       "    </tr>\n",
       "  </tbody>\n",
       "</table>\n",
       "</div>"
      ],
      "text/plain": [
       "   0  1  2\n",
       "0  a  b  c\n",
       "1  d  e  f\n",
       "2  g  h  i"
      ]
     },
     "execution_count": 20,
     "metadata": {},
     "output_type": "execute_result"
    }
   ],
   "source": [
    "df=pd.read_csv('pro-5-text.txt',sep=\" \",header=None)\n",
    "df"
   ]
  },
  {
   "cell_type": "code",
   "execution_count": 21,
   "id": "f72d837a-ebe5-411d-9f0d-d3c2c443cbc4",
   "metadata": {},
   "outputs": [],
   "source": [
    "df.to_csv('text_file.txt')"
   ]
  },
  {
   "cell_type": "code",
   "execution_count": 22,
   "id": "eb18a5f5-1d87-4970-9082-43f708b629d3",
   "metadata": {},
   "outputs": [],
   "source": [
    "f= open('text_file.txt')"
   ]
  },
  {
   "cell_type": "code",
   "execution_count": 23,
   "id": "0d9519e6-3be8-4567-9c13-ddbb0190d100",
   "metadata": {},
   "outputs": [
    {
     "name": "stdout",
     "output_type": "stream",
     "text": [
      ",0,1,2\n",
      "0,a,b,c\n",
      "1,d,e,f\n",
      "2,g,h,i\n",
      "\n"
     ]
    }
   ],
   "source": [
    "print(f.read())"
   ]
  },
  {
   "cell_type": "markdown",
   "id": "52a4b235-e653-4c3d-a46d-a6c961f38de7",
   "metadata": {},
   "source": [
    "**Question 6: Perform basic operations on matrices (like addition, subtraction,\r\n",
    "multiplication) and display specific rows or columns of the matrix**."
   ]
  },
  {
   "cell_type": "code",
   "execution_count": 28,
   "id": "df81e6ec-4f9f-455e-a3ac-fbc08df19994",
   "metadata": {},
   "outputs": [
    {
     "name": "stdout",
     "output_type": "stream",
     "text": [
      "addition of two arrays \n",
      " [[12 14]\n",
      " [16 18]\n",
      " [20 22]\n",
      " [24 26]]\n"
     ]
    }
   ],
   "source": [
    "a=py.array([[11,12],\n",
    "            [13,14],\n",
    "            [15,16],\n",
    "            [17,18]])\n",
    "b=py.array([[1,2],\n",
    "            [3,4],\n",
    "            [5,6],\n",
    "            [7,8]])\n",
    "print('addition of two arrays \\n',a+b)"
   ]
  },
  {
   "cell_type": "code",
   "execution_count": 25,
   "id": "da653b34-bbf3-4120-902a-0b12a9816459",
   "metadata": {},
   "outputs": [
    {
     "name": "stdout",
     "output_type": "stream",
     "text": [
      "Subtraction of two arrays \n",
      " [[10 10]\n",
      " [10 10]\n",
      " [10 10]\n",
      " [10 10]]\n"
     ]
    }
   ],
   "source": [
    "print('Subtraction of two arrays \\n',a-b)"
   ]
  },
  {
   "cell_type": "code",
   "execution_count": 26,
   "id": "6c5e732a-bf6e-4a8f-bfc0-2aa39e36d4c2",
   "metadata": {},
   "outputs": [
    {
     "name": "stdout",
     "output_type": "stream",
     "text": [
      "multiplication of two arrays \n",
      " [[22 30 25]\n",
      " [40 53 43]\n",
      " [48 63 51]]\n"
     ]
    }
   ],
   "source": [
    "a=py.array([[1,2,5],\n",
    "            [3,4,6],\n",
    "            [4,5,6]])\n",
    "b=py.array([[4,5,1],\n",
    "            [4,5,7],\n",
    "            [2,3,2]])\n",
    "print('multiplication of two arrays \\n',py.dot(a,b))"
   ]
  },
  {
   "cell_type": "markdown",
   "id": "637d1818-a5d8-4029-9bee-e7f46fa0d733",
   "metadata": {},
   "source": [
    "**Question 7: Perform other matrix operations like converting matrix data to absolute\r\n",
    "values, taking the negative of matrix values, adting/removing rows/columns from a\r\n",
    "matrix, finding the maximum or minimum values in a matrix or in a row/column, and\r\n",
    "finding the sum of some/all elements in a matr**ix."
   ]
  },
  {
   "cell_type": "code",
   "execution_count": 29,
   "id": "e4491c49-3f18-4e0b-a3e2-018fcfeb993f",
   "metadata": {},
   "outputs": [
    {
     "name": "stdout",
     "output_type": "stream",
     "text": [
      "Adding column\n"
     ]
    },
    {
     "data": {
      "text/plain": [
       "array([['11', '12', 'a'],\n",
       "       ['13', '14', 'b'],\n",
       "       ['15', '16', 'c'],\n",
       "       ['17', '18', 'd']], dtype='<U11')"
      ]
     },
     "execution_count": 29,
     "metadata": {},
     "output_type": "execute_result"
    }
   ],
   "source": [
    "print(\"Adding column\")\n",
    "py.append(a,[['a'],['b'],['c'],['d']],axis=1)"
   ]
  },
  {
   "cell_type": "code",
   "execution_count": 30,
   "id": "0e078fe8-d9d6-4188-82eb-15bf6711dea2",
   "metadata": {},
   "outputs": [
    {
     "name": "stdout",
     "output_type": "stream",
     "text": [
      "Adding row\n"
     ]
    },
    {
     "data": {
      "text/plain": [
       "array([[11, 12],\n",
       "       [13, 14],\n",
       "       [88, 88],\n",
       "       [15, 16],\n",
       "       [17, 18]])"
      ]
     },
     "execution_count": 30,
     "metadata": {},
     "output_type": "execute_result"
    }
   ],
   "source": [
    "print('Adding row')\n",
    "py.insert(a,2,[[88,88]],axis=0)"
   ]
  },
  {
   "cell_type": "code",
   "execution_count": 31,
   "id": "145d77b8-e732-4470-aa4a-d783eb27610e",
   "metadata": {},
   "outputs": [
    {
     "name": "stdout",
     "output_type": "stream",
     "text": [
      "maximum of matrix 18\n"
     ]
    }
   ],
   "source": [
    "print('maximum of matrix',py.max(a))"
   ]
  },
  {
   "cell_type": "code",
   "execution_count": 32,
   "id": "8eb8841a-ae22-43d4-b55e-caa875f56ff4",
   "metadata": {},
   "outputs": [
    {
     "name": "stdout",
     "output_type": "stream",
     "text": [
      "minimum of matrix 11\n"
     ]
    }
   ],
   "source": [
    "print('minimum of matrix',py.min(a))"
   ]
  },
  {
   "cell_type": "code",
   "execution_count": 33,
   "id": "3d4f3b61-a5d2-4211-a4f6-52b76bb9e42c",
   "metadata": {},
   "outputs": [
    {
     "name": "stdout",
     "output_type": "stream",
     "text": [
      "Sum of matrix 116\n"
     ]
    }
   ],
   "source": [
    "print('Sum of matrix',py.sum(a))"
   ]
  },
  {
   "cell_type": "code",
   "execution_count": 34,
   "id": "75d85b4d-88c3-4f5a-9f5a-986af3795932",
   "metadata": {},
   "outputs": [
    {
     "name": "stdout",
     "output_type": "stream",
     "text": [
      "Sum of first row of matrix 23\n"
     ]
    }
   ],
   "source": [
    "print(\"Sum of first row of matrix\",py.sum(a[0]))"
   ]
  },
  {
   "cell_type": "code",
   "execution_count": 35,
   "id": "b3d7e0e4-a7f0-4842-88a0-48738888b271",
   "metadata": {},
   "outputs": [
    {
     "name": "stdout",
     "output_type": "stream",
     "text": [
      "Absolute values of matrix\n"
     ]
    },
    {
     "data": {
      "text/plain": [
       "array([[11, 12],\n",
       "       [13, 14],\n",
       "       [15, 16],\n",
       "       [17, 18]])"
      ]
     },
     "execution_count": 35,
     "metadata": {},
     "output_type": "execute_result"
    }
   ],
   "source": [
    "print(\"Absolute values of matrix\")\n",
    "py.absolute(a)"
   ]
  },
  {
   "cell_type": "code",
   "execution_count": 36,
   "id": "8f07b707-8fbd-4387-a92a-ace6066ba46e",
   "metadata": {},
   "outputs": [
    {
     "name": "stdout",
     "output_type": "stream",
     "text": [
      "Negative of matrix [[-11 -12]\n",
      " [-13 -14]\n",
      " [-15 -16]\n",
      " [-17 -18]]\n"
     ]
    }
   ],
   "source": [
    "print(\"Negative of matrix\",py.negative(a))"
   ]
  },
  {
   "cell_type": "markdown",
   "id": "8cc769af-d07e-40ea-8f13-a7e64e3772fe",
   "metadata": {},
   "source": [
    "**Question 8: Create various type of plots/charts like histograms, plot based on\r\n",
    "sine/cosine function based on data from a matrix. Further label different axes in a plot\r\n",
    "and data in a plo**t."
   ]
  },
  {
   "cell_type": "code",
   "execution_count": 37,
   "id": "b3794a59-0e40-41c4-9793-c51e5789981d",
   "metadata": {},
   "outputs": [],
   "source": [
    "import matplotlib.pyplot as plt\n",
    "import math"
   ]
  },
  {
   "cell_type": "code",
   "execution_count": 38,
   "id": "1b5eb593-27bc-4995-b25e-bd3b70db6242",
   "metadata": {},
   "outputs": [
    {
     "data": {
      "image/png": "[encoded data removed]",
      "text/plain": [
       "<Figure size 640x480 with 1 Axes>"
      ]
     },
     "metadata": {},
     "output_type": "display_data"
    }
   ],
   "source": [
    "plt.hist([1,1,1,2,2,3,3])\n",
    "plt.show()"
   ]
  },
  {
   "cell_type": "code",
   "execution_count": 39,
   "id": "2267e64a-8d00-42da-9cae-207969967ca7",
   "metadata": {},
   "outputs": [
    {
     "data": {
      "text/plain": [
       "array([[1, 2],\n",
       "       [3, 4],\n",
       "       [5, 6]])"
      ]
     },
     "execution_count": 39,
     "metadata": {},
     "output_type": "execute_result"
    }
   ],
   "source": [
    "arr=py.array([1,2,3,4,5,6]).reshape(3,2)\n",
    "arr"
   ]
  },
  {
   "cell_type": "code",
   "execution_count": 40,
   "id": "4f6e860b-a11f-4d9e-8493-8b2a9555b590",
   "metadata": {},
   "outputs": [
    {
     "data": {
      "image/png": "[encoded data removed]",
      "text/plain": [
       "<Figure size 640x480 with 1 Axes>"
      ]
     },
     "metadata": {},
     "output_type": "display_data"
    }
   ],
   "source": [
    "plt.plot(arr[:,0],arr[:,1],marker='o')\n",
    "plt.show()"
   ]
  },
  {
   "cell_type": "code",
   "execution_count": 41,
   "id": "587ff2b4-8c78-4800-8371-5feb09c1a5aa",
   "metadata": {},
   "outputs": [],
   "source": [
    "sin_value=[math.sin(i) for i in arr[:,0]]"
   ]
  },
  {
   "cell_type": "code",
   "execution_count": 42,
   "id": "0267c5db-e827-43aa-ad27-353d77843445",
   "metadata": {},
   "outputs": [
    {
     "data": {
      "image/png": "[encoded data removed]",
      "text/plain": [
       "<Figure size 640x480 with 1 Axes>"
      ]
     },
     "metadata": {},
     "output_type": "display_data"
    }
   ],
   "source": [
    "plt.plot(arr[:,0],sin_value,marker='o')\n",
    "plt.xlabel('x-axis')\n",
    "plt.ylabel('sine-values')\n",
    "plt.show()"
   ]
  },
  {
   "cell_type": "markdown",
   "id": "9b5f909a-caf7-4d8b-be8e-0e260ef4e185",
   "metadata": {},
   "source": [
    "**Question 9: Generate different subplots from a given plot and colour plot data.**"
   ]
  },
  {
   "cell_type": "code",
   "execution_count": 44,
   "id": "6e788a3a-ad77-4941-8f7b-fbd8500ac8e1",
   "metadata": {},
   "outputs": [],
   "source": [
    "import numpy as np\n",
    "x=np.linspace(0,2*np.pi,400)\n",
    "y=np.sin(x**2)"
   ]
  },
  {
   "cell_type": "code",
   "execution_count": 45,
   "id": "5b37f766-5089-4a1a-8d87-ce35488e8051",
   "metadata": {},
   "outputs": [
    {
     "data": {
      "text/plain": [
       "Text(0.5, 1.0, 'A single plot')"
      ]
     },
     "execution_count": 45,
     "metadata": {},
     "output_type": "execute_result"
    },
    {
     "data": {
      "image/png": "[encoded data removed]",
      "text/plain": [
       "<Figure size 640x480 with 1 Axes>"
      ]
     },
     "metadata": {},
     "output_type": "display_data"
    }
   ],
   "source": [
    "fig,ax=plt.subplots()\n",
    "ax.plot(x,y)\n",
    "ax.set_title(\"A single plot\")"
   ]
  },
  {
   "cell_type": "code",
   "execution_count": 46,
   "id": "4be0787d-b5d1-463d-9c35-41e7f23125cd",
   "metadata": {},
   "outputs": [
    {
     "data": {
      "image/png": "[encoded data removed]",
      "text/plain": [
       "<Figure size 640x480 with 2 Axes>"
      ]
     },
     "metadata": {},
     "output_type": "display_data"
    }
   ],
   "source": [
    "fig,axis=plt.subplots(2)\n",
    "fig.suptitle(\"Vertically stacked subplots\")\n",
    "axis[0].plot(x,y)\n",
    "axis[1].plot(x,-y,'red')\n",
    "plt.show()"
   ]
  },
  {
   "cell_type": "markdown",
   "id": "a98fb276-2b46-472a-955b-bd19bf6812f6",
   "metadata": {},
   "source": [
    "**Question 10: Use conditional statements and different type of loops based on\r\n",
    "simple example/s.**"
   ]
  },
  {
   "cell_type": "code",
   "execution_count": 47,
   "id": "0d04402c-e7a2-441f-9e33-b5ed47227992",
   "metadata": {},
   "outputs": [
    {
     "name": "stdout",
     "output_type": "stream",
     "text": [
      "apple\n",
      "banana\n"
     ]
    }
   ],
   "source": [
    "fruits =[\"apple\",\"banana\",\"cherry\"]\n",
    "for x in fruits:\n",
    "    print(x)\n",
    "    if x== \"banana\":\n",
    "        break"
   ]
  },
  {
   "cell_type": "code",
   "execution_count": 48,
   "id": "4cc7b91f-334a-4148-bd64-389e47d9b1e1",
   "metadata": {},
   "outputs": [
    {
     "name": "stdout",
     "output_type": "stream",
     "text": [
      "1\n",
      "2\n",
      "3\n"
     ]
    }
   ],
   "source": [
    "i=1\n",
    "while i<6:\n",
    "    print(i)\n",
    "    if i ==3:\n",
    "        break\n",
    "    i+=1"
   ]
  },
  {
   "cell_type": "markdown",
   "id": "e7842839-a453-4b87-9081-d23b37088037",
   "metadata": {},
   "source": [
    "**Question 11. Perform vectorized implementation of simple matrix operation like finding the transpose of a\n",
    "matrix, adding, subtracting or multiplying two matrices.**"
   ]
  },
  {
   "cell_type": "code",
   "execution_count": 91,
   "id": "be290f5d-e2e6-4ebe-8a29-7ef843b0025e",
   "metadata": {},
   "outputs": [
    {
     "name": "stdout",
     "output_type": "stream",
     "text": [
      "Transpose of matrix_a:\n",
      "[[1 4]\n",
      " [2 5]\n",
      " [3 6]]\n",
      "\n",
      "Addition of matrix_a and matrix_b:\n",
      "[[ 8 10 12]\n",
      " [14 16 18]]\n",
      "\n",
      "Subtraction of matrix_b from matrix_a:\n",
      "[[-6 -6 -6]\n",
      " [-6 -6 -6]]\n",
      "\n",
      "Multiplication of matrix_a and the transpose of matrix_b:\n",
      "[[ 50  68]\n",
      " [122 167]]\n"
     ]
    }
   ],
   "source": [
    "#import numpy as np\n",
    "\n",
    "# Function to find the transpose of a matrix\n",
    "def transpose(matrix):\n",
    "    return np.transpose(matrix)\n",
    "\n",
    "# Function to add two matrices\n",
    "def add_matrices(matrix1, matrix2):\n",
    "    return np.add(matrix1, matrix2)\n",
    "\n",
    "# Function to subtract two matrices\n",
    "def subtract_matrices(matrix1, matrix2):\n",
    "    return np.subtract(matrix1, matrix2)\n",
    "\n",
    "# Function to multiply two matrices\n",
    "def multiply_matrices(matrix1, matrix2):\n",
    "    return np.dot(matrix1, matrix2)\n",
    "\n",
    "# Example usage:\n",
    "# Define two matrices\n",
    "matrix_a = np.array([[1, 2, 3],\n",
    "                     [4, 5, 6]])\n",
    "\n",
    "matrix_b = np.array([[7, 8, 9],\n",
    "                     [10, 11, 12]])\n",
    "\n",
    "# Find the transpose of matrix_a\n",
    "transposed_matrix_a = transpose(matrix_a)\n",
    "print(\"Transpose of matrix_a:\")\n",
    "print(transposed_matrix_a)\n",
    "\n",
    "# Add matrix_a and matrix_b\n",
    "added_matrices = add_matrices(matrix_a, matrix_b)\n",
    "print(\"\\nAddition of matrix_a and matrix_b:\")\n",
    "print(added_matrices)\n",
    "\n",
    "# Subtract matrix_b from matrix_a\n",
    "subtracted_matrices = subtract_matrices(matrix_a, matrix_b)\n",
    "print(\"\\nSubtraction of matrix_b from matrix_a:\")\n",
    "print(subtracted_matrices)\n",
    "\n",
    "# Multiply matrix_a and matrix_b\n",
    "multiplied_matrices = multiply_matrices(matrix_a, matrix_b.transpose())  # Multiplying matrix_a by the transpose of matrix_b\n",
    "print(\"\\nMultiplication of matrix_a and the transpose of matrix_b:\")\n",
    "print(multiplied_matrices)"
   ]
  },
  {
   "cell_type": "code",
   "execution_count": 1,
   "id": "3138322e-538d-4cfb-bf87-6973228a459a",
   "metadata": {},
   "outputs": [],
   "source": [
    "from sklearn.linear_model import LinearRegression\n",
    "from sklearn.model_selection import train_test_split\n",
    "from sklearn.metrics import mean_squared_error, r2_score"
   ]
  },
  {
   "cell_type": "markdown",
   "id": "4c82ce8d-8ab8-4018-bbc7-8ffbcb5704cb",
   "metadata": {},
   "source": [
    "**Question 12: Implement Linear Regression problem. For example, based on a dataset\r\n",
    "comprising of existing set of prices and area/size of the houses, predict the\r\n",
    "estimated price of a given hous**e."
   ]
  },
  {
   "cell_type": "code",
   "execution_count": 10,
   "id": "bf068dd3-5d62-4db9-8d00-6f5128f6b0cf",
   "metadata": {},
   "outputs": [
    {
     "data": {
      "text/html": [
       "<div>\n",
       "<style scoped>\n",
       "    .dataframe tbody tr th:only-of-type {\n",
       "        vertical-align: middle;\n",
       "    }\n",
       "\n",
       "    .dataframe tbody tr th {\n",
       "        vertical-align: top;\n",
       "    }\n",
       "\n",
       "    .dataframe thead th {\n",
       "        text-align: right;\n",
       "    }\n",
       "</style>\n",
       "<table border=\"1\" class=\"dataframe\">\n",
       "  <thead>\n",
       "    <tr style=\"text-align: right;\">\n",
       "      <th></th>\n",
       "      <th>X</th>\n",
       "      <th>Y</th>\n",
       "    </tr>\n",
       "  </thead>\n",
       "  <tbody>\n",
       "    <tr>\n",
       "      <th>0</th>\n",
       "      <td>5.5277</td>\n",
       "      <td>9.1302</td>\n",
       "    </tr>\n",
       "    <tr>\n",
       "      <th>1</th>\n",
       "      <td>8.5186</td>\n",
       "      <td>13.6620</td>\n",
       "    </tr>\n",
       "    <tr>\n",
       "      <th>2</th>\n",
       "      <td>7.0032</td>\n",
       "      <td>11.8540</td>\n",
       "    </tr>\n",
       "    <tr>\n",
       "      <th>3</th>\n",
       "      <td>5.8598</td>\n",
       "      <td>6.8233</td>\n",
       "    </tr>\n",
       "    <tr>\n",
       "      <th>4</th>\n",
       "      <td>8.3829</td>\n",
       "      <td>11.8860</td>\n",
       "    </tr>\n",
       "  </tbody>\n",
       "</table>\n",
       "</div>"
      ],
      "text/plain": [
       "        X        Y\n",
       "0  5.5277   9.1302\n",
       "1  8.5186  13.6620\n",
       "2  7.0032  11.8540\n",
       "3  5.8598   6.8233\n",
       "4  8.3829  11.8860"
      ]
     },
     "execution_count": 10,
     "metadata": {},
     "output_type": "execute_result"
    }
   ],
   "source": [
    "import numpy as np\n",
    "import pandas as pd\n",
    "import matplotlib.pyplot as plt\n",
    "df=pd.read_csv('lindata.csv')\n",
    "df.columns=['X','Y']\n",
    "df"
   ]
  },
  {
   "cell_type": "code",
   "execution_count": 12,
   "id": "b9fffae4-a608-4328-aa16-ca06a1862bb6",
   "metadata": {},
   "outputs": [
    {
     "data": {
      "image/png": "[encoded data removed]",
      "text/plain": [
       "<Figure size 640x480 with 1 Axes>"
      ]
     },
     "metadata": {},
     "output_type": "display_data"
    },
    {
     "name": "stdout",
     "output_type": "stream",
     "text": [
      "predicted value for x = 15.67 is : 25.135710655002136\n"
     ]
    }
   ],
   "source": [
    "def leastSquareRegression(indep_val, dep_val, predict_indep_val):\n",
    "    mean_dep_val = dep_val.mean()\n",
    "    mean_indep_val = indep_val.mean()\n",
    "    diff_dep_val = dep_val - mean_dep_val\n",
    "    diff_indep_val = indep_val - mean_indep_val\n",
    "\n",
    "    numerator = (diff_indep_val * diff_dep_val).sum()\n",
    "    denominator = (diff_indep_val ** 2).sum()\n",
    "\n",
    "    beta1 = numerator / denominator\n",
    "    beta0 = mean_dep_val - (beta1 * mean_indep_val)\n",
    "\n",
    "    predict_dep_val = beta0 + beta1 * predict_indep_val\n",
    "\n",
    "    plt.scatter(indep_val, dep_val)\n",
    "    plt.plot(indep_val, beta0 + beta1 * indep_val, 'red')\n",
    "    plt.xlabel('Independent Variable')\n",
    "    plt.ylabel('Dependent Variable')\n",
    "    plt.title('Least Squares Regression')\n",
    "    plt.show()\n",
    "\n",
    "    return {'beta0': beta0, 'beta1': beta1, 'predict_val': predict_dep_val}\n",
    "\n",
    "result = leastSquareRegression(df.X, df.Y, 15.67)\n",
    "print(f'predicted value for x = 15.67 is : {result[\"predict_val\"]}')"
   ]
  },
  {
   "cell_type": "markdown",
   "id": "26c01d9c-372e-47a7-af0a-0717195647fb",
   "metadata": {},
   "source": [
    "**Question 13: Based on multiple features/variables perform Linear Regression. For\r\n",
    "example, based on several additional features like number of bedrooms, servant room,\r\n",
    "number of balconies, number of houses of years a house has been built – predict the\r\n",
    "price of a hou**se."
   ]
  },
  {
   "cell_type": "code",
   "execution_count": 13,
   "id": "2a519194-28eb-4ac7-87d1-d0bc73c39fc4",
   "metadata": {},
   "outputs": [
    {
     "data": {
      "text/html": [
       "<div>\n",
       "<style scoped>\n",
       "    .dataframe tbody tr th:only-of-type {\n",
       "        vertical-align: middle;\n",
       "    }\n",
       "\n",
       "    .dataframe tbody tr th {\n",
       "        vertical-align: top;\n",
       "    }\n",
       "\n",
       "    .dataframe thead th {\n",
       "        text-align: right;\n",
       "    }\n",
       "</style>\n",
       "<table border=\"1\" class=\"dataframe\">\n",
       "  <thead>\n",
       "    <tr style=\"text-align: right;\">\n",
       "      <th></th>\n",
       "      <th>X</th>\n",
       "      <th>Y</th>\n",
       "    </tr>\n",
       "  </thead>\n",
       "  <tbody>\n",
       "    <tr>\n",
       "      <th>0</th>\n",
       "      <td>5.5277</td>\n",
       "      <td>9.1302</td>\n",
       "    </tr>\n",
       "    <tr>\n",
       "      <th>1</th>\n",
       "      <td>8.5186</td>\n",
       "      <td>13.6620</td>\n",
       "    </tr>\n",
       "    <tr>\n",
       "      <th>2</th>\n",
       "      <td>7.0032</td>\n",
       "      <td>11.8540</td>\n",
       "    </tr>\n",
       "    <tr>\n",
       "      <th>3</th>\n",
       "      <td>5.8598</td>\n",
       "      <td>6.8233</td>\n",
       "    </tr>\n",
       "    <tr>\n",
       "      <th>4</th>\n",
       "      <td>8.3829</td>\n",
       "      <td>11.8860</td>\n",
       "    </tr>\n",
       "  </tbody>\n",
       "</table>\n",
       "</div>"
      ],
      "text/plain": [
       "        X        Y\n",
       "0  5.5277   9.1302\n",
       "1  8.5186  13.6620\n",
       "2  7.0032  11.8540\n",
       "3  5.8598   6.8233\n",
       "4  8.3829  11.8860"
      ]
     },
     "execution_count": 13,
     "metadata": {},
     "output_type": "execute_result"
    }
   ],
   "source": [
    "df=pd.read_csv('lindata.csv')\n",
    "df.columns=['X','Y']\n",
    "df"
   ]
  },
  {
   "cell_type": "code",
   "execution_count": 14,
   "id": "d2e69b5e-466d-4856-ad46-31306d452e19",
   "metadata": {},
   "outputs": [],
   "source": [
    "X=np.array(df['X']).reshape(-1,1)\n",
    "Y=np.array(df['Y']).reshape(-1,1)"
   ]
  },
  {
   "cell_type": "code",
   "execution_count": 15,
   "id": "0e80ca61-3e3f-4348-9c95-d5e0c02d1716",
   "metadata": {},
   "outputs": [],
   "source": [
    "x_train, x_test, y_train, y_test = train_test_split(X,Y,test_size = 0.25)"
   ]
  },
  {
   "cell_type": "code",
   "execution_count": 16,
   "id": "dcfe6860-042a-4aea-aa58-95171aeab86d",
   "metadata": {},
   "outputs": [
    {
     "data": {
      "text/html": [
       "<style>#sk-container-id-1 {color: black;background-color: white;}#sk-container-id-1 pre{padding: 0;}#sk-container-id-1 div.sk-toggleable {background-color: white;}#sk-container-id-1 label.sk-toggleable__label {cursor: pointer;display: block;width: 100%;margin-bottom: 0;padding: 0.3em;box-sizing: border-box;text-align: center;}#sk-container-id-1 label.sk-toggleable__label-arrow:before {content: \"▸\";float: left;margin-right: 0.25em;color: #696969;}#sk-container-id-1 label.sk-toggleable__label-arrow:hover:before {color: black;}#sk-container-id-1 div.sk-estimator:hover label.sk-toggleable__label-arrow:before {color: black;}#sk-container-id-1 div.sk-toggleable__content {max-height: 0;max-width: 0;overflow: hidden;text-align: left;background-color: #f0f8ff;}#sk-container-id-1 div.sk-toggleable__content pre {margin: 0.2em;color: black;border-radius: 0.25em;background-color: #f0f8ff;}#sk-container-id-1 input.sk-toggleable__control:checked~div.sk-toggleable__content {max-height: 200px;max-width: 100%;overflow: auto;}#sk-container-id-1 input.sk-toggleable__control:checked~label.sk-toggleable__label-arrow:before {content: \"▾\";}#sk-container-id-1 div.sk-estimator input.sk-toggleable__control:checked~label.sk-toggleable__label {background-color: #d4ebff;}#sk-container-id-1 div.sk-label input.sk-toggleable__control:checked~label.sk-toggleable__label {background-color: #d4ebff;}#sk-container-id-1 input.sk-hidden--visually {border: 0;clip: rect(1px 1px 1px 1px);clip: rect(1px, 1px, 1px, 1px);height: 1px;margin: -1px;overflow: hidden;padding: 0;position: absolute;width: 1px;}#sk-container-id-1 div.sk-estimator {font-family: monospace;background-color: #f0f8ff;border: 1px dotted black;border-radius: 0.25em;box-sizing: border-box;margin-bottom: 0.5em;}#sk-container-id-1 div.sk-estimator:hover {background-color: #d4ebff;}#sk-container-id-1 div.sk-parallel-item::after {content: \"\";width: 100%;border-bottom: 1px solid gray;flex-grow: 1;}#sk-container-id-1 div.sk-label:hover label.sk-toggleable__label {background-color: #d4ebff;}#sk-container-id-1 div.sk-serial::before {content: \"\";position: absolute;border-left: 1px solid gray;box-sizing: border-box;top: 0;bottom: 0;left: 50%;z-index: 0;}#sk-container-id-1 div.sk-serial {display: flex;flex-direction: column;align-items: center;background-color: white;padding-right: 0.2em;padding-left: 0.2em;position: relative;}#sk-container-id-1 div.sk-item {position: relative;z-index: 1;}#sk-container-id-1 div.sk-parallel {display: flex;align-items: stretch;justify-content: center;background-color: white;position: relative;}#sk-container-id-1 div.sk-item::before, #sk-container-id-1 div.sk-parallel-item::before {content: \"\";position: absolute;border-left: 1px solid gray;box-sizing: border-box;top: 0;bottom: 0;left: 50%;z-index: -1;}#sk-container-id-1 div.sk-parallel-item {display: flex;flex-direction: column;z-index: 1;position: relative;background-color: white;}#sk-container-id-1 div.sk-parallel-item:first-child::after {align-self: flex-end;width: 50%;}#sk-container-id-1 div.sk-parallel-item:last-child::after {align-self: flex-start;width: 50%;}#sk-container-id-1 div.sk-parallel-item:only-child::after {width: 0;}#sk-container-id-1 div.sk-dashed-wrapped {border: 1px dashed gray;margin: 0 0.4em 0.5em 0.4em;box-sizing: border-box;padding-bottom: 0.4em;background-color: white;}#sk-container-id-1 div.sk-label label {font-family: monospace;font-weight: bold;display: inline-block;line-height: 1.2em;}#sk-container-id-1 div.sk-label-container {text-align: center;}#sk-container-id-1 div.sk-container {/* jupyter's `normalize.less` sets `[hidden] { display: none; }` but bootstrap.min.css set `[hidden] { display: none !important; }` so we also need the `!important` here to be able to override the default hidden behavior on the sphinx rendered scikit-learn.org. See: https://github.com/scikit-learn/scikit-learn/issues/21755 */display: inline-block !important;position: relative;}#sk-container-id-1 div.sk-text-repr-fallback {display: none;}</style><div id=\"sk-container-id-1\" class=\"sk-top-container\"><div class=\"sk-text-repr-fallback\"><pre>LinearRegression()</pre><b>In a Jupyter environment, please rerun this cell to show the HTML representation or trust the notebook. <br />On GitHub, the HTML representation is unable to render, please try loading this page with nbviewer.org.</b></div><div class=\"sk-container\" hidden><div class=\"sk-item\"><div class=\"sk-estimator sk-toggleable\"><input class=\"sk-toggleable__control sk-hidden--visually\" id=\"sk-estimator-id-1\" type=\"checkbox\" checked><label for=\"sk-estimator-id-1\" class=\"sk-toggleable__label sk-toggleable__label-arrow\">LinearRegression</label><div class=\"sk-toggleable__content\"><pre>LinearRegression()</pre></div></div></div></div></div>"
      ],
      "text/plain": [
       "LinearRegression()"
      ]
     },
     "execution_count": 16,
     "metadata": {},
     "output_type": "execute_result"
    }
   ],
   "source": [
    "lr=LinearRegression()\n",
    "lr.fit(x_train,y_train)"
   ]
  },
  {
   "cell_type": "code",
   "execution_count": 17,
   "id": "6d94f754-d73a-48a2-b7da-d599de84ae19",
   "metadata": {},
   "outputs": [],
   "source": [
    "Y_pred=lr.predict(x_test)"
   ]
  },
  {
   "cell_type": "code",
   "execution_count": 24,
   "id": "43f7a7f2-3ebd-4499-b91d-00392445b659",
   "metadata": {},
   "outputs": [
    {
     "name": "stdout",
     "output_type": "stream",
     "text": [
      "mean square error : 7.774748341791334\n",
      "-3.191755092580558\n"
     ]
    }
   ],
   "source": [
    "print('mean square error :',mean_squared_error(y_test,Y_pred))\n",
    "print(r2_score(y_test,Y_pred))"
   ]
  },
  {
   "cell_type": "code",
   "execution_count": 25,
   "id": "e5b17387-8108-419d-b42b-20708be6a832",
   "metadata": {},
   "outputs": [
    {
     "data": {
      "text/plain": [
       "-3.191755092580558"
      ]
     },
     "execution_count": 25,
     "metadata": {},
     "output_type": "execute_result"
    }
   ],
   "source": [
    "lr.score(x_test, y_test)"
   ]
  },
  {
   "cell_type": "code",
   "execution_count": 20,
   "id": "5d86c431-e4dc-40d6-a152-95ec52c3830d",
   "metadata": {},
   "outputs": [
    {
     "name": "stdout",
     "output_type": "stream",
     "text": [
      "slope: [[2.31888009]]\n",
      "Intercept: [-6.80314178]\n"
     ]
    }
   ],
   "source": [
    "print('slope:',lr.coef_)\n",
    "print('Intercept:',lr.intercept_)"
   ]
  },
  {
   "cell_type": "code",
   "execution_count": 21,
   "id": "f0f0c057-3ae2-4c6e-9f58-a02834d8df1b",
   "metadata": {},
   "outputs": [],
   "source": [
    "y=lr.predict([[15.67]])"
   ]
  },
  {
   "cell_type": "code",
   "execution_count": 22,
   "id": "d9bfd4db-02d5-40b6-8398-00d12674eacd",
   "metadata": {},
   "outputs": [
    {
     "data": {
      "text/plain": [
       "29.53370919583682"
      ]
     },
     "execution_count": 22,
     "metadata": {},
     "output_type": "execute_result"
    }
   ],
   "source": [
    "y[0][0]"
   ]
  },
  {
   "cell_type": "code",
   "execution_count": 23,
   "id": "e36198a2-de08-40f1-9fc3-8cf7848f5c13",
   "metadata": {},
   "outputs": [
    {
     "data": {
      "image/png": "[encoded data removed]",
      "text/plain": [
       "<Figure size 640x480 with 1 Axes>"
      ]
     },
     "metadata": {},
     "output_type": "display_data"
    }
   ],
   "source": [
    "plt.scatter(x_test,y_test)\n",
    "plt.plot(x_test,Y_pred,'red')\n",
    "plt.show()"
   ]
  },
  {
   "cell_type": "markdown",
   "id": "fee921cd-8392-4e6f-b609-ce35138ccd24",
   "metadata": {},
   "source": [
    "**Question 14: Implement a classification/ logistic regression problem. For example\r\n",
    "based on different features of students data, classify, whether a student is suitable for a\r\n",
    "particular activity. Based on the available dataset, a student can also implement another\r\n",
    "classification problem like checking whether an email is spam or n**ot."
   ]
  },
  {
   "cell_type": "code",
   "execution_count": 51,
   "id": "69064da5-caa1-4455-b79f-eef4d167ec52",
   "metadata": {},
   "outputs": [],
   "source": [
    "import seaborn as sns\n",
    "#from sklearn.model_selection import train_test_split\n",
    "from sklearn.linear_model import LogisticRegression"
   ]
  },
  {
   "cell_type": "code",
   "execution_count": 31,
   "id": "362f27a4-443e-4d72-922d-81276e8d60b8",
   "metadata": {},
   "outputs": [
    {
     "data": {
      "text/html": [
       "<div>\n",
       "<style scoped>\n",
       "    .dataframe tbody tr th:only-of-type {\n",
       "        vertical-align: middle;\n",
       "    }\n",
       "\n",
       "    .dataframe tbody tr th {\n",
       "        vertical-align: top;\n",
       "    }\n",
       "\n",
       "    .dataframe thead th {\n",
       "        text-align: right;\n",
       "    }\n",
       "</style>\n",
       "<table border=\"1\" class=\"dataframe\">\n",
       "  <thead>\n",
       "    <tr style=\"text-align: right;\">\n",
       "      <th></th>\n",
       "      <th>Pregnancies</th>\n",
       "      <th>Glucose</th>\n",
       "      <th>BloodPressure</th>\n",
       "      <th>SkinThickness</th>\n",
       "      <th>Insulin</th>\n",
       "      <th>BMI</th>\n",
       "      <th>DiabetesPedigreeFunction</th>\n",
       "      <th>Age</th>\n",
       "      <th>Outcome</th>\n",
       "    </tr>\n",
       "  </thead>\n",
       "  <tbody>\n",
       "    <tr>\n",
       "      <th>0</th>\n",
       "      <td>6</td>\n",
       "      <td>148</td>\n",
       "      <td>72</td>\n",
       "      <td>35</td>\n",
       "      <td>0</td>\n",
       "      <td>33.6</td>\n",
       "      <td>0.627</td>\n",
       "      <td>50</td>\n",
       "      <td>1</td>\n",
       "    </tr>\n",
       "    <tr>\n",
       "      <th>1</th>\n",
       "      <td>1</td>\n",
       "      <td>85</td>\n",
       "      <td>66</td>\n",
       "      <td>29</td>\n",
       "      <td>0</td>\n",
       "      <td>26.6</td>\n",
       "      <td>0.351</td>\n",
       "      <td>31</td>\n",
       "      <td>0</td>\n",
       "    </tr>\n",
       "    <tr>\n",
       "      <th>2</th>\n",
       "      <td>8</td>\n",
       "      <td>183</td>\n",
       "      <td>64</td>\n",
       "      <td>0</td>\n",
       "      <td>0</td>\n",
       "      <td>23.3</td>\n",
       "      <td>0.672</td>\n",
       "      <td>32</td>\n",
       "      <td>1</td>\n",
       "    </tr>\n",
       "    <tr>\n",
       "      <th>3</th>\n",
       "      <td>1</td>\n",
       "      <td>89</td>\n",
       "      <td>66</td>\n",
       "      <td>23</td>\n",
       "      <td>94</td>\n",
       "      <td>28.1</td>\n",
       "      <td>0.167</td>\n",
       "      <td>21</td>\n",
       "      <td>0</td>\n",
       "    </tr>\n",
       "    <tr>\n",
       "      <th>4</th>\n",
       "      <td>0</td>\n",
       "      <td>137</td>\n",
       "      <td>40</td>\n",
       "      <td>35</td>\n",
       "      <td>168</td>\n",
       "      <td>43.1</td>\n",
       "      <td>2.288</td>\n",
       "      <td>33</td>\n",
       "      <td>1</td>\n",
       "    </tr>\n",
       "    <tr>\n",
       "      <th>...</th>\n",
       "      <td>...</td>\n",
       "      <td>...</td>\n",
       "      <td>...</td>\n",
       "      <td>...</td>\n",
       "      <td>...</td>\n",
       "      <td>...</td>\n",
       "      <td>...</td>\n",
       "      <td>...</td>\n",
       "      <td>...</td>\n",
       "    </tr>\n",
       "    <tr>\n",
       "      <th>763</th>\n",
       "      <td>10</td>\n",
       "      <td>101</td>\n",
       "      <td>76</td>\n",
       "      <td>48</td>\n",
       "      <td>180</td>\n",
       "      <td>32.9</td>\n",
       "      <td>0.171</td>\n",
       "      <td>63</td>\n",
       "      <td>0</td>\n",
       "    </tr>\n",
       "    <tr>\n",
       "      <th>764</th>\n",
       "      <td>2</td>\n",
       "      <td>122</td>\n",
       "      <td>70</td>\n",
       "      <td>27</td>\n",
       "      <td>0</td>\n",
       "      <td>36.8</td>\n",
       "      <td>0.340</td>\n",
       "      <td>27</td>\n",
       "      <td>0</td>\n",
       "    </tr>\n",
       "    <tr>\n",
       "      <th>765</th>\n",
       "      <td>5</td>\n",
       "      <td>121</td>\n",
       "      <td>72</td>\n",
       "      <td>23</td>\n",
       "      <td>112</td>\n",
       "      <td>26.2</td>\n",
       "      <td>0.245</td>\n",
       "      <td>30</td>\n",
       "      <td>0</td>\n",
       "    </tr>\n",
       "    <tr>\n",
       "      <th>766</th>\n",
       "      <td>1</td>\n",
       "      <td>126</td>\n",
       "      <td>60</td>\n",
       "      <td>0</td>\n",
       "      <td>0</td>\n",
       "      <td>30.1</td>\n",
       "      <td>0.349</td>\n",
       "      <td>47</td>\n",
       "      <td>1</td>\n",
       "    </tr>\n",
       "    <tr>\n",
       "      <th>767</th>\n",
       "      <td>1</td>\n",
       "      <td>93</td>\n",
       "      <td>70</td>\n",
       "      <td>31</td>\n",
       "      <td>0</td>\n",
       "      <td>30.4</td>\n",
       "      <td>0.315</td>\n",
       "      <td>23</td>\n",
       "      <td>0</td>\n",
       "    </tr>\n",
       "  </tbody>\n",
       "</table>\n",
       "<p>768 rows × 9 columns</p>\n",
       "</div>"
      ],
      "text/plain": [
       "     Pregnancies  Glucose  BloodPressure  SkinThickness  Insulin   BMI  \\\n",
       "0              6      148             72             35        0  33.6   \n",
       "1              1       85             66             29        0  26.6   \n",
       "2              8      183             64              0        0  23.3   \n",
       "3              1       89             66             23       94  28.1   \n",
       "4              0      137             40             35      168  43.1   \n",
       "..           ...      ...            ...            ...      ...   ...   \n",
       "763           10      101             76             48      180  32.9   \n",
       "764            2      122             70             27        0  36.8   \n",
       "765            5      121             72             23      112  26.2   \n",
       "766            1      126             60              0        0  30.1   \n",
       "767            1       93             70             31        0  30.4   \n",
       "\n",
       "     DiabetesPedigreeFunction  Age  Outcome  \n",
       "0                       0.627   50        1  \n",
       "1                       0.351   31        0  \n",
       "2                       0.672   32        1  \n",
       "3                       0.167   21        0  \n",
       "4                       2.288   33        1  \n",
       "..                        ...  ...      ...  \n",
       "763                     0.171   63        0  \n",
       "764                     0.340   27        0  \n",
       "765                     0.245   30        0  \n",
       "766                     0.349   47        1  \n",
       "767                     0.315   23        0  \n",
       "\n",
       "[768 rows x 9 columns]"
      ]
     },
     "execution_count": 31,
     "metadata": {},
     "output_type": "execute_result"
    }
   ],
   "source": [
    "df=pd.read_csv('diabetes.csv')\n",
    "df"
   ]
  },
  {
   "cell_type": "code",
   "execution_count": 45,
   "id": "980033c8-bf1c-4487-8fb6-0f79284c5bd2",
   "metadata": {},
   "outputs": [],
   "source": [
    "feature_cols = ['Pregnancies','Insulin','BMI','Age','Glucose','BloodPressure','DiabetesPedigreeFunction']\n",
    "x=df[feature_cols]\n",
    "y=df.Outcome"
   ]
  },
  {
   "cell_type": "code",
   "execution_count": 46,
   "id": "eb44eed3-7001-412d-858f-8afb7f930755",
   "metadata": {},
   "outputs": [],
   "source": [
    "x_train,x_test,y_train,y_test=train_test_split(x,y,test_size=0.25,random_state=0)"
   ]
  },
  {
   "cell_type": "code",
   "execution_count": 47,
   "id": "91f95742-8786-4e10-8acc-1c7bdb631061",
   "metadata": {},
   "outputs": [
    {
     "name": "stderr",
     "output_type": "stream",
     "text": [
      "C:\\Users\\lamot\\anaconda3\\Lib\\site-packages\\sklearn\\linear_model\\_logistic.py:458: ConvergenceWarning: lbfgs failed to converge (status=1):\n",
      "STOP: TOTAL NO. of ITERATIONS REACHED LIMIT.\n",
      "\n",
      "Increase the number of iterations (max_iter) or scale the data as shown in:\n",
      "    https://scikit-learn.org/stable/modules/preprocessing.html\n",
      "Please also refer to the documentation for alternative solver options:\n",
      "    https://scikit-learn.org/stable/modules/linear_model.html#logistic-regression\n",
      "  n_iter_i = _check_optimize_result(\n"
     ]
    }
   ],
   "source": [
    "logreg=LogisticRegression()\n",
    "logreg.fit(x_train,y_train)\n",
    "y_pred=logreg.predict(x_test)"
   ]
  },
  {
   "cell_type": "code",
   "execution_count": 48,
   "id": "4dfe5f54-537c-4b30-bc66-6deb09c727f4",
   "metadata": {},
   "outputs": [
    {
     "data": {
      "text/plain": [
       "array([[117,  13],\n",
       "       [ 24,  38]], dtype=int64)"
      ]
     },
     "execution_count": 48,
     "metadata": {},
     "output_type": "execute_result"
    }
   ],
   "source": [
    "from sklearn import metrics\n",
    "cnf_matrix=metrics.confusion_matrix(y_test,y_pred)\n",
    "cnf_matrix"
   ]
  },
  {
   "cell_type": "code",
   "execution_count": 49,
   "id": "7b2e8341-5f5b-4072-b745-56c5187e2444",
   "metadata": {},
   "outputs": [
    {
     "data": {
      "text/plain": [
       "Text(0.5, 427.9555555555555, 'Predicted label')"
      ]
     },
     "execution_count": 49,
     "metadata": {},
     "output_type": "execute_result"
    },
    {
     "data": {
      "image/png": "[encoded data removed]",
      "text/plain": [
       "<Figure size 640x480 with 2 Axes>"
      ]
     },
     "metadata": {},
     "output_type": "display_data"
    }
   ],
   "source": [
    "class_names=[0,1]\n",
    "fig,ax=plt.subplots()\n",
    "tick_marks=np.arange(len(class_names))\n",
    "plt.xticks(tick_marks,class_names)\n",
    "plt.yticks(tick_marks,class_names)\n",
    "#create heatmap\n",
    "sns.heatmap(pd.DataFrame(cnf_matrix),annot=True,cmap=\"YlGnBu\",fmt='g')\n",
    "ax.xaxis.set_label_position(\"top\")\n",
    "plt.tight_layout()\n",
    "plt.title('Confusion matrix',y=1.1)\n",
    "plt.ylabel('Actual Label')\n",
    "plt.xlabel('Predicted label')"
   ]
  },
  {
   "cell_type": "code",
   "execution_count": 50,
   "id": "331f8bb3-9d21-4f53-b10e-2a160c3dd780",
   "metadata": {},
   "outputs": [
    {
     "name": "stdout",
     "output_type": "stream",
     "text": [
      "Accuracy: 0.8072916666666666\n",
      "Precision: 0.7450980392156863\n",
      "Recall: 0.6129032258064516\n"
     ]
    }
   ],
   "source": [
    "print(\"Accuracy:\",metrics.accuracy_score(y_test,y_pred))\n",
    "print(\"Precision:\",metrics.precision_score(y_test,y_pred))\n",
    "print(\"Recall:\",metrics.recall_score(y_test,y_pred))"
   ]
  },
  {
   "cell_type": "markdown",
   "id": "ca2e5a31-25ca-4dd8-91d7-facf6675f69d",
   "metadata": {},
   "source": [
    "**Question 15: Use some function for regularization of dataset based on problem 14.**"
   ]
  },
  {
   "cell_type": "code",
   "execution_count": 53,
   "id": "b11e0899-ada6-41cf-a521-7f4bdc0fbf2f",
   "metadata": {},
   "outputs": [],
   "source": [
    "#import pandas as pd\n",
    "#import numpy as py\n",
    "#import matplotlib.ppyplot as plt\n",
    "from sklearn import datasets\n",
    "#from sklearn.linear_model import LinearRegression\n",
    "#from sklearn.model_selection import train_test_split"
   ]
  },
  {
   "cell_type": "code",
   "execution_count": 56,
   "id": "9e7a1e83-7874-4fd0-aa20-d4e11840be7f",
   "metadata": {},
   "outputs": [],
   "source": [
    "data_url = \"http://lib.stat.cmu.edu/datasets/boston\"\n",
    "raw_df = pd.read_csv(data_url, sep=\"\\s+\", skiprows=22, header=None)\n",
    "data = np.hstack([raw_df.values[::2, :], raw_df.values[1::2, :2]])\n",
    "target = raw_df.values[1::2, 2]"
   ]
  },
  {
   "cell_type": "code",
   "execution_count": 59,
   "id": "fd1f50e4-c461-44c4-bcb3-8ff22602495f",
   "metadata": {},
   "outputs": [
    {
     "data": {
      "text/html": [
       "<div>\n",
       "<style scoped>\n",
       "    .dataframe tbody tr th:only-of-type {\n",
       "        vertical-align: middle;\n",
       "    }\n",
       "\n",
       "    .dataframe tbody tr th {\n",
       "        vertical-align: top;\n",
       "    }\n",
       "\n",
       "    .dataframe thead th {\n",
       "        text-align: right;\n",
       "    }\n",
       "</style>\n",
       "<table border=\"1\" class=\"dataframe\">\n",
       "  <thead>\n",
       "    <tr style=\"text-align: right;\">\n",
       "      <th></th>\n",
       "      <th>0</th>\n",
       "      <th>1</th>\n",
       "      <th>2</th>\n",
       "      <th>3</th>\n",
       "      <th>4</th>\n",
       "      <th>5</th>\n",
       "      <th>6</th>\n",
       "      <th>7</th>\n",
       "      <th>8</th>\n",
       "      <th>9</th>\n",
       "      <th>10</th>\n",
       "    </tr>\n",
       "  </thead>\n",
       "  <tbody>\n",
       "    <tr>\n",
       "      <th>0</th>\n",
       "      <td>0.00632</td>\n",
       "      <td>18.00</td>\n",
       "      <td>2.31</td>\n",
       "      <td>0.0</td>\n",
       "      <td>0.538</td>\n",
       "      <td>6.575</td>\n",
       "      <td>65.2</td>\n",
       "      <td>4.0900</td>\n",
       "      <td>1.0</td>\n",
       "      <td>296.0</td>\n",
       "      <td>15.3</td>\n",
       "    </tr>\n",
       "    <tr>\n",
       "      <th>1</th>\n",
       "      <td>396.90000</td>\n",
       "      <td>4.98</td>\n",
       "      <td>24.00</td>\n",
       "      <td>NaN</td>\n",
       "      <td>NaN</td>\n",
       "      <td>NaN</td>\n",
       "      <td>NaN</td>\n",
       "      <td>NaN</td>\n",
       "      <td>NaN</td>\n",
       "      <td>NaN</td>\n",
       "      <td>NaN</td>\n",
       "    </tr>\n",
       "    <tr>\n",
       "      <th>2</th>\n",
       "      <td>0.02731</td>\n",
       "      <td>0.00</td>\n",
       "      <td>7.07</td>\n",
       "      <td>0.0</td>\n",
       "      <td>0.469</td>\n",
       "      <td>6.421</td>\n",
       "      <td>78.9</td>\n",
       "      <td>4.9671</td>\n",
       "      <td>2.0</td>\n",
       "      <td>242.0</td>\n",
       "      <td>17.8</td>\n",
       "    </tr>\n",
       "    <tr>\n",
       "      <th>3</th>\n",
       "      <td>396.90000</td>\n",
       "      <td>9.14</td>\n",
       "      <td>21.60</td>\n",
       "      <td>NaN</td>\n",
       "      <td>NaN</td>\n",
       "      <td>NaN</td>\n",
       "      <td>NaN</td>\n",
       "      <td>NaN</td>\n",
       "      <td>NaN</td>\n",
       "      <td>NaN</td>\n",
       "      <td>NaN</td>\n",
       "    </tr>\n",
       "    <tr>\n",
       "      <th>4</th>\n",
       "      <td>0.02729</td>\n",
       "      <td>0.00</td>\n",
       "      <td>7.07</td>\n",
       "      <td>0.0</td>\n",
       "      <td>0.469</td>\n",
       "      <td>7.185</td>\n",
       "      <td>61.1</td>\n",
       "      <td>4.9671</td>\n",
       "      <td>2.0</td>\n",
       "      <td>242.0</td>\n",
       "      <td>17.8</td>\n",
       "    </tr>\n",
       "    <tr>\n",
       "      <th>...</th>\n",
       "      <td>...</td>\n",
       "      <td>...</td>\n",
       "      <td>...</td>\n",
       "      <td>...</td>\n",
       "      <td>...</td>\n",
       "      <td>...</td>\n",
       "      <td>...</td>\n",
       "      <td>...</td>\n",
       "      <td>...</td>\n",
       "      <td>...</td>\n",
       "      <td>...</td>\n",
       "    </tr>\n",
       "    <tr>\n",
       "      <th>1007</th>\n",
       "      <td>396.90000</td>\n",
       "      <td>5.64</td>\n",
       "      <td>23.90</td>\n",
       "      <td>NaN</td>\n",
       "      <td>NaN</td>\n",
       "      <td>NaN</td>\n",
       "      <td>NaN</td>\n",
       "      <td>NaN</td>\n",
       "      <td>NaN</td>\n",
       "      <td>NaN</td>\n",
       "      <td>NaN</td>\n",
       "    </tr>\n",
       "    <tr>\n",
       "      <th>1008</th>\n",
       "      <td>0.10959</td>\n",
       "      <td>0.00</td>\n",
       "      <td>11.93</td>\n",
       "      <td>0.0</td>\n",
       "      <td>0.573</td>\n",
       "      <td>6.794</td>\n",
       "      <td>89.3</td>\n",
       "      <td>2.3889</td>\n",
       "      <td>1.0</td>\n",
       "      <td>273.0</td>\n",
       "      <td>21.0</td>\n",
       "    </tr>\n",
       "    <tr>\n",
       "      <th>1009</th>\n",
       "      <td>393.45000</td>\n",
       "      <td>6.48</td>\n",
       "      <td>22.00</td>\n",
       "      <td>NaN</td>\n",
       "      <td>NaN</td>\n",
       "      <td>NaN</td>\n",
       "      <td>NaN</td>\n",
       "      <td>NaN</td>\n",
       "      <td>NaN</td>\n",
       "      <td>NaN</td>\n",
       "      <td>NaN</td>\n",
       "    </tr>\n",
       "    <tr>\n",
       "      <th>1010</th>\n",
       "      <td>0.04741</td>\n",
       "      <td>0.00</td>\n",
       "      <td>11.93</td>\n",
       "      <td>0.0</td>\n",
       "      <td>0.573</td>\n",
       "      <td>6.030</td>\n",
       "      <td>80.8</td>\n",
       "      <td>2.5050</td>\n",
       "      <td>1.0</td>\n",
       "      <td>273.0</td>\n",
       "      <td>21.0</td>\n",
       "    </tr>\n",
       "    <tr>\n",
       "      <th>1011</th>\n",
       "      <td>396.90000</td>\n",
       "      <td>7.88</td>\n",
       "      <td>11.90</td>\n",
       "      <td>NaN</td>\n",
       "      <td>NaN</td>\n",
       "      <td>NaN</td>\n",
       "      <td>NaN</td>\n",
       "      <td>NaN</td>\n",
       "      <td>NaN</td>\n",
       "      <td>NaN</td>\n",
       "      <td>NaN</td>\n",
       "    </tr>\n",
       "  </tbody>\n",
       "</table>\n",
       "<p>1012 rows × 11 columns</p>\n",
       "</div>"
      ],
      "text/plain": [
       "             0      1      2    3      4      5     6       7    8      9   \\\n",
       "0       0.00632  18.00   2.31  0.0  0.538  6.575  65.2  4.0900  1.0  296.0   \n",
       "1     396.90000   4.98  24.00  NaN    NaN    NaN   NaN     NaN  NaN    NaN   \n",
       "2       0.02731   0.00   7.07  0.0  0.469  6.421  78.9  4.9671  2.0  242.0   \n",
       "3     396.90000   9.14  21.60  NaN    NaN    NaN   NaN     NaN  NaN    NaN   \n",
       "4       0.02729   0.00   7.07  0.0  0.469  7.185  61.1  4.9671  2.0  242.0   \n",
       "...         ...    ...    ...  ...    ...    ...   ...     ...  ...    ...   \n",
       "1007  396.90000   5.64  23.90  NaN    NaN    NaN   NaN     NaN  NaN    NaN   \n",
       "1008    0.10959   0.00  11.93  0.0  0.573  6.794  89.3  2.3889  1.0  273.0   \n",
       "1009  393.45000   6.48  22.00  NaN    NaN    NaN   NaN     NaN  NaN    NaN   \n",
       "1010    0.04741   0.00  11.93  0.0  0.573  6.030  80.8  2.5050  1.0  273.0   \n",
       "1011  396.90000   7.88  11.90  NaN    NaN    NaN   NaN     NaN  NaN    NaN   \n",
       "\n",
       "        10  \n",
       "0     15.3  \n",
       "1      NaN  \n",
       "2     17.8  \n",
       "3      NaN  \n",
       "4     17.8  \n",
       "...    ...  \n",
       "1007   NaN  \n",
       "1008  21.0  \n",
       "1009   NaN  \n",
       "1010  21.0  \n",
       "1011   NaN  \n",
       "\n",
       "[1012 rows x 11 columns]"
      ]
     },
     "execution_count": 59,
     "metadata": {},
     "output_type": "execute_result"
    }
   ],
   "source": [
    "boston_dataset=raw_df\n",
    "boston_dataset"
   ]
  },
  {
   "cell_type": "code",
   "execution_count": 60,
   "id": "abbbd634-8411-4ee2-a84e-9a394cbfd840",
   "metadata": {},
   "outputs": [],
   "source": [
    "x_train,x_test,y_train,y_test=train_test_split(x,y,test_size=0.25,random_state=0)"
   ]
  },
  {
   "cell_type": "code",
   "execution_count": 61,
   "id": "184713f4-ff56-4da3-b1d3-a21fc16a285e",
   "metadata": {},
   "outputs": [
    {
     "data": {
      "text/html": [
       "<style>#sk-container-id-2 {color: black;background-color: white;}#sk-container-id-2 pre{padding: 0;}#sk-container-id-2 div.sk-toggleable {background-color: white;}#sk-container-id-2 label.sk-toggleable__label {cursor: pointer;display: block;width: 100%;margin-bottom: 0;padding: 0.3em;box-sizing: border-box;text-align: center;}#sk-container-id-2 label.sk-toggleable__label-arrow:before {content: \"▸\";float: left;margin-right: 0.25em;color: #696969;}#sk-container-id-2 label.sk-toggleable__label-arrow:hover:before {color: black;}#sk-container-id-2 div.sk-estimator:hover label.sk-toggleable__label-arrow:before {color: black;}#sk-container-id-2 div.sk-toggleable__content {max-height: 0;max-width: 0;overflow: hidden;text-align: left;background-color: #f0f8ff;}#sk-container-id-2 div.sk-toggleable__content pre {margin: 0.2em;color: black;border-radius: 0.25em;background-color: #f0f8ff;}#sk-container-id-2 input.sk-toggleable__control:checked~div.sk-toggleable__content {max-height: 200px;max-width: 100%;overflow: auto;}#sk-container-id-2 input.sk-toggleable__control:checked~label.sk-toggleable__label-arrow:before {content: \"▾\";}#sk-container-id-2 div.sk-estimator input.sk-toggleable__control:checked~label.sk-toggleable__label {background-color: #d4ebff;}#sk-container-id-2 div.sk-label input.sk-toggleable__control:checked~label.sk-toggleable__label {background-color: #d4ebff;}#sk-container-id-2 input.sk-hidden--visually {border: 0;clip: rect(1px 1px 1px 1px);clip: rect(1px, 1px, 1px, 1px);height: 1px;margin: -1px;overflow: hidden;padding: 0;position: absolute;width: 1px;}#sk-container-id-2 div.sk-estimator {font-family: monospace;background-color: #f0f8ff;border: 1px dotted black;border-radius: 0.25em;box-sizing: border-box;margin-bottom: 0.5em;}#sk-container-id-2 div.sk-estimator:hover {background-color: #d4ebff;}#sk-container-id-2 div.sk-parallel-item::after {content: \"\";width: 100%;border-bottom: 1px solid gray;flex-grow: 1;}#sk-container-id-2 div.sk-label:hover label.sk-toggleable__label {background-color: #d4ebff;}#sk-container-id-2 div.sk-serial::before {content: \"\";position: absolute;border-left: 1px solid gray;box-sizing: border-box;top: 0;bottom: 0;left: 50%;z-index: 0;}#sk-container-id-2 div.sk-serial {display: flex;flex-direction: column;align-items: center;background-color: white;padding-right: 0.2em;padding-left: 0.2em;position: relative;}#sk-container-id-2 div.sk-item {position: relative;z-index: 1;}#sk-container-id-2 div.sk-parallel {display: flex;align-items: stretch;justify-content: center;background-color: white;position: relative;}#sk-container-id-2 div.sk-item::before, #sk-container-id-2 div.sk-parallel-item::before {content: \"\";position: absolute;border-left: 1px solid gray;box-sizing: border-box;top: 0;bottom: 0;left: 50%;z-index: -1;}#sk-container-id-2 div.sk-parallel-item {display: flex;flex-direction: column;z-index: 1;position: relative;background-color: white;}#sk-container-id-2 div.sk-parallel-item:first-child::after {align-self: flex-end;width: 50%;}#sk-container-id-2 div.sk-parallel-item:last-child::after {align-self: flex-start;width: 50%;}#sk-container-id-2 div.sk-parallel-item:only-child::after {width: 0;}#sk-container-id-2 div.sk-dashed-wrapped {border: 1px dashed gray;margin: 0 0.4em 0.5em 0.4em;box-sizing: border-box;padding-bottom: 0.4em;background-color: white;}#sk-container-id-2 div.sk-label label {font-family: monospace;font-weight: bold;display: inline-block;line-height: 1.2em;}#sk-container-id-2 div.sk-label-container {text-align: center;}#sk-container-id-2 div.sk-container {/* jupyter's `normalize.less` sets `[hidden] { display: none; }` but bootstrap.min.css set `[hidden] { display: none !important; }` so we also need the `!important` here to be able to override the default hidden behavior on the sphinx rendered scikit-learn.org. See: https://github.com/scikit-learn/scikit-learn/issues/21755 */display: inline-block !important;position: relative;}#sk-container-id-2 div.sk-text-repr-fallback {display: none;}</style><div id=\"sk-container-id-2\" class=\"sk-top-container\"><div class=\"sk-text-repr-fallback\"><pre>LinearRegression()</pre><b>In a Jupyter environment, please rerun this cell to show the HTML representation or trust the notebook. <br />On GitHub, the HTML representation is unable to render, please try loading this page with nbviewer.org.</b></div><div class=\"sk-container\" hidden><div class=\"sk-item\"><div class=\"sk-estimator sk-toggleable\"><input class=\"sk-toggleable__control sk-hidden--visually\" id=\"sk-estimator-id-2\" type=\"checkbox\" checked><label for=\"sk-estimator-id-2\" class=\"sk-toggleable__label sk-toggleable__label-arrow\">LinearRegression</label><div class=\"sk-toggleable__content\"><pre>LinearRegression()</pre></div></div></div></div></div>"
      ],
      "text/plain": [
       "LinearRegression()"
      ]
     },
     "execution_count": 61,
     "metadata": {},
     "output_type": "execute_result"
    }
   ],
   "source": [
    "lreg=LinearRegression()\n",
    "lreg.fit(x_train,y_train)"
   ]
  },
  {
   "cell_type": "code",
   "execution_count": 62,
   "id": "4373a978-c9f2-400f-b26c-dd626a627f56",
   "metadata": {},
   "outputs": [],
   "source": [
    "y_pred=lreg.predict(x_test)"
   ]
  },
  {
   "cell_type": "code",
   "execution_count": 67,
   "id": "ef7e6742-8288-4e45-a1ff-59082abd0f5d",
   "metadata": {},
   "outputs": [],
   "source": [
    "lreg_coff=pd.DataFrame()\n",
    "lreg_coff['Columns']=x_train.columns\n",
    "lreg_coff['Cofficient']=pd.Series(lreg.coef_)"
   ]
  },
  {
   "cell_type": "code",
   "execution_count": 68,
   "id": "b3a7faa6-8f85-4391-a2b0-fbd8aaa628d8",
   "metadata": {},
   "outputs": [
    {
     "data": {
      "text/html": [
       "<div>\n",
       "<style scoped>\n",
       "    .dataframe tbody tr th:only-of-type {\n",
       "        vertical-align: middle;\n",
       "    }\n",
       "\n",
       "    .dataframe tbody tr th {\n",
       "        vertical-align: top;\n",
       "    }\n",
       "\n",
       "    .dataframe thead th {\n",
       "        text-align: right;\n",
       "    }\n",
       "</style>\n",
       "<table border=\"1\" class=\"dataframe\">\n",
       "  <thead>\n",
       "    <tr style=\"text-align: right;\">\n",
       "      <th></th>\n",
       "      <th>Columns</th>\n",
       "      <th>Cofficient</th>\n",
       "    </tr>\n",
       "  </thead>\n",
       "  <tbody>\n",
       "    <tr>\n",
       "      <th>0</th>\n",
       "      <td>Pregnancies</td>\n",
       "      <td>0.015115</td>\n",
       "    </tr>\n",
       "    <tr>\n",
       "      <th>1</th>\n",
       "      <td>Insulin</td>\n",
       "      <td>-0.000119</td>\n",
       "    </tr>\n",
       "    <tr>\n",
       "      <th>2</th>\n",
       "      <td>BMI</td>\n",
       "      <td>0.014168</td>\n",
       "    </tr>\n",
       "    <tr>\n",
       "      <th>3</th>\n",
       "      <td>Age</td>\n",
       "      <td>0.003623</td>\n",
       "    </tr>\n",
       "    <tr>\n",
       "      <th>4</th>\n",
       "      <td>Glucose</td>\n",
       "      <td>0.005652</td>\n",
       "    </tr>\n",
       "    <tr>\n",
       "      <th>5</th>\n",
       "      <td>BloodPressure</td>\n",
       "      <td>-0.002039</td>\n",
       "    </tr>\n",
       "    <tr>\n",
       "      <th>6</th>\n",
       "      <td>DiabetesPedigreeFunction</td>\n",
       "      <td>0.145175</td>\n",
       "    </tr>\n",
       "  </tbody>\n",
       "</table>\n",
       "</div>"
      ],
      "text/plain": [
       "                    Columns  Cofficient\n",
       "0               Pregnancies    0.015115\n",
       "1                   Insulin   -0.000119\n",
       "2                       BMI    0.014168\n",
       "3                       Age    0.003623\n",
       "4                   Glucose    0.005652\n",
       "5             BloodPressure   -0.002039\n",
       "6  DiabetesPedigreeFunction    0.145175"
      ]
     },
     "execution_count": 68,
     "metadata": {},
     "output_type": "execute_result"
    }
   ],
   "source": [
    "lreg_coff"
   ]
  },
  {
   "cell_type": "code",
   "execution_count": 83,
   "id": "d5dd8e6d-76f5-488a-8a22-647c102c4d28",
   "metadata": {},
   "outputs": [
    {
     "data": {
      "image/png": "[encoded data removed]",
      "text/plain": [
       "<Figure size 2000x1000 with 1 Axes>"
      ]
     },
     "metadata": {},
     "output_type": "display_data"
    }
   ],
   "source": [
    "fig,ax=plt.subplots(figsize=(20,10))\n",
    "ax.bar(['Pregnancies','Insulin','BMI','Age','Glucose','BloodPressure','DiabetesPedigreeFunction'],lreg_coff['Cofficient'])\n",
    "ax.spines['bottom'].set_position('zero')\n",
    "plt.show()"
   ]
  },
  {
   "cell_type": "code",
   "execution_count": 77,
   "id": "e6e1e217-ed8d-4ff9-ba6c-cf24659bff3c",
   "metadata": {},
   "outputs": [],
   "source": [
    "from sklearn.linear_model import Ridge\n",
    "\n",
    "ri=Ridge()\n",
    "ri.fit(x_train,y_train)\n",
    "ri_y_pred=ri.predict(x_test)"
   ]
  },
  {
   "cell_type": "code",
   "execution_count": 78,
   "id": "792826b2-870a-48d0-b854-7cdbe82919db",
   "metadata": {},
   "outputs": [],
   "source": [
    "ri_coff=pd.DataFrame()\n",
    "ri_coff['Columns']=x_train.columns\n",
    "ri_coff['Cofficient']=pd.Series(ri.coef_)"
   ]
  },
  {
   "cell_type": "code",
   "execution_count": 82,
   "id": "a9ecbb11-d08b-4f5a-9564-cfeb773d7026",
   "metadata": {},
   "outputs": [
    {
     "data": {
      "image/png": "[encoded data removed]",
      "text/plain": [
       "<Figure size 2000x1000 with 1 Axes>"
      ]
     },
     "metadata": {},
     "output_type": "display_data"
    }
   ],
   "source": [
    "fig,ax=plt.subplots(figsize=(20,10))\n",
    "ax.bar(['Pregnancies','Insulin','BMI','Age','Glucose','BloodPressure','DiabetesPedigreeFunction'],ri_coff['Cofficient'])\n",
    "ax.spines['bottom'].set_position('zero')\n",
    "plt.show()"
   ]
  },
  {
   "cell_type": "markdown",
   "id": "3ae4b5eb-50b7-45cd-93e1-a700abd5acb4",
   "metadata": {},
   "source": [
    "**Question 16: Use some function for neural networks, like Stochastic Gradient\r\n",
    "Descent or backpropagation - algorithm to predict the value of a variable based on\r\n",
    "the dataset of problem 1**4."
   ]
  },
  {
   "cell_type": "code",
   "execution_count": 84,
   "id": "bca9a12f-6013-4b16-b4bb-5f6a8114f7e5",
   "metadata": {},
   "outputs": [],
   "source": [
    "#import pandas as pd\n",
    "#from sklearn.model_selection import train_test_split\n",
    "#numpy as np\n",
    "from sklearn.linear_model import SGDClassifier\n",
    "#from sklearn import metrics"
   ]
  },
  {
   "cell_type": "code",
   "execution_count": 85,
   "id": "72e143b9-b138-440e-846b-6dcbd67609c9",
   "metadata": {},
   "outputs": [
    {
     "data": {
      "text/html": [
       "<div>\n",
       "<style scoped>\n",
       "    .dataframe tbody tr th:only-of-type {\n",
       "        vertical-align: middle;\n",
       "    }\n",
       "\n",
       "    .dataframe tbody tr th {\n",
       "        vertical-align: top;\n",
       "    }\n",
       "\n",
       "    .dataframe thead th {\n",
       "        text-align: right;\n",
       "    }\n",
       "</style>\n",
       "<table border=\"1\" class=\"dataframe\">\n",
       "  <thead>\n",
       "    <tr style=\"text-align: right;\">\n",
       "      <th></th>\n",
       "      <th>Pregnancies</th>\n",
       "      <th>Glucose</th>\n",
       "      <th>BloodPressure</th>\n",
       "      <th>SkinThickness</th>\n",
       "      <th>Insulin</th>\n",
       "      <th>BMI</th>\n",
       "      <th>DiabetesPedigreeFunction</th>\n",
       "      <th>Age</th>\n",
       "      <th>Outcome</th>\n",
       "    </tr>\n",
       "  </thead>\n",
       "  <tbody>\n",
       "    <tr>\n",
       "      <th>0</th>\n",
       "      <td>6</td>\n",
       "      <td>148</td>\n",
       "      <td>72</td>\n",
       "      <td>35</td>\n",
       "      <td>0</td>\n",
       "      <td>33.6</td>\n",
       "      <td>0.627</td>\n",
       "      <td>50</td>\n",
       "      <td>1</td>\n",
       "    </tr>\n",
       "    <tr>\n",
       "      <th>1</th>\n",
       "      <td>1</td>\n",
       "      <td>85</td>\n",
       "      <td>66</td>\n",
       "      <td>29</td>\n",
       "      <td>0</td>\n",
       "      <td>26.6</td>\n",
       "      <td>0.351</td>\n",
       "      <td>31</td>\n",
       "      <td>0</td>\n",
       "    </tr>\n",
       "    <tr>\n",
       "      <th>2</th>\n",
       "      <td>8</td>\n",
       "      <td>183</td>\n",
       "      <td>64</td>\n",
       "      <td>0</td>\n",
       "      <td>0</td>\n",
       "      <td>23.3</td>\n",
       "      <td>0.672</td>\n",
       "      <td>32</td>\n",
       "      <td>1</td>\n",
       "    </tr>\n",
       "    <tr>\n",
       "      <th>3</th>\n",
       "      <td>1</td>\n",
       "      <td>89</td>\n",
       "      <td>66</td>\n",
       "      <td>23</td>\n",
       "      <td>94</td>\n",
       "      <td>28.1</td>\n",
       "      <td>0.167</td>\n",
       "      <td>21</td>\n",
       "      <td>0</td>\n",
       "    </tr>\n",
       "    <tr>\n",
       "      <th>4</th>\n",
       "      <td>0</td>\n",
       "      <td>137</td>\n",
       "      <td>40</td>\n",
       "      <td>35</td>\n",
       "      <td>168</td>\n",
       "      <td>43.1</td>\n",
       "      <td>2.288</td>\n",
       "      <td>33</td>\n",
       "      <td>1</td>\n",
       "    </tr>\n",
       "    <tr>\n",
       "      <th>...</th>\n",
       "      <td>...</td>\n",
       "      <td>...</td>\n",
       "      <td>...</td>\n",
       "      <td>...</td>\n",
       "      <td>...</td>\n",
       "      <td>...</td>\n",
       "      <td>...</td>\n",
       "      <td>...</td>\n",
       "      <td>...</td>\n",
       "    </tr>\n",
       "    <tr>\n",
       "      <th>763</th>\n",
       "      <td>10</td>\n",
       "      <td>101</td>\n",
       "      <td>76</td>\n",
       "      <td>48</td>\n",
       "      <td>180</td>\n",
       "      <td>32.9</td>\n",
       "      <td>0.171</td>\n",
       "      <td>63</td>\n",
       "      <td>0</td>\n",
       "    </tr>\n",
       "    <tr>\n",
       "      <th>764</th>\n",
       "      <td>2</td>\n",
       "      <td>122</td>\n",
       "      <td>70</td>\n",
       "      <td>27</td>\n",
       "      <td>0</td>\n",
       "      <td>36.8</td>\n",
       "      <td>0.340</td>\n",
       "      <td>27</td>\n",
       "      <td>0</td>\n",
       "    </tr>\n",
       "    <tr>\n",
       "      <th>765</th>\n",
       "      <td>5</td>\n",
       "      <td>121</td>\n",
       "      <td>72</td>\n",
       "      <td>23</td>\n",
       "      <td>112</td>\n",
       "      <td>26.2</td>\n",
       "      <td>0.245</td>\n",
       "      <td>30</td>\n",
       "      <td>0</td>\n",
       "    </tr>\n",
       "    <tr>\n",
       "      <th>766</th>\n",
       "      <td>1</td>\n",
       "      <td>126</td>\n",
       "      <td>60</td>\n",
       "      <td>0</td>\n",
       "      <td>0</td>\n",
       "      <td>30.1</td>\n",
       "      <td>0.349</td>\n",
       "      <td>47</td>\n",
       "      <td>1</td>\n",
       "    </tr>\n",
       "    <tr>\n",
       "      <th>767</th>\n",
       "      <td>1</td>\n",
       "      <td>93</td>\n",
       "      <td>70</td>\n",
       "      <td>31</td>\n",
       "      <td>0</td>\n",
       "      <td>30.4</td>\n",
       "      <td>0.315</td>\n",
       "      <td>23</td>\n",
       "      <td>0</td>\n",
       "    </tr>\n",
       "  </tbody>\n",
       "</table>\n",
       "<p>768 rows × 9 columns</p>\n",
       "</div>"
      ],
      "text/plain": [
       "     Pregnancies  Glucose  BloodPressure  SkinThickness  Insulin   BMI  \\\n",
       "0              6      148             72             35        0  33.6   \n",
       "1              1       85             66             29        0  26.6   \n",
       "2              8      183             64              0        0  23.3   \n",
       "3              1       89             66             23       94  28.1   \n",
       "4              0      137             40             35      168  43.1   \n",
       "..           ...      ...            ...            ...      ...   ...   \n",
       "763           10      101             76             48      180  32.9   \n",
       "764            2      122             70             27        0  36.8   \n",
       "765            5      121             72             23      112  26.2   \n",
       "766            1      126             60              0        0  30.1   \n",
       "767            1       93             70             31        0  30.4   \n",
       "\n",
       "     DiabetesPedigreeFunction  Age  Outcome  \n",
       "0                       0.627   50        1  \n",
       "1                       0.351   31        0  \n",
       "2                       0.672   32        1  \n",
       "3                       0.167   21        0  \n",
       "4                       2.288   33        1  \n",
       "..                        ...  ...      ...  \n",
       "763                     0.171   63        0  \n",
       "764                     0.340   27        0  \n",
       "765                     0.245   30        0  \n",
       "766                     0.349   47        1  \n",
       "767                     0.315   23        0  \n",
       "\n",
       "[768 rows x 9 columns]"
      ]
     },
     "execution_count": 85,
     "metadata": {},
     "output_type": "execute_result"
    }
   ],
   "source": [
    "df=pd.read_csv('diabetes.csv')\n",
    "df"
   ]
  },
  {
   "cell_type": "code",
   "execution_count": 86,
   "id": "be4362e9-599b-458c-b78e-e1ff5c5909c1",
   "metadata": {},
   "outputs": [],
   "source": [
    "feature_cols=['Pregnancies','Insulin','BMI','Age','Glucose','BloodPressure','DiabetesPedigreeFunction']\n",
    "x=df[feature_cols]\n",
    "y=df.Outcome"
   ]
  },
  {
   "cell_type": "code",
   "execution_count": 87,
   "id": "79f06631-145d-419e-a712-443530447692",
   "metadata": {},
   "outputs": [],
   "source": [
    "x_train,x_test,y_train,y_test=train_test_split(x,y,test_size=0.25,random_state=0)"
   ]
  },
  {
   "cell_type": "code",
   "execution_count": 88,
   "id": "b52c4116-69df-40d0-9f7d-69193a56878a",
   "metadata": {},
   "outputs": [],
   "source": [
    "sgdc=SGDClassifier(max_iter=100,)\n",
    "sgdc.fit(x_train,y_train)\n",
    "y_pred=sgdc.predict(x_test)"
   ]
  },
  {
   "cell_type": "code",
   "execution_count": 89,
   "id": "00b51b5b-e978-4607-bdb5-19085ecbb2a7",
   "metadata": {},
   "outputs": [
    {
     "name": "stdout",
     "output_type": "stream",
     "text": [
      "Accuracy: 0.359375\n",
      "Precision: 0.33513513513513515\n",
      "Recall: 1.0\n",
      "F1-score 0.359375\n"
     ]
    }
   ],
   "source": [
    "print(\"Accuracy:\",metrics.accuracy_score(y_test,y_pred))\n",
    "print(\"Precision:\",metrics.precision_score(y_test,y_pred))\n",
    "print(\"Recall:\",metrics.recall_score(y_test,y_pred))\n",
    "print(\"F1-score\",metrics.accuracy_score(y_test,y_pred))"
   ]
  },
  {
   "cell_type": "code",
   "execution_count": 90,
   "id": "0a7d4214-09df-472f-bd8c-b2b846732984",
   "metadata": {},
   "outputs": [
    {
     "data": {
      "text/plain": [
       "array([[  7, 123],\n",
       "       [  0,  62]], dtype=int64)"
      ]
     },
     "execution_count": 90,
     "metadata": {},
     "output_type": "execute_result"
    }
   ],
   "source": [
    "cnf_matrix=metrics.confusion_matrix(y_test,y_pred)\n",
    "cnf_matrix"
   ]
  }
 ],
 "metadata": {
  "kernelspec": {
   "display_name": "Python 3 (ipykernel)",
   "language": "python",
   "name": "python3"
  },
  "language_info": {
   "codemirror_mode": {
    "name": "ipython",
    "version": 3
   },
   "file_extension": ".py",
   "mimetype": "text/x-python",
   "name": "python",
   "nbconvert_exporter": "python",
   "pygments_lexer": "ipython3",
   "version": "3.11.7"
  }
 },
 "nbformat": 4,
 "nbformat_minor": 5
}
